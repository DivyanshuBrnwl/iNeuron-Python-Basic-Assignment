{
 "cells": [
  {
   "cell_type": "markdown",
   "id": "e83811c4",
   "metadata": {},
   "source": [
    "Question1\n",
    "Create a function that takes a string and returns a string in which each character is repeated\n",
    "once."
   ]
  },
  {
   "cell_type": "code",
   "execution_count": 4,
   "id": "43fb6296",
   "metadata": {},
   "outputs": [],
   "source": [
    "def double_repeatition(string):\n",
    "    result = ''\n",
    "    for i in string:\n",
    "        result +=i*2\n",
    "    print(result)"
   ]
  },
  {
   "cell_type": "code",
   "execution_count": 5,
   "id": "3e7c15b2",
   "metadata": {},
   "outputs": [
    {
     "name": "stdout",
     "output_type": "stream",
     "text": [
      "ssttrriinngg\n"
     ]
    }
   ],
   "source": [
    "double_repeatition('string')"
   ]
  },
  {
   "cell_type": "markdown",
   "id": "e45a2871",
   "metadata": {},
   "source": [
    "Question2\n",
    "Create a function that reverses a boolean value and returns the string 'boolean expected'\n",
    "if another variable type is given."
   ]
  },
  {
   "cell_type": "code",
   "execution_count": 28,
   "id": "d53d9dd3",
   "metadata": {},
   "outputs": [],
   "source": [
    "def reverse_bool():\n",
    "    a = input('enter any boolean:- ')\n",
    "    if a == 'True':\n",
    "        print('False')\n",
    "    elif a == 'False':\n",
    "        print('True')\n",
    "    else:\n",
    "        print('boolean expected')"
   ]
  },
  {
   "cell_type": "code",
   "execution_count": 31,
   "id": "227e0f32",
   "metadata": {},
   "outputs": [
    {
     "name": "stdout",
     "output_type": "stream",
     "text": [
      "enter any boolean:- jhsd\n",
      "boolean expected\n"
     ]
    }
   ],
   "source": [
    "reverse_bool()"
   ]
  },
  {
   "cell_type": "code",
   "execution_count": null,
   "id": "4d8327b4",
   "metadata": {},
   "outputs": [],
   "source": [
    "Question3\n",
    "Create a function that returns the thickness (in meters) of a piece of paper after folding it n\n",
    "number of times. The paper starts off with a thickness of 0.5mm."
   ]
  },
  {
   "cell_type": "code",
   "execution_count": 36,
   "id": "38adc71d",
   "metadata": {},
   "outputs": [],
   "source": [
    "def fold_thickness():\n",
    "    n = int(input('Enter the number of folds you want to do:- '))\n",
    "    print(f\"{(0.5*2**n)/1000}m\")"
   ]
  },
  {
   "cell_type": "code",
   "execution_count": 37,
   "id": "f6d798e7",
   "metadata": {},
   "outputs": [
    {
     "name": "stdout",
     "output_type": "stream",
     "text": [
      "Enter the number of folds you want to do:- 21\n",
      "1048.576m\n"
     ]
    }
   ],
   "source": [
    "fold_thickness()"
   ]
  },
  {
   "cell_type": "markdown",
   "id": "9e7ab329",
   "metadata": {},
   "source": [
    "Question4\n",
    "\n",
    "Create a function that takes a single string as argument and returns an ordered list containing\n",
    "the indices of all capital letters in the string."
   ]
  },
  {
   "cell_type": "code",
   "execution_count": 42,
   "id": "cf729a51",
   "metadata": {},
   "outputs": [],
   "source": [
    "def capital_index():\n",
    "    string = str(input(\"Enter any string:- \"))\n",
    "    capital = 'ABCDEFGHIJKLMNOPQRSTUVWXYZ'\n",
    "    index = []\n",
    "    for i in string:\n",
    "        if i in capital:\n",
    "            index.append(string.index(i))\n",
    "    print(index)"
   ]
  },
  {
   "cell_type": "code",
   "execution_count": 43,
   "id": "e05395a5",
   "metadata": {},
   "outputs": [
    {
     "name": "stdout",
     "output_type": "stream",
     "text": [
      "Enter any string:- My Name Is Divyanshu Kumar\n",
      "[0, 3, 8, 11, 21]\n"
     ]
    }
   ],
   "source": [
    "capital_index()"
   ]
  },
  {
   "cell_type": "markdown",
   "id": "69f001a6",
   "metadata": {},
   "source": [
    "Question5\n",
    "Using list comprehensions, create a function that finds all even numbers from 1 to the given\n",
    "number."
   ]
  },
  {
   "cell_type": "code",
   "execution_count": 50,
   "id": "a64efb8c",
   "metadata": {},
   "outputs": [],
   "source": [
    "def even(n):\n",
    "    a = [i for i in range(2, n) if i % 2 == 0]\n",
    "    print(a)"
   ]
  },
  {
   "cell_type": "code",
   "execution_count": 51,
   "id": "357856e0",
   "metadata": {},
   "outputs": [
    {
     "name": "stdout",
     "output_type": "stream",
     "text": [
      "[2, 4, 6, 8, 10, 12, 14, 16, 18]\n"
     ]
    }
   ],
   "source": [
    "even(20)"
   ]
  },
  {
   "cell_type": "code",
   "execution_count": null,
   "id": "c430f519",
   "metadata": {},
   "outputs": [],
   "source": []
  }
 ],
 "metadata": {
  "kernelspec": {
   "display_name": "Python 3 (ipykernel)",
   "language": "python",
   "name": "python3"
  },
  "language_info": {
   "codemirror_mode": {
    "name": "ipython",
    "version": 3
   },
   "file_extension": ".py",
   "mimetype": "text/x-python",
   "name": "python",
   "nbconvert_exporter": "python",
   "pygments_lexer": "ipython3",
   "version": "3.9.12"
  }
 },
 "nbformat": 4,
 "nbformat_minor": 5
}
