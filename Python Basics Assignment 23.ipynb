{
 "cells": [
  {
   "cell_type": "markdown",
   "id": "e1a86ad0",
   "metadata": {},
   "source": [
    "1. What is the result of the code, and why?\n",
    "&gt;&gt;&gt; def func(a, b=6, c=8):\n",
    "print(a, b, c)\n",
    "&gt;&gt;&gt; func(1, 2)"
   ]
  },
  {
   "cell_type": "code",
   "execution_count": 1,
   "id": "18aa0185",
   "metadata": {},
   "outputs": [],
   "source": [
    "def func(a, b=6, c=8):\n",
    "    print(a, b, c)"
   ]
  },
  {
   "cell_type": "code",
   "execution_count": 2,
   "id": "7014a981",
   "metadata": {},
   "outputs": [
    {
     "name": "stdout",
     "output_type": "stream",
     "text": [
      "1 2 8\n"
     ]
    }
   ],
   "source": [
    "func(1, 2)"
   ]
  },
  {
   "cell_type": "markdown",
   "id": "909f66b2",
   "metadata": {},
   "source": [
    "positional argument for a is given when function is passed, default positional argument for b is given but func() used updated value\n",
    "and positional argument of c is not updated, therefore func() used default value of c."
   ]
  },
  {
   "cell_type": "markdown",
   "id": "c8082d3c",
   "metadata": {},
   "source": [
    "2. What is the result of this code, and why?\n",
    "&gt;&gt;&gt; def func(a, b, c=5):\n",
    "print(a, b, c)\n",
    "&gt;&gt;&gt; func(1, c=3, b=2)"
   ]
  },
  {
   "cell_type": "code",
   "execution_count": 3,
   "id": "429ba6e0",
   "metadata": {},
   "outputs": [],
   "source": [
    "def func(a, b, c=5):\n",
    "    print(a, b, c)"
   ]
  },
  {
   "cell_type": "code",
   "execution_count": 4,
   "id": "1fde5e0e",
   "metadata": {},
   "outputs": [
    {
     "name": "stdout",
     "output_type": "stream",
     "text": [
      "1 2 3\n"
     ]
    }
   ],
   "source": [
    "func(1, c = 3, b = 2)"
   ]
  },
  {
   "cell_type": "markdown",
   "id": "2e360517",
   "metadata": {},
   "source": [
    "positional argument for a is given when function is passed, positional argument for b is given when it is passed and default positional argument of c is given but updated when func() is passed, therefore func() gives 1, 2, 3"
   ]
  },
  {
   "cell_type": "markdown",
   "id": "bb9f4692",
   "metadata": {},
   "source": [
    "3. How about this code: what is its result, and why?\n",
    "&gt;&gt;&gt; def func(a, *pargs):\n",
    "print(a, pargs)\n",
    "&gt;&gt;&gt; func(1, 2, 3)"
   ]
  },
  {
   "cell_type": "code",
   "execution_count": 7,
   "id": "2b70b575",
   "metadata": {},
   "outputs": [],
   "source": [
    "def func(a, *pargs):\n",
    "    print(a, pargs)"
   ]
  },
  {
   "cell_type": "code",
   "execution_count": 8,
   "id": "02f9d5a9",
   "metadata": {},
   "outputs": [
    {
     "name": "stdout",
     "output_type": "stream",
     "text": [
      "1 (2, 3)\n"
     ]
    }
   ],
   "source": [
    "func(1, 2, 3)"
   ]
  },
  {
   "cell_type": "markdown",
   "id": "32e802d9",
   "metadata": {},
   "source": [
    "Here 'a' Positional argument updated with 1 and *pargs can take many positioanal argument at a time."
   ]
  },
  {
   "cell_type": "markdown",
   "id": "55a80841",
   "metadata": {},
   "source": [
    "4. What does this code print, and why?\n",
    "&gt;&gt;&gt; def func(a, **kargs):\n",
    "print(a, kargs)\n",
    "&gt;&gt;&gt; func(a=1, c=3, b=2)"
   ]
  },
  {
   "cell_type": "code",
   "execution_count": 9,
   "id": "fa092b38",
   "metadata": {},
   "outputs": [],
   "source": [
    "def func(a, **kargs):\n",
    "    print(a, kargs)"
   ]
  },
  {
   "cell_type": "code",
   "execution_count": 10,
   "id": "ab1cdd43",
   "metadata": {},
   "outputs": [
    {
     "name": "stdout",
     "output_type": "stream",
     "text": [
      "1 {'c': 3, 'b': 2}\n"
     ]
    }
   ],
   "source": [
    "func(a = 1, c = 3, b = 2)"
   ]
  },
  {
   "cell_type": "markdown",
   "id": "455dd064",
   "metadata": {},
   "source": [
    "Here 'a' Positional argument updated with 1 and '**kargs' can take many key value pair argument at a time."
   ]
  },
  {
   "cell_type": "markdown",
   "id": "6727ae9c",
   "metadata": {},
   "source": [
    "5. What gets printed by this, and explain?\n",
    "&gt;&gt;&gt; def func(a, b, c=8, d=5): print(a, b, c, d)\n",
    "&gt;&gt;&gt; func(1, *(5, 6))"
   ]
  },
  {
   "cell_type": "code",
   "execution_count": 11,
   "id": "ba32583c",
   "metadata": {},
   "outputs": [],
   "source": [
    "def func(a, b, c=8, d=5):\n",
    "    print(a, b, c, d) "
   ]
  },
  {
   "cell_type": "code",
   "execution_count": 12,
   "id": "6d95bceb",
   "metadata": {},
   "outputs": [
    {
     "name": "stdout",
     "output_type": "stream",
     "text": [
      "1 5 6 5\n"
     ]
    }
   ],
   "source": [
    "func(1, *(5, 6))"
   ]
  },
  {
   "cell_type": "markdown",
   "id": "7b659b9d",
   "metadata": {},
   "source": [
    "func(1, *(5, 6)), the * operator is used to unpack the tuple (5, 6) into separate arguments. This means that the function call is equivalent to func(1, 5, 6).\n",
    "And 'd' has default argument 5."
   ]
  },
  {
   "cell_type": "markdown",
   "id": "09e478fc",
   "metadata": {},
   "source": [
    "6. what is the result of this, and explain?\n",
    "&gt;&gt;&gt; def func(a, b, c): a = 2; b[0] = &#39;x&#39;; c[&#39;a&#39;] = &#39;y&#39;\n",
    "&gt;&gt;&gt; l=1; m=[1]; n={&#39;a&#39;:0}\n",
    "&gt;&gt;&gt; func(l, m, n)\n",
    "\n",
    "&gt;&gt;&gt; l, m, n"
   ]
  },
  {
   "cell_type": "code",
   "execution_count": 8,
   "id": "896fecce",
   "metadata": {},
   "outputs": [
    {
     "data": {
      "text/plain": [
       "(1, ['x'], {'a': 'y'})"
      ]
     },
     "execution_count": 8,
     "metadata": {},
     "output_type": "execute_result"
    }
   ],
   "source": [
    "def func(a, b, c):\n",
    "    a = 2; b[0] = 'x'; c['a'] = 'y'\n",
    "l=1; m=[1]; n={'a':0}\n",
    "func(l, m, n)\n",
    "l, m, n"
   ]
  },
  {
   "cell_type": "markdown",
   "id": "f8bad0a0",
   "metadata": {},
   "source": [
    "Here, l is taking integer positional argument, b is taking a list and assigning it to 'x' as it is mutable and c is taking\n",
    "a dictionary and updating its key 'a' to value to 'y'."
   ]
  },
  {
   "cell_type": "code",
   "execution_count": null,
   "id": "5337259d",
   "metadata": {},
   "outputs": [],
   "source": []
  }
 ],
 "metadata": {
  "kernelspec": {
   "display_name": "Python 3 (ipykernel)",
   "language": "python",
   "name": "python3"
  },
  "language_info": {
   "codemirror_mode": {
    "name": "ipython",
    "version": 3
   },
   "file_extension": ".py",
   "mimetype": "text/x-python",
   "name": "python",
   "nbconvert_exporter": "python",
   "pygments_lexer": "ipython3",
   "version": "3.9.12"
  }
 },
 "nbformat": 4,
 "nbformat_minor": 5
}
