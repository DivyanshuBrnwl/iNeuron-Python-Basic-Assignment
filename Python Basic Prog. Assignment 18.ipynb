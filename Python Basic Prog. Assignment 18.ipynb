{
 "cells": [
  {
   "cell_type": "markdown",
   "id": "aaade8ab",
   "metadata": {},
   "source": [
    "Question 1\n",
    "Create a function that takes a list of non-negative integers and strings and return a new list\n",
    "without the strings."
   ]
  },
  {
   "cell_type": "code",
   "execution_count": 3,
   "id": "87c1fba0",
   "metadata": {},
   "outputs": [],
   "source": [
    "def int_list(list1):\n",
    "    list2=[]\n",
    "    for i in list1:\n",
    "        if type(i) == int:\n",
    "            list2.append(i)\n",
    "    print(list2)       "
   ]
  },
  {
   "cell_type": "code",
   "execution_count": 4,
   "id": "74798733",
   "metadata": {},
   "outputs": [
    {
     "name": "stdout",
     "output_type": "stream",
     "text": [
      "[1, 2, 123]\n"
     ]
    }
   ],
   "source": [
    "int_list([1, 2, 'asrdd', '123', 123])"
   ]
  },
  {
   "cell_type": "markdown",
   "id": "37186cdd",
   "metadata": {},
   "source": [
    "Question 2\n",
    "The 'Reverser' takes a string as input and returns that string in reverse order, with the\n",
    "opposite case."
   ]
  },
  {
   "cell_type": "code",
   "execution_count": 14,
   "id": "aedecc5e",
   "metadata": {},
   "outputs": [],
   "source": [
    "def reverse():\n",
    "    string = str(input(\"Enter the string:- \"))\n",
    "    rev_str = string[-1: 0: -1]\n",
    "    print(rev_str)"
   ]
  },
  {
   "cell_type": "code",
   "execution_count": 12,
   "id": "4178acb5",
   "metadata": {},
   "outputs": [
    {
     "name": "stdout",
     "output_type": "stream",
     "text": [
      "RAMUK UHSNAYVI\n"
     ]
    }
   ],
   "source": [
    "# name = 'DIVYANSHU KUMAR'\n",
    "# print(name[-1: 0: -1])\n"
   ]
  },
  {
   "cell_type": "code",
   "execution_count": 15,
   "id": "1ad815e7",
   "metadata": {},
   "outputs": [
    {
     "name": "stdout",
     "output_type": "stream",
     "text": [
      "Enter the string:- DIVYANSHU KUMAR\n",
      "RAMUK UHSNAYVI\n"
     ]
    }
   ],
   "source": [
    "reverse()"
   ]
  },
  {
   "cell_type": "markdown",
   "id": "8dee6993",
   "metadata": {},
   "source": [
    "Question 3\n",
    "With Python 3, you can assign variables from lists in a much more succinct way. Create\n",
    "variables first, middle and last from the given list using destructuring assignment\n",
    "(check the Resources tab for some examples), where:\n",
    "first ➞ 1\n",
    "middle ➞ [2, 3, 4, 5]\n",
    "last ➞ 6\n",
    "\n",
    "Your task is to unpack the list writeyourcodehere into three variables, being first,\n",
    "middle, and last, with middle being everything in between the first and last element. Then\n",
    "print all three variables."
   ]
  },
  {
   "cell_type": "code",
   "execution_count": 21,
   "id": "ca05c845",
   "metadata": {},
   "outputs": [
    {
     "data": {
      "text/plain": [
       "1"
      ]
     },
     "execution_count": 21,
     "metadata": {},
     "output_type": "execute_result"
    }
   ],
   "source": [
    "lst = [1, 2, 3, 4, 5, 6]\n",
    "first ,*middle,last = lst\n",
    "first"
   ]
  },
  {
   "cell_type": "code",
   "execution_count": 22,
   "id": "6bd5bd68",
   "metadata": {},
   "outputs": [
    {
     "data": {
      "text/plain": [
       "[2, 3, 4, 5]"
      ]
     },
     "execution_count": 22,
     "metadata": {},
     "output_type": "execute_result"
    }
   ],
   "source": [
    "middle"
   ]
  },
  {
   "cell_type": "code",
   "execution_count": 23,
   "id": "bbd0d320",
   "metadata": {},
   "outputs": [
    {
     "data": {
      "text/plain": [
       "6"
      ]
     },
     "execution_count": 23,
     "metadata": {},
     "output_type": "execute_result"
    }
   ],
   "source": [
    "last"
   ]
  },
  {
   "cell_type": "markdown",
   "id": "66df8493",
   "metadata": {},
   "source": [
    "Question 4\n",
    "Write a function that calculates the factorial of a number recursively."
   ]
  },
  {
   "cell_type": "code",
   "execution_count": 26,
   "id": "896babb1",
   "metadata": {},
   "outputs": [],
   "source": [
    "def fact(num):\n",
    "    if num == 0:\n",
    "        return 1\n",
    "    else:\n",
    "        return num * fact(num - 1)"
   ]
  },
  {
   "cell_type": "code",
   "execution_count": 27,
   "id": "b088f925",
   "metadata": {},
   "outputs": [
    {
     "data": {
      "text/plain": [
       "120"
      ]
     },
     "execution_count": 27,
     "metadata": {},
     "output_type": "execute_result"
    }
   ],
   "source": [
    "fact(5)"
   ]
  },
  {
   "cell_type": "markdown",
   "id": "8c52514d",
   "metadata": {},
   "source": [
    "Question 5\n",
    "Write a function that moves all elements of one type to the end of the list."
   ]
  },
  {
   "cell_type": "code",
   "execution_count": 67,
   "id": "0c30900b",
   "metadata": {},
   "outputs": [],
   "source": [
    "def move_to_end(lst, el):\n",
    "    return [i for i in lst if i != el] + [i for i in lst if i == el]\n"
   ]
  },
  {
   "cell_type": "code",
   "execution_count": null,
   "id": "0c43a4bf",
   "metadata": {},
   "outputs": [],
   "source": []
  }
 ],
 "metadata": {
  "kernelspec": {
   "display_name": "Python 3 (ipykernel)",
   "language": "python",
   "name": "python3"
  },
  "language_info": {
   "codemirror_mode": {
    "name": "ipython",
    "version": 3
   },
   "file_extension": ".py",
   "mimetype": "text/x-python",
   "name": "python",
   "nbconvert_exporter": "python",
   "pygments_lexer": "ipython3",
   "version": "3.9.12"
  }
 },
 "nbformat": 4,
 "nbformat_minor": 5
}
