{
 "cells": [
  {
   "cell_type": "markdown",
   "id": "382b1cbf",
   "metadata": {},
   "source": [
    "1. Why are functions advantageous to have in your programs?"
   ]
  },
  {
   "cell_type": "markdown",
   "id": "1a00eceb",
   "metadata": {},
   "source": [
    "a:- It increases the reusablity of the program\n",
    "b:- We can call Python functions multiple times in a program and anywhere in a program.\n",
    "c:- We can track a large Python program easily when it is divided into multiple functions.\n",
    "d:- Function increases code readablity."
   ]
  },
  {
   "cell_type": "markdown",
   "id": "6c33fa9f",
   "metadata": {},
   "source": [
    "2. When does the code in a function run: when it's specified or when it's called?"
   ]
  },
  {
   "cell_type": "markdown",
   "id": "4729a160",
   "metadata": {},
   "source": [
    "The code of the function runs when it is called"
   ]
  },
  {
   "cell_type": "markdown",
   "id": "8ac55235",
   "metadata": {},
   "source": [
    "3. What statement creates a function?"
   ]
  },
  {
   "cell_type": "markdown",
   "id": "0c889784",
   "metadata": {},
   "source": [
    "The function is created using 'def' keyword and using zero or more number of arguments."
   ]
  },
  {
   "cell_type": "markdown",
   "id": "f0c86415",
   "metadata": {},
   "source": [
    "4. What is the difference between a function and a function call?"
   ]
  },
  {
   "cell_type": "markdown",
   "id": "8e6013a6",
   "metadata": {},
   "source": [
    "Python Functions is a block of statements that return the specific task and function call is used to \n",
    "perform that specific task."
   ]
  },
  {
   "cell_type": "markdown",
   "id": "de144a38",
   "metadata": {},
   "source": [
    "5. How many global scopes are there in a Python program? How many local scopes?"
   ]
  },
  {
   "cell_type": "markdown",
   "id": "c9111d53",
   "metadata": {},
   "source": [
    "There is only one local scope and one global scope in the python program"
   ]
  },
  {
   "cell_type": "markdown",
   "id": "d117579d",
   "metadata": {},
   "source": [
    "6. What happens to variables in a local scope when the function call returns?"
   ]
  },
  {
   "cell_type": "markdown",
   "id": "4608570f",
   "metadata": {},
   "source": [
    "When function call returns, it is only available inside the function and not outside the function."
   ]
  },
  {
   "cell_type": "markdown",
   "id": "10722d8f",
   "metadata": {},
   "source": [
    "7. What is the concept of a return value? Is it possible to have a return value in an expression?"
   ]
  },
  {
   "cell_type": "markdown",
   "id": "dc29384f",
   "metadata": {},
   "source": [
    "Return values are just what they sound like — the values that a function returns when it completes. we've already met return values several times, although we may not have thought about them explicitly.\n",
    "\n",
    "Yes, it is possible but only if it is inside the function."
   ]
  },
  {
   "cell_type": "markdown",
   "id": "a6321a96",
   "metadata": {},
   "source": [
    "8. If a function does not have a return statement, what is the return value of a call to that function?"
   ]
  },
  {
   "cell_type": "markdown",
   "id": "bb288bb0",
   "metadata": {},
   "source": [
    "If a function does not have return statement, the value of a call to that function return nothing."
   ]
  },
  {
   "cell_type": "code",
   "execution_count": 1,
   "id": "13b80a12",
   "metadata": {},
   "outputs": [],
   "source": [
    "def test1(a, b, c):\n",
    "    return"
   ]
  },
  {
   "cell_type": "code",
   "execution_count": 2,
   "id": "9f3f49bb",
   "metadata": {},
   "outputs": [],
   "source": [
    "test1(3, 4, 5)"
   ]
  },
  {
   "cell_type": "markdown",
   "id": "0691d88e",
   "metadata": {},
   "source": [
    "9. How do you make a function variable refer to the global variable?"
   ]
  },
  {
   "cell_type": "code",
   "execution_count": 5,
   "id": "54ce8c63",
   "metadata": {},
   "outputs": [],
   "source": [
    "name = 'Divyanshu' #this is a global variable\n",
    "def test2():\n",
    "    global name\n",
    "    print(f\"My name is {name}\")\n",
    "    name = \"Ramesh\" #this is a local variable\n",
    "    print(f\"My name is {name}\")"
   ]
  },
  {
   "cell_type": "code",
   "execution_count": 6,
   "id": "7dad0d40",
   "metadata": {},
   "outputs": [
    {
     "name": "stdout",
     "output_type": "stream",
     "text": [
      "My name is Divyanshu\n",
      "My name is Ramesh\n"
     ]
    }
   ],
   "source": [
    "test2()"
   ]
  },
  {
   "cell_type": "markdown",
   "id": "82988771",
   "metadata": {},
   "source": [
    "10. What is the data type of None?"
   ]
  },
  {
   "cell_type": "markdown",
   "id": "a64629dc",
   "metadata": {},
   "source": [
    "Data type of None is 'NoneType'."
   ]
  },
  {
   "cell_type": "markdown",
   "id": "4d1fa702",
   "metadata": {},
   "source": [
    "11. What does the sentence import areallyourpetsnamederic do?"
   ]
  },
  {
   "cell_type": "code",
   "execution_count": 8,
   "id": "7129bd1f",
   "metadata": {},
   "outputs": [
    {
     "ename": "ModuleNotFoundError",
     "evalue": "No module named 'areallyourpetsnamederic'",
     "output_type": "error",
     "traceback": [
      "\u001b[1;31m---------------------------------------------------------------------------\u001b[0m",
      "\u001b[1;31mModuleNotFoundError\u001b[0m                       Traceback (most recent call last)",
      "Input \u001b[1;32mIn [8]\u001b[0m, in \u001b[0;36m<cell line: 1>\u001b[1;34m()\u001b[0m\n\u001b[1;32m----> 1\u001b[0m \u001b[38;5;28;01mimport\u001b[39;00m \u001b[38;5;21;01mareallyourpetsnamederic\u001b[39;00m\n",
      "\u001b[1;31mModuleNotFoundError\u001b[0m: No module named 'areallyourpetsnamederic'"
     ]
    }
   ],
   "source": [
    "import areallyourpetsnamederic"
   ]
  },
  {
   "cell_type": "markdown",
   "id": "54ad65c7",
   "metadata": {},
   "source": [
    "12. If you had a bacon() feature in a spam module, what would you call it after importing spam?"
   ]
  },
  {
   "cell_type": "markdown",
   "id": "a6637f93",
   "metadata": {},
   "source": [
    "If I had a bacon() feature in a spam module,I would you call it given below:-\n",
    "import spam\n",
    "spam.bacon()"
   ]
  },
  {
   "cell_type": "markdown",
   "id": "11d2bbe1",
   "metadata": {},
   "source": [
    "13. What can you do to save a programme from crashing if it encounters an error?"
   ]
  },
  {
   "cell_type": "markdown",
   "id": "9339aac1",
   "metadata": {},
   "source": [
    "We can write lines of code in try block. This will not crash the program. And in except block we catch the exception."
   ]
  },
  {
   "cell_type": "markdown",
   "id": "3078e522",
   "metadata": {},
   "source": [
    "14. What is the purpose of the try clause? What is the purpose of the except clause?"
   ]
  },
  {
   "cell_type": "markdown",
   "id": "263c6ea5",
   "metadata": {},
   "source": [
    "The try block is used to check some code for errors i.e the code inside the try block will execute when there is no error in the program. Whereas the code inside the except block will execute whenever the program encounters some error in the preceding try block."
   ]
  },
  {
   "cell_type": "code",
   "execution_count": null,
   "id": "06de1157",
   "metadata": {},
   "outputs": [],
   "source": []
  }
 ],
 "metadata": {
  "kernelspec": {
   "display_name": "Python 3 (ipykernel)",
   "language": "python",
   "name": "python3"
  },
  "language_info": {
   "codemirror_mode": {
    "name": "ipython",
    "version": 3
   },
   "file_extension": ".py",
   "mimetype": "text/x-python",
   "name": "python",
   "nbconvert_exporter": "python",
   "pygments_lexer": "ipython3",
   "version": "3.9.12"
  }
 },
 "nbformat": 4,
 "nbformat_minor": 5
}
