{
 "cells": [
  {
   "cell_type": "markdown",
   "id": "22c87982",
   "metadata": {},
   "source": [
    "1. What is the name of the feature responsible for generating Regex objects?"
   ]
  },
  {
   "cell_type": "code",
   "execution_count": 1,
   "id": "6d1ad422",
   "metadata": {},
   "outputs": [
    {
     "data": {
      "text/plain": [
       "re.compile(r'string', re.UNICODE)"
      ]
     },
     "execution_count": 1,
     "metadata": {},
     "output_type": "execute_result"
    }
   ],
   "source": [
    "import re\n",
    "re.compile(\"string\")"
   ]
  },
  {
   "cell_type": "markdown",
   "id": "771d0ae7",
   "metadata": {},
   "source": [
    "2. Why do raw strings often appear in Regex objects?"
   ]
  },
  {
   "cell_type": "markdown",
   "id": "9d5d1a2d",
   "metadata": {},
   "source": [
    "Raw strings often appear in Regex objects so that it cannot take backslash as escape sequence character"
   ]
  },
  {
   "cell_type": "markdown",
   "id": "b7e52468",
   "metadata": {},
   "source": [
    "3. What is the return value of the search() method?"
   ]
  },
  {
   "cell_type": "code",
   "execution_count": 4,
   "id": "06f15d95",
   "metadata": {},
   "outputs": [],
   "source": [
    "string = \"The quick brown fox jump over the lazy dog\"\n",
    "pattern = \"fox\""
   ]
  },
  {
   "cell_type": "code",
   "execution_count": 8,
   "id": "75db842f",
   "metadata": {},
   "outputs": [],
   "source": [
    "result = re.search(pattern, string)"
   ]
  },
  {
   "cell_type": "code",
   "execution_count": 7,
   "id": "2471892a",
   "metadata": {},
   "outputs": [
    {
     "name": "stdout",
     "output_type": "stream",
     "text": [
      "<re.Match object; span=(16, 19), match='fox'>\n"
     ]
    }
   ],
   "source": [
    "print(result)"
   ]
  },
  {
   "cell_type": "markdown",
   "id": "8554ceeb",
   "metadata": {},
   "source": [
    " It searches through a string looking for the first location where the regular expression pattern produces a match, and returns a corresponding match object1"
   ]
  },
  {
   "cell_type": "markdown",
   "id": "0dbbe5f6",
   "metadata": {},
   "source": [
    " 4. From a Match item, how do you get the actual strings that match the pattern?"
   ]
  },
  {
   "cell_type": "code",
   "execution_count": 9,
   "id": "dcb90037",
   "metadata": {},
   "outputs": [],
   "source": [
    "string = \"The quick brown fox jump over the lazy dog\"\n",
    "pattern = \"fox\""
   ]
  },
  {
   "cell_type": "code",
   "execution_count": 10,
   "id": "4ba2042c",
   "metadata": {},
   "outputs": [],
   "source": [
    "result = re.search(pattern, string)"
   ]
  },
  {
   "cell_type": "code",
   "execution_count": 14,
   "id": "ba048ed3",
   "metadata": {},
   "outputs": [
    {
     "name": "stdout",
     "output_type": "stream",
     "text": [
      "fox\n"
     ]
    }
   ],
   "source": [
    "print(result.group())"
   ]
  },
  {
   "cell_type": "markdown",
   "id": "6949e71e",
   "metadata": {},
   "source": [
    "5. In the regex which created from the r'(\\d\\d\\d)-(\\d\\d\\d-\\d\\d\\d\\d)', what does group zero cover? Group 2? Group 1?"
   ]
  },
  {
   "cell_type": "code",
   "execution_count": 7,
   "id": "a2e2c49d",
   "metadata": {},
   "outputs": [],
   "source": [
    "import re\n",
    "mystr = \"My name is Divyanshu kumar and my phone number is 930-497-3617\""
   ]
  },
  {
   "cell_type": "code",
   "execution_count": 8,
   "id": "91d5c8dc",
   "metadata": {},
   "outputs": [],
   "source": [
    "patt = re.compile(r'(\\d\\d\\d)-(\\d\\d\\d-\\d\\d\\d\\d)')"
   ]
  },
  {
   "cell_type": "code",
   "execution_count": 11,
   "id": "d5fc1c68",
   "metadata": {},
   "outputs": [],
   "source": [
    "result = patt.search(mystr)"
   ]
  },
  {
   "cell_type": "code",
   "execution_count": 12,
   "id": "c40671f2",
   "metadata": {},
   "outputs": [
    {
     "data": {
      "text/plain": [
       "'930'"
      ]
     },
     "execution_count": 12,
     "metadata": {},
     "output_type": "execute_result"
    }
   ],
   "source": [
    "result.group(1)"
   ]
  },
  {
   "cell_type": "code",
   "execution_count": 14,
   "id": "b10e6aff",
   "metadata": {},
   "outputs": [
    {
     "data": {
      "text/plain": [
       "'497-3617'"
      ]
     },
     "execution_count": 14,
     "metadata": {},
     "output_type": "execute_result"
    }
   ],
   "source": [
    "result.group(2)"
   ]
  },
  {
   "cell_type": "code",
   "execution_count": 15,
   "id": "04b04e1c",
   "metadata": {},
   "outputs": [
    {
     "data": {
      "text/plain": [
       "'930-497-3617'"
      ]
     },
     "execution_count": 15,
     "metadata": {},
     "output_type": "execute_result"
    }
   ],
   "source": [
    "result.group(0)"
   ]
  },
  {
   "cell_type": "markdown",
   "id": "d65b9a71",
   "metadata": {},
   "source": [
    "6. In standard expression syntax, parentheses and intervals have distinct meanings. How can you tell a regex that you want it to fit real parentheses and periods?"
   ]
  },
  {
   "cell_type": "markdown",
   "id": "8e3cbca5",
   "metadata": {},
   "source": [
    "Periods and parentheses can be escaped with a backslash: \\., \\(, and \\)."
   ]
  },
  {
   "cell_type": "markdown",
   "id": "672d8813",
   "metadata": {},
   "source": [
    "7. The findall() method returns a string list or a list of string tuples. What causes it to return one of the two options?"
   ]
  },
  {
   "cell_type": "code",
   "execution_count": null,
   "id": "a6ca9c73",
   "metadata": {},
   "outputs": [],
   "source": []
  }
 ],
 "metadata": {
  "kernelspec": {
   "display_name": "Python 3 (ipykernel)",
   "language": "python",
   "name": "python3"
  },
  "language_info": {
   "codemirror_mode": {
    "name": "ipython",
    "version": 3
   },
   "file_extension": ".py",
   "mimetype": "text/x-python",
   "name": "python",
   "nbconvert_exporter": "python",
   "pygments_lexer": "ipython3",
   "version": "3.9.12"
  }
 },
 "nbformat": 4,
 "nbformat_minor": 5
}
