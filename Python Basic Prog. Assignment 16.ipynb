{
 "cells": [
  {
   "cell_type": "markdown",
   "id": "437db995",
   "metadata": {},
   "source": [
    "Question1. Write a function that stutters a word as if someone is struggling to read it. The\n",
    "first two letters are repeated twice with an ellipsis ... and space after each, and then the\n",
    "word is pronounced with a question mark ?."
   ]
  },
  {
   "cell_type": "code",
   "execution_count": 1,
   "id": "fa85a3f4",
   "metadata": {},
   "outputs": [],
   "source": [
    "def ellipsis(a):\n",
    "    print(f\"{a[:2]}... {a[:2]}... {a}\")"
   ]
  },
  {
   "cell_type": "code",
   "execution_count": 2,
   "id": "465f3435",
   "metadata": {},
   "outputs": [
    {
     "name": "stdout",
     "output_type": "stream",
     "text": [
      "Di... Di... Divyanshu\n"
     ]
    }
   ],
   "source": [
    "ellipsis(\"Divyanshu\")"
   ]
  },
  {
   "cell_type": "markdown",
   "id": "6104a31f",
   "metadata": {},
   "source": [
    "Question 2.Create a function that takes an angle in radians and returns the corresponding\n",
    "angle in degrees rounded to one decimal place.\n",
    "angle in degrees = angle in radians * 180 / pi"
   ]
  },
  {
   "cell_type": "code",
   "execution_count": 5,
   "id": "e0d54caf",
   "metadata": {},
   "outputs": [],
   "source": [
    "def radian_to_degree():\n",
    "    radian = int(input(\"Enter the radian to convert\"))\n",
    "    degree = radian * (180/3.14159)\n",
    "    print(round(degree, 1))"
   ]
  },
  {
   "cell_type": "code",
   "execution_count": 6,
   "id": "64a0a5a5",
   "metadata": {},
   "outputs": [
    {
     "name": "stdout",
     "output_type": "stream",
     "text": [
      "Enter the radian to convert20\n",
      "1145.9\n"
     ]
    }
   ],
   "source": [
    "radian_to_degree()"
   ]
  },
  {
   "cell_type": "markdown",
   "id": "d046fe5f",
   "metadata": {},
   "source": [
    "Question 3. In this challenge, establish if a given integer num is a Curzon number. If 1 plus\n",
    "2 elevated to num is exactly divisible by 1 plus 2 multiplied by num, then num is a Curzon\n",
    "number."
   ]
  },
  {
   "cell_type": "code",
   "execution_count": 12,
   "id": "8761e730",
   "metadata": {},
   "outputs": [],
   "source": [
    "def curzon_check():\n",
    "    num = int(input(\"Enter the number:- \"))\n",
    "    if ((2**num)+1)%((2*num)+1)==0:\n",
    "        print(True)\n",
    "    else:\n",
    "        print(False)"
   ]
  },
  {
   "cell_type": "code",
   "execution_count": 15,
   "id": "5c3e7389",
   "metadata": {},
   "outputs": [
    {
     "name": "stdout",
     "output_type": "stream",
     "text": [
      "Enter the number5\n",
      "True\n"
     ]
    }
   ],
   "source": [
    "curzon_check()"
   ]
  },
  {
   "cell_type": "code",
   "execution_count": null,
   "id": "03540f88",
   "metadata": {},
   "outputs": [],
   "source": [
    "Question 4.\n",
    "Given the side length x find the area of a hexagon."
   ]
  },
  {
   "cell_type": "code",
   "execution_count": 22,
   "id": "f72c3299",
   "metadata": {},
   "outputs": [],
   "source": [
    "def area_hexagon():\n",
    "    length = float(input(\"Enter the length of side:- \"))\n",
    "    area = (3*1.73*(length**2))/2\n",
    "    print(round(area, 1))"
   ]
  },
  {
   "cell_type": "code",
   "execution_count": 21,
   "id": "42435f98",
   "metadata": {},
   "outputs": [
    {
     "name": "stdout",
     "output_type": "stream",
     "text": [
      "Enter the length of side2\n",
      "10.4\n"
     ]
    }
   ],
   "source": [
    "area_hexagon()"
   ]
  },
  {
   "cell_type": "markdown",
   "id": "a6671b21",
   "metadata": {},
   "source": [
    "Question 5. Create a function that returns a base-2 (binary) representation of a base-10\n",
    "(decimal) string number. To convert is simple: ((2) means base-2 and (10) means base-10)\n",
    "010101001(2) = 1 + 8 + 32 + 128."
   ]
  },
  {
   "cell_type": "code",
   "execution_count": 7,
   "id": "049c9420",
   "metadata": {},
   "outputs": [],
   "source": [
    "def decimalToBinary(n):\n",
    "    return bin(n).replace(\"0b\", \"\")"
   ]
  },
  {
   "cell_type": "code",
   "execution_count": 8,
   "id": "95210b14",
   "metadata": {},
   "outputs": [
    {
     "data": {
      "text/plain": [
       "'10100'"
      ]
     },
     "execution_count": 8,
     "metadata": {},
     "output_type": "execute_result"
    }
   ],
   "source": [
    "decimalToBinary(20)"
   ]
  }
 ],
 "metadata": {
  "kernelspec": {
   "display_name": "Python 3 (ipykernel)",
   "language": "python",
   "name": "python3"
  },
  "language_info": {
   "codemirror_mode": {
    "name": "ipython",
    "version": 3
   },
   "file_extension": ".py",
   "mimetype": "text/x-python",
   "name": "python",
   "nbconvert_exporter": "python",
   "pygments_lexer": "ipython3",
   "version": "3.9.12"
  }
 },
 "nbformat": 4,
 "nbformat_minor": 5
}
