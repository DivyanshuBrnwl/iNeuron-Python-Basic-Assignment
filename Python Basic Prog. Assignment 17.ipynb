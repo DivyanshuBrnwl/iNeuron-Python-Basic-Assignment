{
 "cells": [
  {
   "cell_type": "markdown",
   "id": "4fafcabb",
   "metadata": {},
   "source": [
    "Question1. Create a function that takes three arguments a, b, c and returns the sum of the\n",
    "numbers that are evenly divided by c from the range a, b inclusive."
   ]
  },
  {
   "cell_type": "code",
   "execution_count": 18,
   "id": "13a98824",
   "metadata": {},
   "outputs": [],
   "source": [
    "def evenly_divisible():\n",
    "    a = int(input(\"Enter the first number:- \"))\n",
    "    list1=[]\n",
    "    if a>11:\n",
    "        print(f\"No number between 1 and 10 can be evenly divided by {a}\")\n",
    "    else:\n",
    "        for i in range(a, 11, a):\n",
    "            list1.append(i)\n",
    "        print(sum(list1))"
   ]
  },
  {
   "cell_type": "code",
   "execution_count": 19,
   "id": "db115163",
   "metadata": {},
   "outputs": [
    {
     "name": "stdout",
     "output_type": "stream",
     "text": [
      "Enter the first number:- 3\n",
      "18\n"
     ]
    }
   ],
   "source": [
    "evenly_divisible()"
   ]
  },
  {
   "cell_type": "markdown",
   "id": "ecaa199d",
   "metadata": {},
   "source": [
    "Question2. Create a function that returns True if a given inequality expression is correct and\n",
    "False otherwise."
   ]
  },
  {
   "cell_type": "code",
   "execution_count": 46,
   "id": "4fe9ce6b",
   "metadata": {},
   "outputs": [],
   "source": [
    "def correct_signs(txt):\n",
    "    return eval(txt)"
   ]
  },
  {
   "cell_type": "code",
   "execution_count": 48,
   "id": "73a67775",
   "metadata": {},
   "outputs": [
    {
     "name": "stdout",
     "output_type": "stream",
     "text": [
      "False\n",
      "False\n",
      "True\n"
     ]
    }
   ],
   "source": [
    "print(correct_signs('3>7<11'))\n",
    "print(correct_signs('13>44>33>1'))\n",
    "print(correct_signs('1<2<6<9>3'))"
   ]
  },
  {
   "cell_type": "code",
   "execution_count": null,
   "id": "c1b373e6",
   "metadata": {},
   "outputs": [],
   "source": [
    "Question3. Create a function that replaces all the vowels in a string with a specified character."
   ]
  },
  {
   "cell_type": "code",
   "execution_count": 28,
   "id": "70928871",
   "metadata": {},
   "outputs": [],
   "source": [
    "def vowel_replacement():\n",
    "    vowel_list = 'AEIOUaeiou'\n",
    "    string = str(input(\"Enter the string\"))\n",
    "    for vowel in vowel_list:\n",
    "        string = string.replace(vowel, \"*\")\n",
    "    \n",
    "    print(string)"
   ]
  },
  {
   "cell_type": "code",
   "execution_count": 29,
   "id": "77c14bc9",
   "metadata": {},
   "outputs": [
    {
     "name": "stdout",
     "output_type": "stream",
     "text": [
      "Enter the stringhello\n",
      "h*ll*\n"
     ]
    }
   ],
   "source": [
    "vowel_replacement()"
   ]
  },
  {
   "cell_type": "markdown",
   "id": "0711dfef",
   "metadata": {},
   "source": [
    "Question4. Write a function that calculates the factorial of a number recursively."
   ]
  },
  {
   "cell_type": "code",
   "execution_count": 31,
   "id": "8be0d6b6",
   "metadata": {},
   "outputs": [],
   "source": [
    "def fact(n):\n",
    "    if n == 0:\n",
    "        return 1\n",
    "    return n * fact(n-1)"
   ]
  },
  {
   "cell_type": "code",
   "execution_count": 32,
   "id": "2ce626c6",
   "metadata": {},
   "outputs": [
    {
     "data": {
      "text/plain": [
       "120"
      ]
     },
     "execution_count": 32,
     "metadata": {},
     "output_type": "execute_result"
    }
   ],
   "source": [
    "fact(5)"
   ]
  },
  {
   "cell_type": "markdown",
   "id": "aa286984",
   "metadata": {},
   "source": [
    "Question5:\n",
    "Create a function that computes the hamming distance between two strings."
   ]
  },
  {
   "cell_type": "code",
   "execution_count": 44,
   "id": "d486b619",
   "metadata": {},
   "outputs": [],
   "source": [
    "def humming(str1, str2):\n",
    "    i = 0\n",
    "    count = 0\n",
    "    for i in range (len(str1)):\n",
    "        if (str1[i] != str2[i]):\n",
    "            count += 1\n",
    "    return count\n",
    "\n"
   ]
  },
  {
   "cell_type": "code",
   "execution_count": 45,
   "id": "45563aa5",
   "metadata": {},
   "outputs": [
    {
     "data": {
      "text/plain": [
       "1"
      ]
     },
     "execution_count": 45,
     "metadata": {},
     "output_type": "execute_result"
    }
   ],
   "source": [
    "humming('strong', 'strung')"
   ]
  },
  {
   "cell_type": "code",
   "execution_count": null,
   "id": "e92e1b40",
   "metadata": {},
   "outputs": [],
   "source": []
  }
 ],
 "metadata": {
  "kernelspec": {
   "display_name": "Python 3 (ipykernel)",
   "language": "python",
   "name": "python3"
  },
  "language_info": {
   "codemirror_mode": {
    "name": "ipython",
    "version": 3
   },
   "file_extension": ".py",
   "mimetype": "text/x-python",
   "name": "python",
   "nbconvert_exporter": "python",
   "pygments_lexer": "ipython3",
   "version": "3.9.12"
  }
 },
 "nbformat": 4,
 "nbformat_minor": 5
}
