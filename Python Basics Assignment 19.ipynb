{
 "cells": [
  {
   "cell_type": "markdown",
   "id": "cbb383a6",
   "metadata": {},
   "source": [
    "1. Make a class called Thing with no contents and print it. Then, create an object called example\n",
    "from this class and also print it. Are the printed values the same or different?"
   ]
  },
  {
   "cell_type": "code",
   "execution_count": 5,
   "id": "404f0d01",
   "metadata": {},
   "outputs": [],
   "source": [
    "class Thing():\n",
    "    pass"
   ]
  },
  {
   "cell_type": "code",
   "execution_count": 9,
   "id": "7083d18a",
   "metadata": {},
   "outputs": [
    {
     "name": "stdout",
     "output_type": "stream",
     "text": [
      "<class '__main__.Thing'>\n"
     ]
    }
   ],
   "source": [
    "print(Thing)"
   ]
  },
  {
   "cell_type": "code",
   "execution_count": 10,
   "id": "5a6ee016",
   "metadata": {},
   "outputs": [],
   "source": [
    "example = Thing()"
   ]
  },
  {
   "cell_type": "code",
   "execution_count": 11,
   "id": "05f591bd",
   "metadata": {},
   "outputs": [
    {
     "name": "stdout",
     "output_type": "stream",
     "text": [
      "<__main__.Thing object at 0x0000012E5363EA30>\n"
     ]
    }
   ],
   "source": [
    "print(example)"
   ]
  },
  {
   "cell_type": "markdown",
   "id": "63071804",
   "metadata": {},
   "source": [
    "2. Create a new class called Thing2 and add the value &#39;abc&#39; to the letters class attribute. Letters\n",
    "should be printed."
   ]
  },
  {
   "cell_type": "code",
   "execution_count": 12,
   "id": "1e37e12b",
   "metadata": {},
   "outputs": [],
   "source": [
    "class Thing2():\n",
    "    letters = 'abc'"
   ]
  },
  {
   "cell_type": "code",
   "execution_count": 13,
   "id": "caec3206",
   "metadata": {},
   "outputs": [
    {
     "data": {
      "text/plain": [
       "'abc'"
      ]
     },
     "execution_count": 13,
     "metadata": {},
     "output_type": "execute_result"
    }
   ],
   "source": [
    "Thing2.letters"
   ]
  },
  {
   "cell_type": "markdown",
   "id": "a2e39c4f",
   "metadata": {},
   "source": [
    "3. Make yet another class called, of course, Thing3. This time, assign the value &#39;xyz&#39; to an instance\n",
    "(object) attribute called letters. Print letters. Do you need to make an object from the class to do\n",
    "this?"
   ]
  },
  {
   "cell_type": "code",
   "execution_count": 21,
   "id": "7717b473",
   "metadata": {},
   "outputs": [],
   "source": [
    "class Thing3:\n",
    "    def __init__(self, letter):\n",
    "        self.letter = letter\n",
    "    def letters(self):\n",
    "        print(self.letters)"
   ]
  },
  {
   "cell_type": "code",
   "execution_count": 25,
   "id": "7615a890",
   "metadata": {},
   "outputs": [],
   "source": [
    "a = Thing3('xyz')"
   ]
  },
  {
   "cell_type": "code",
   "execution_count": 28,
   "id": "16d0af4e",
   "metadata": {},
   "outputs": [
    {
     "data": {
      "text/plain": [
       "'xyz'"
      ]
     },
     "execution_count": 28,
     "metadata": {},
     "output_type": "execute_result"
    }
   ],
   "source": [
    "a.letter"
   ]
  },
  {
   "cell_type": "markdown",
   "id": "45c2370f",
   "metadata": {},
   "source": [
    "4. Create an Element class with the instance attributes name, symbol, and number. Create a class\n",
    "object with the values &#39;Hydrogen,&#39; &#39;H,&#39; and 1."
   ]
  },
  {
   "cell_type": "code",
   "execution_count": 29,
   "id": "8b01d2b8",
   "metadata": {},
   "outputs": [],
   "source": [
    "class Element:\n",
    "    def __init__(self, name, symbol, number):\n",
    "        self.name = name\n",
    "        self.symbol = symbol\n",
    "        self.number = number\n",
    "        "
   ]
  },
  {
   "cell_type": "code",
   "execution_count": 32,
   "id": "03f81d82",
   "metadata": {},
   "outputs": [],
   "source": [
    "a = Element(\"Hydrogen\", 'H', 1)"
   ]
  },
  {
   "cell_type": "code",
   "execution_count": 33,
   "id": "af83877f",
   "metadata": {},
   "outputs": [
    {
     "data": {
      "text/plain": [
       "'Hydrogen'"
      ]
     },
     "execution_count": 33,
     "metadata": {},
     "output_type": "execute_result"
    }
   ],
   "source": [
    "a.name"
   ]
  },
  {
   "cell_type": "code",
   "execution_count": 34,
   "id": "904bec9b",
   "metadata": {},
   "outputs": [
    {
     "data": {
      "text/plain": [
       "1"
      ]
     },
     "execution_count": 34,
     "metadata": {},
     "output_type": "execute_result"
    }
   ],
   "source": [
    "a.number"
   ]
  },
  {
   "cell_type": "code",
   "execution_count": 35,
   "id": "3b614936",
   "metadata": {},
   "outputs": [
    {
     "data": {
      "text/plain": [
       "'H'"
      ]
     },
     "execution_count": 35,
     "metadata": {},
     "output_type": "execute_result"
    }
   ],
   "source": [
    "a.symbol"
   ]
  },
  {
   "cell_type": "markdown",
   "id": "e39bcd6d",
   "metadata": {},
   "source": [
    "5. Make a dictionary with these keys and values: &#39;name&#39;: &#39;Hydrogen&#39;, &#39;symbol&#39;: &#39;H&#39;, &#39;number&#39;: 1. Then,\n",
    "create an object called hydrogen from class Element using this dictionary."
   ]
  },
  {
   "cell_type": "code",
   "execution_count": 36,
   "id": "b85a4f53",
   "metadata": {},
   "outputs": [],
   "source": [
    "dict1 = {'name':'Hydrogen', 'symbol':'H', 'number':1}"
   ]
  },
  {
   "cell_type": "code",
   "execution_count": 37,
   "id": "632fba5e",
   "metadata": {},
   "outputs": [],
   "source": [
    "class Element:\n",
    "    def hydrogen():\n",
    "        print({'name':'Hydrogen', 'symbol':'H', 'number':1})"
   ]
  },
  {
   "cell_type": "code",
   "execution_count": 39,
   "id": "40764fab",
   "metadata": {},
   "outputs": [
    {
     "name": "stdout",
     "output_type": "stream",
     "text": [
      "{'name': 'Hydrogen', 'symbol': 'H', 'number': 1}\n"
     ]
    }
   ],
   "source": [
    "Element.hydrogen()"
   ]
  },
  {
   "cell_type": "markdown",
   "id": "664b2d8a",
   "metadata": {},
   "source": [
    "6. For the Element class, define a method called dump() that prints the values of the object’s\n",
    "attributes (name, symbol, and number). Create the hydrogen object from this new definition and\n",
    "use dump() to print its attributes."
   ]
  },
  {
   "cell_type": "code",
   "execution_count": 43,
   "id": "be465e64",
   "metadata": {},
   "outputs": [],
   "source": [
    "class Element:\n",
    "    def __init__(self, name, symbol, number):\n",
    "        self.name = name\n",
    "        self.symbol = symbol\n",
    "        self.number = number\n",
    "    def dump(self):\n",
    "        print(self.name, self.symbol, self.number)"
   ]
  },
  {
   "cell_type": "code",
   "execution_count": 44,
   "id": "41f6383c",
   "metadata": {},
   "outputs": [],
   "source": [
    "a = Element('Hydrogen', 'H', 1)"
   ]
  },
  {
   "cell_type": "code",
   "execution_count": 45,
   "id": "ff1af4b9",
   "metadata": {},
   "outputs": [
    {
     "name": "stdout",
     "output_type": "stream",
     "text": [
      "Hydrogen H 1\n"
     ]
    }
   ],
   "source": [
    "a.dump()"
   ]
  },
  {
   "cell_type": "markdown",
   "id": "f7b0f4b8",
   "metadata": {},
   "source": [
    "7. Call print(hydrogen). In the definition of Element, change the name of method dump to __str__,\n",
    "create a new hydrogen object, and call print(hydrogen) again."
   ]
  },
  {
   "cell_type": "code",
   "execution_count": 49,
   "id": "e16dd87a",
   "metadata": {},
   "outputs": [],
   "source": [
    "class Element:\n",
    "    def __init__(self, name, symbol, number):\n",
    "        self.name = name\n",
    "        self.symbol = symbol\n",
    "        self.number = number\n",
    "    def __str__(self):\n",
    "        return (f\"Name = {self.name}, Symbol = {self.symbol}, Number = {self.number}\")"
   ]
  },
  {
   "cell_type": "code",
   "execution_count": 50,
   "id": "67c1cf1a",
   "metadata": {},
   "outputs": [],
   "source": [
    "hydrogen = Element('Hydrogen', 'H', 1)"
   ]
  },
  {
   "cell_type": "code",
   "execution_count": 51,
   "id": "a215ccec",
   "metadata": {},
   "outputs": [
    {
     "name": "stdout",
     "output_type": "stream",
     "text": [
      "Name = Hydrogen, Symbol = H, Number = 1\n"
     ]
    }
   ],
   "source": [
    "print(hydrogen)"
   ]
  },
  {
   "cell_type": "markdown",
   "id": "11a8d4b1",
   "metadata": {},
   "source": [
    "8. Modify Element to make the attributes name, symbol, and number private. Define a getter\n",
    "property for each to return its value."
   ]
  },
  {
   "cell_type": "code",
   "execution_count": 83,
   "id": "e5dc12c2",
   "metadata": {},
   "outputs": [],
   "source": [
    "class Element:\n",
    "    def __init__(self, name, symbol, number):\n",
    "        self.__name = name\n",
    "        self.__symbol = symbol\n",
    "        self.__number = number\n",
    "        \n",
    "    @property\n",
    "    def private(self):\n",
    "        return f\"{self.__name}, {self.__symbol}, {self.__number}\""
   ]
  },
  {
   "cell_type": "code",
   "execution_count": 84,
   "id": "c21fec37",
   "metadata": {},
   "outputs": [
    {
     "name": "stdout",
     "output_type": "stream",
     "text": [
      "Hydrogen, H, 1\n"
     ]
    }
   ],
   "source": [
    "e = Element('Hydrogen', 'H', 1)\n",
    "print(e.private)"
   ]
  },
  {
   "cell_type": "markdown",
   "id": "e8f997a1",
   "metadata": {},
   "source": [
    "9. Define three classes: Bear, Rabbit, and Octothorpe. For each, define only one method: eats(). This\n",
    "should return &#39;berries&#39; (Bear), &#39;clover&#39; (Rabbit), or &#39;campers&#39; (Octothorpe). Create one object from\n",
    "each and print what it eats."
   ]
  },
  {
   "cell_type": "code",
   "execution_count": 2,
   "id": "b6615228",
   "metadata": {},
   "outputs": [],
   "source": [
    "class Bear:\n",
    "    def eats():\n",
    "        return 'berries'"
   ]
  },
  {
   "cell_type": "code",
   "execution_count": 4,
   "id": "13eb4bcf",
   "metadata": {},
   "outputs": [],
   "source": [
    "class Rabbits:\n",
    "    def eats():\n",
    "        return 'clover'"
   ]
  },
  {
   "cell_type": "code",
   "execution_count": 5,
   "id": "3e461794",
   "metadata": {},
   "outputs": [],
   "source": [
    "class Octothorpe:\n",
    "    def eats():\n",
    "        return 'campers'"
   ]
  },
  {
   "cell_type": "code",
   "execution_count": 9,
   "id": "7071f243",
   "metadata": {},
   "outputs": [],
   "source": [
    "b = Bear\n",
    "r = Rabbits\n",
    "o = Octothorpe"
   ]
  },
  {
   "cell_type": "code",
   "execution_count": 11,
   "id": "9d16ff10",
   "metadata": {},
   "outputs": [
    {
     "data": {
      "text/plain": [
       "'berries'"
      ]
     },
     "execution_count": 11,
     "metadata": {},
     "output_type": "execute_result"
    }
   ],
   "source": [
    "b.eats()"
   ]
  },
  {
   "cell_type": "code",
   "execution_count": 14,
   "id": "586a9bb3",
   "metadata": {},
   "outputs": [
    {
     "data": {
      "text/plain": [
       "'clover'"
      ]
     },
     "execution_count": 14,
     "metadata": {},
     "output_type": "execute_result"
    }
   ],
   "source": [
    "r.eats()"
   ]
  },
  {
   "cell_type": "code",
   "execution_count": 15,
   "id": "b45901e0",
   "metadata": {},
   "outputs": [
    {
     "data": {
      "text/plain": [
       "'campers'"
      ]
     },
     "execution_count": 15,
     "metadata": {},
     "output_type": "execute_result"
    }
   ],
   "source": [
    "o.eats()"
   ]
  },
  {
   "cell_type": "markdown",
   "id": "26e5d4e1",
   "metadata": {},
   "source": [
    "10. Define these classes: Laser, Claw, and SmartPhone. Each has only one method: does(). This\n",
    "returns &#39;disintegrate&#39; (Laser), &#39;crush&#39; (Claw), or &#39;ring&#39; (SmartPhone). Then, define the class Robot that\n",
    "has one instance (object) of each of these. Define a does() method for the Robot that prints what its\n",
    "component objects do."
   ]
  },
  {
   "cell_type": "code",
   "execution_count": 51,
   "id": "cdcf88d0",
   "metadata": {},
   "outputs": [],
   "source": [
    "class Laser:\n",
    "    def does(self):\n",
    "        return 'disintegrate'"
   ]
  },
  {
   "cell_type": "code",
   "execution_count": 52,
   "id": "398c4f31",
   "metadata": {},
   "outputs": [],
   "source": [
    "class Claw:\n",
    "    def does(self):\n",
    "        return 'crush'"
   ]
  },
  {
   "cell_type": "code",
   "execution_count": 53,
   "id": "3b8c0978",
   "metadata": {},
   "outputs": [],
   "source": [
    "class Smartphone:\n",
    "    def does(self):\n",
    "        return 'ring'"
   ]
  },
  {
   "cell_type": "code",
   "execution_count": 54,
   "id": "50f15633",
   "metadata": {},
   "outputs": [],
   "source": [
    "class Robot:\n",
    "    def __init__(self):\n",
    "        self.laser = Laser()\n",
    "        self.claw = Claw()\n",
    "        self.smartphone = Smartphone()\n",
    "        \n",
    "    def does(self):\n",
    "        return f\"Laser {self.laser.does()}, Claw {self.claw.does()} and Smartphone {self.smartphone.does()}\"\n",
    "    "
   ]
  },
  {
   "cell_type": "code",
   "execution_count": 55,
   "id": "3c4496a5",
   "metadata": {},
   "outputs": [],
   "source": [
    "r = Robot()"
   ]
  },
  {
   "cell_type": "code",
   "execution_count": 56,
   "id": "246a8b7a",
   "metadata": {},
   "outputs": [
    {
     "data": {
      "text/plain": [
       "'Laser disintegrate, Claw crush and Smartphone ring'"
      ]
     },
     "execution_count": 56,
     "metadata": {},
     "output_type": "execute_result"
    }
   ],
   "source": [
    "r.does()"
   ]
  }
 ],
 "metadata": {
  "kernelspec": {
   "display_name": "Python 3 (ipykernel)",
   "language": "python",
   "name": "python3"
  },
  "language_info": {
   "codemirror_mode": {
    "name": "ipython",
    "version": 3
   },
   "file_extension": ".py",
   "mimetype": "text/x-python",
   "name": "python",
   "nbconvert_exporter": "python",
   "pygments_lexer": "ipython3",
   "version": "3.9.12"
  }
 },
 "nbformat": 4,
 "nbformat_minor": 5
}
