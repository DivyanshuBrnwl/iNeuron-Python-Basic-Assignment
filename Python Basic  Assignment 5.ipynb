{
 "cells": [
  {
   "cell_type": "markdown",
   "id": "52501a1a",
   "metadata": {},
   "source": [
    "1. What does an empty dictionary's code look like?"
   ]
  },
  {
   "cell_type": "markdown",
   "id": "d3c6d028",
   "metadata": {},
   "source": [
    "Empty dictionary looks like given below :- "
   ]
  },
  {
   "cell_type": "code",
   "execution_count": 1,
   "id": "261a70f5",
   "metadata": {},
   "outputs": [],
   "source": [
    "a = {}"
   ]
  },
  {
   "cell_type": "code",
   "execution_count": 2,
   "id": "33d39c48",
   "metadata": {},
   "outputs": [
    {
     "data": {
      "text/plain": [
       "dict"
      ]
     },
     "execution_count": 2,
     "metadata": {},
     "output_type": "execute_result"
    }
   ],
   "source": [
    "type(a)"
   ]
  },
  {
   "cell_type": "markdown",
   "id": "ba952b25",
   "metadata": {},
   "source": [
    "2. What is the value of a dictionary value with the key 'foo' and the value 42?"
   ]
  },
  {
   "cell_type": "code",
   "execution_count": 5,
   "id": "3de0ccbe",
   "metadata": {},
   "outputs": [],
   "source": [
    "a = {'foo':42}"
   ]
  },
  {
   "cell_type": "code",
   "execution_count": 7,
   "id": "1131a7a2",
   "metadata": {},
   "outputs": [
    {
     "data": {
      "text/plain": [
       "dict_keys(['foo'])"
      ]
     },
     "execution_count": 7,
     "metadata": {},
     "output_type": "execute_result"
    }
   ],
   "source": [
    "a.keys()"
   ]
  },
  {
   "cell_type": "code",
   "execution_count": 9,
   "id": "b5580ada",
   "metadata": {},
   "outputs": [
    {
     "data": {
      "text/plain": [
       "dict_values([42])"
      ]
     },
     "execution_count": 9,
     "metadata": {},
     "output_type": "execute_result"
    }
   ],
   "source": [
    "a.values()"
   ]
  },
  {
   "cell_type": "markdown",
   "id": "a3ec04a2",
   "metadata": {},
   "source": [
    "The value of above dictionary is 42"
   ]
  },
  {
   "cell_type": "markdown",
   "id": "89e00ed6",
   "metadata": {},
   "source": [
    "3. What is the most significant distinction between a dictionary and a list?"
   ]
  },
  {
   "cell_type": "markdown",
   "id": "085cd180",
   "metadata": {},
   "source": [
    "The most significant distinction between a dictionary and a list is dictionary is denoted in curly bracket while list is denoted in square bracket"
   ]
  },
  {
   "cell_type": "code",
   "execution_count": 10,
   "id": "3ba8a6db",
   "metadata": {},
   "outputs": [],
   "source": [
    "a = {}\n",
    "b = []"
   ]
  },
  {
   "cell_type": "code",
   "execution_count": 12,
   "id": "e934935d",
   "metadata": {},
   "outputs": [
    {
     "name": "stdout",
     "output_type": "stream",
     "text": [
      "<class 'dict'>\n",
      "<class 'list'>\n"
     ]
    }
   ],
   "source": [
    "print(type(a))\n",
    "print(type(b))"
   ]
  },
  {
   "cell_type": "markdown",
   "id": "24a2daab",
   "metadata": {},
   "source": [
    "4. What happens if you try to access spam['foo'] if spam is {'bar': 100}?"
   ]
  },
  {
   "cell_type": "code",
   "execution_count": 13,
   "id": "a4203dfb",
   "metadata": {},
   "outputs": [],
   "source": [
    "a =  {'bar': 100}"
   ]
  },
  {
   "cell_type": "code",
   "execution_count": 16,
   "id": "0dff5d9b",
   "metadata": {},
   "outputs": [
    {
     "ename": "KeyError",
     "evalue": "'foo'",
     "output_type": "error",
     "traceback": [
      "\u001b[1;31m---------------------------------------------------------------------------\u001b[0m",
      "\u001b[1;31mKeyError\u001b[0m                                  Traceback (most recent call last)",
      "Input \u001b[1;32mIn [16]\u001b[0m, in \u001b[0;36m<cell line: 1>\u001b[1;34m()\u001b[0m\n\u001b[1;32m----> 1\u001b[0m x \u001b[38;5;241m=\u001b[39m \u001b[43ma\u001b[49m\u001b[43m[\u001b[49m\u001b[38;5;124;43m'\u001b[39;49m\u001b[38;5;124;43mfoo\u001b[39;49m\u001b[38;5;124;43m'\u001b[39;49m\u001b[43m]\u001b[49m\n",
      "\u001b[1;31mKeyError\u001b[0m: 'foo'"
     ]
    }
   ],
   "source": [
    "a['foo']"
   ]
  },
  {
   "cell_type": "markdown",
   "id": "864b4663",
   "metadata": {},
   "source": [
    "5. If a dictionary is stored in spam, what is the difference between the expressions 'cat' in spam and\n",
    "'cat' in spam.keys()?"
   ]
  },
  {
   "cell_type": "code",
   "execution_count": 17,
   "id": "715c1db5",
   "metadata": {},
   "outputs": [],
   "source": [
    "spam = {'cat':'animal','Nemo':'fish', 'woodpecker':'bird', 'amoeba':'micro-organism'}"
   ]
  },
  {
   "cell_type": "code",
   "execution_count": 22,
   "id": "5244550d",
   "metadata": {},
   "outputs": [
    {
     "name": "stdout",
     "output_type": "stream",
     "text": [
      "True\n"
     ]
    }
   ],
   "source": [
    "if 'cat' in spam:\n",
    "    print (True)\n",
    "else:\n",
    "    print (False)"
   ]
  },
  {
   "cell_type": "code",
   "execution_count": 25,
   "id": "50c3a3b5",
   "metadata": {},
   "outputs": [
    {
     "name": "stdout",
     "output_type": "stream",
     "text": [
      "True\n"
     ]
    }
   ],
   "source": [
    "if 'cat' in spam.keys():\n",
    "    print (True)\n",
    "else:\n",
    "    print (False)"
   ]
  },
  {
   "cell_type": "markdown",
   "id": "469ec780",
   "metadata": {},
   "source": [
    "Both 'cat' in spam and 'cat' in spam.values() will same output as both only looks only in dictionary's key."
   ]
  },
  {
   "cell_type": "markdown",
   "id": "b4d580f0",
   "metadata": {},
   "source": [
    " 'cat' in spam looks only in keys of dictionary.\n",
    " 'cat' in spam.values() looks only in values of dictionary."
   ]
  },
  {
   "cell_type": "markdown",
   "id": "4399cd54",
   "metadata": {},
   "source": [
    "6. If a dictionary is stored in spam, what is the difference between the expressions 'cat' in spam and\n",
    "'cat' in spam.values()?"
   ]
  },
  {
   "cell_type": "markdown",
   "id": "29efdd47",
   "metadata": {},
   "source": [
    "Both 'cat' in spam and 'cat' in spam.values() will give different output as 'cat' in spam looks only in dictionary's keys and 'cat' in spam.values() looks only in dictionary's values"
   ]
  },
  {
   "cell_type": "code",
   "execution_count": null,
   "id": "fa1ac7dd",
   "metadata": {},
   "outputs": [],
   "source": [
    "spam = {'cat':'animal','Nemo':'fish', 'woodpecker':'bird', 'amoeba':'micro-organism'}"
   ]
  },
  {
   "cell_type": "code",
   "execution_count": 24,
   "id": "b21b804a",
   "metadata": {},
   "outputs": [
    {
     "name": "stdout",
     "output_type": "stream",
     "text": [
      "True\n"
     ]
    }
   ],
   "source": [
    "if 'cat' in spam:\n",
    "    print (True)\n",
    "else:\n",
    "    print (False)"
   ]
  },
  {
   "cell_type": "code",
   "execution_count": 26,
   "id": "b94d6603",
   "metadata": {},
   "outputs": [
    {
     "name": "stdout",
     "output_type": "stream",
     "text": [
      "False\n"
     ]
    }
   ],
   "source": [
    "if 'cat' in spam.values():\n",
    "    print (True)\n",
    "else:\n",
    "    print (False)"
   ]
  },
  {
   "cell_type": "markdown",
   "id": "7baa482e",
   "metadata": {},
   "source": [
    "7. What is a shortcut for the following code?\n",
    "if 'color' not in spam:\n",
    "    spam['color'] = 'black'"
   ]
  },
  {
   "cell_type": "code",
   "execution_count": 27,
   "id": "90f52903",
   "metadata": {},
   "outputs": [],
   "source": [
    "if 'color' not in spam:\n",
    "    spam['color'] = 'black'"
   ]
  },
  {
   "cell_type": "code",
   "execution_count": 30,
   "id": "02125495",
   "metadata": {},
   "outputs": [],
   "source": [
    "spam['color'] = 'black'"
   ]
  },
  {
   "cell_type": "code",
   "execution_count": 31,
   "id": "ab27a1f7",
   "metadata": {},
   "outputs": [
    {
     "data": {
      "text/plain": [
       "{'cat': 'animal',\n",
       " 'Nemo': 'fish',\n",
       " 'woodpecker': 'bird',\n",
       " 'amoeba': 'micro-organism',\n",
       " 'color': 'black'}"
      ]
     },
     "execution_count": 31,
     "metadata": {},
     "output_type": "execute_result"
    }
   ],
   "source": [
    "spam"
   ]
  },
  {
   "cell_type": "markdown",
   "id": "3df29118",
   "metadata": {},
   "source": [
    "8. How do you &quot;pretty print&quot; dictionary values using which module and function?"
   ]
  },
  {
   "cell_type": "code",
   "execution_count": 32,
   "id": "7959faf1",
   "metadata": {},
   "outputs": [],
   "source": [
    "from pprint import pprint"
   ]
  },
  {
   "cell_type": "code",
   "execution_count": 36,
   "id": "d969d1c3",
   "metadata": {},
   "outputs": [],
   "source": [
    "import pprint"
   ]
  },
  {
   "cell_type": "code",
   "execution_count": 37,
   "id": "ed9b5e83",
   "metadata": {},
   "outputs": [
    {
     "name": "stdout",
     "output_type": "stream",
     "text": [
      "[{'Age': '23', 'Country': 'USA', 'Name': 'John'},\n",
      " {'Age': '44', 'Country': 'Spain', 'Name': 'Jose'},\n",
      " {'Age': '29', 'Country': 'UK', 'Name': 'Anne'},\n",
      " {'Age': '35', 'Country': 'Japan', 'Name': 'Lee'}]\n"
     ]
    }
   ],
   "source": [
    "dct_arr = [\n",
    "  {'Name': 'John', 'Age': '23', 'Country': 'USA'},\n",
    "  {'Name': 'Jose', 'Age': '44', 'Country': 'Spain'},\n",
    "  {'Name': 'Anne', 'Age': '29', 'Country': 'UK'},\n",
    "  {'Name': 'Lee', 'Age': '35', 'Country': 'Japan'}\n",
    "]\n",
    "pprint.pprint(dct_arr)"
   ]
  },
  {
   "cell_type": "code",
   "execution_count": 34,
   "id": "8968c54d",
   "metadata": {},
   "outputs": [
    {
     "data": {
      "text/plain": [
       "[{'Name': 'John', 'Age': '23', 'Country': 'USA'},\n",
       " {'Name': 'Jose', 'Age': '44', 'Country': 'Spain'},\n",
       " {'Name': 'Anne', 'Age': '29', 'Country': 'UK'},\n",
       " {'Name': 'Lee', 'Age': '35', 'Country': 'Japan'}]"
      ]
     },
     "execution_count": 34,
     "metadata": {},
     "output_type": "execute_result"
    }
   ],
   "source": [
    "dct_arr"
   ]
  },
  {
   "cell_type": "markdown",
   "id": "8e482bff",
   "metadata": {},
   "source": [
    "Pretty print make the dictionary element look more visible and easy to read."
   ]
  },
  {
   "cell_type": "code",
   "execution_count": null,
   "id": "0be51697",
   "metadata": {},
   "outputs": [],
   "source": []
  }
 ],
 "metadata": {
  "kernelspec": {
   "display_name": "Python 3 (ipykernel)",
   "language": "python",
   "name": "python3"
  },
  "language_info": {
   "codemirror_mode": {
    "name": "ipython",
    "version": 3
   },
   "file_extension": ".py",
   "mimetype": "text/x-python",
   "name": "python",
   "nbconvert_exporter": "python",
   "pygments_lexer": "ipython3",
   "version": "3.9.12"
  }
 },
 "nbformat": 4,
 "nbformat_minor": 5
}
