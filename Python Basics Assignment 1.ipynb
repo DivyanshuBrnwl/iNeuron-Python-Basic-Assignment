{
 "cells": [
  {
   "cell_type": "markdown",
   "id": "82924cfa",
   "metadata": {},
   "source": [
    "1. In the below elements which of them are values or an expression? eg:- values can be\n",
    "integer or string and expressions will be mathematical operators.\n",
    "\n",
    "solution:- Values~~ 'Hello', 6\n",
    "           String~~ *, -, /, +"
   ]
  },
  {
   "cell_type": "markdown",
   "id": "0b135f0d",
   "metadata": {},
   "source": [
    "2. What is the difference between string and variable?\n",
    "solution:- String:- Any type data in single or double inverted comma is called strings.\n",
    "           Variable :- It is a container in which we can store any type of data such float, string, integer, boolean etc."
   ]
  },
  {
   "cell_type": "markdown",
   "id": "37d4664e",
   "metadata": {},
   "source": [
    "3. Describe three different data types.\n",
    "solution:- String:- Any type data in single or double inverted comma is called strings.\n",
    "           Boolean:- Boolean represent one of the two Values (True, False)\n",
    "           Integer:- All the counting number along with there negative including zero in python is called integer."
   ]
  },
  {
   "cell_type": "markdown",
   "id": "33f6611b",
   "metadata": {},
   "source": [
    "5. This assignment statements, like spam = 10. What is the difference between an expression and a statement?\n",
    "solution :- expression:- It is the combination of operators and operands.\n",
    "            statement :- Statement is a logical instruction python interpreter, which understands and executes the statements. Assigning value to some variable is a statement (ex: name = 'Joey')"
   ]
  },
  {
   "cell_type": "markdown",
   "id": "1c803aef",
   "metadata": {},
   "source": [
    "6. After running the following code, what does the variable bacon contain?\n",
    "bacon = 22\n",
    "bacon + 1\n",
    "solution :- 23"
   ]
  },
  {
   "cell_type": "markdown",
   "id": "3704a7b7",
   "metadata": {},
   "source": [
    "7. What should the values of the following two terms be?\n",
    " 'spam' + 'spamspam'\n",
    " solution :- 'spamspamspam'\n",
    " 'spam' * 3\n",
    " solution :- 'spamspamspam'"
   ]
  },
  {
   "cell_type": "markdown",
   "id": "9b46fdb3",
   "metadata": {},
   "source": [
    "8. Why is eggs a valid variable name while 100 is invalid?\n",
    "solution :- Because variable name cannot begins with a number"
   ]
  },
  {
   "cell_type": "markdown",
   "id": "ea4c0276",
   "metadata": {},
   "source": [
    "9. What three functions can be used to get the integer, floating-point number, or string\n",
    "version of a value?"
   ]
  },
  {
   "cell_type": "markdown",
   "id": "0fe1c7e0",
   "metadata": {},
   "source": [
    "### function to get integers. "
   ]
  },
  {
   "cell_type": "code",
   "execution_count": 2,
   "id": "4b02994d",
   "metadata": {},
   "outputs": [],
   "source": [
    "def to_int(a):\n",
    "    print (int(a))"
   ]
  },
  {
   "cell_type": "markdown",
   "id": "801fd0e2",
   "metadata": {},
   "source": [
    "### function to get floating-point number. "
   ]
  },
  {
   "cell_type": "code",
   "execution_count": 3,
   "id": "3f85dbae",
   "metadata": {},
   "outputs": [],
   "source": [
    "def to_float(a):\n",
    "    print (float(a))"
   ]
  },
  {
   "cell_type": "markdown",
   "id": "7c38264b",
   "metadata": {},
   "source": [
    "### function to get string. "
   ]
  },
  {
   "cell_type": "code",
   "execution_count": 4,
   "id": "19b2524f",
   "metadata": {},
   "outputs": [],
   "source": [
    "def to_string(a):\n",
    "    print (str(a))"
   ]
  },
  {
   "cell_type": "markdown",
   "id": "269e1ca4",
   "metadata": {},
   "source": [
    "10. Why does this expression cause an error? How can you fix it?\n",
    " 'I have eaten' + 99 + 'burritos'\n",
    " \n",
    " solution:- This expression cause an error because we cannot add string and integers.\n",
    " we can fix it by changing 99 into a string"
   ]
  },
  {
   "cell_type": "code",
   "execution_count": null,
   "id": "bf12e458",
   "metadata": {},
   "outputs": [],
   "source": []
  }
 ],
 "metadata": {
  "kernelspec": {
   "display_name": "Python 3 (ipykernel)",
   "language": "python",
   "name": "python3"
  },
  "language_info": {
   "codemirror_mode": {
    "name": "ipython",
    "version": 3
   },
   "file_extension": ".py",
   "mimetype": "text/x-python",
   "name": "python",
   "nbconvert_exporter": "python",
   "pygments_lexer": "ipython3",
   "version": "3.9.12"
  }
 },
 "nbformat": 4,
 "nbformat_minor": 5
}
