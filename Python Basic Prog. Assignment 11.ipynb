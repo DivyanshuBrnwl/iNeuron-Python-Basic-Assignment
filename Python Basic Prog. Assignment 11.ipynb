{
 "cells": [
  {
   "cell_type": "markdown",
   "id": "6dd62978",
   "metadata": {},
   "source": [
    "1. Write a Python program to find words which are greater than given length k?"
   ]
  },
  {
   "cell_type": "code",
   "execution_count": 1,
   "id": "366d6761",
   "metadata": {},
   "outputs": [],
   "source": [
    "list1 = ['Hello', 'My', 'Name', 'Is', 'Divyanshu', 'And', 'I', 'Study', 'In', 'iNeuron']"
   ]
  },
  {
   "cell_type": "code",
   "execution_count": 12,
   "id": "6b3cc938",
   "metadata": {},
   "outputs": [],
   "source": [
    "def word_len(list1, length1):\n",
    "    for i in list1:\n",
    "        if len(i)>length1:\n",
    "            print(f'Length of {i} is greater than {length1}')\n",
    "        else:\n",
    "            print(f'Length of {i} is smaller than {length1}')"
   ]
  },
  {
   "cell_type": "code",
   "execution_count": 13,
   "id": "6a810e9c",
   "metadata": {},
   "outputs": [
    {
     "name": "stdout",
     "output_type": "stream",
     "text": [
      "Length of Hello is smaller than 5\n",
      "Length of My is smaller than 5\n",
      "Length of Name is smaller than 5\n",
      "Length of Is is smaller than 5\n",
      "Length of Divyanshu is greater than 5\n",
      "Length of And is smaller than 5\n",
      "Length of I is smaller than 5\n",
      "Length of Study is smaller than 5\n",
      "Length of In is smaller than 5\n",
      "Length of iNeuron is greater than 5\n"
     ]
    }
   ],
   "source": [
    "word_len(list1, 5)"
   ]
  },
  {
   "cell_type": "code",
   "execution_count": null,
   "id": "5141cfc1",
   "metadata": {},
   "outputs": [],
   "source": [
    "2. Write a Python program for removing i-th character from a string?"
   ]
  },
  {
   "cell_type": "code",
   "execution_count": 14,
   "id": "c394062a",
   "metadata": {},
   "outputs": [],
   "source": [
    "string = 'Hello my name is divyanshu kumar and I study in iNeuron'"
   ]
  },
  {
   "cell_type": "code",
   "execution_count": 25,
   "id": "18cd1e6c",
   "metadata": {},
   "outputs": [],
   "source": [
    "def str_remov(string, index):\n",
    "    a = string.split()\n",
    "    a.remove(a[index])\n",
    "    a = ' '.join(a)\n",
    "    print(a)"
   ]
  },
  {
   "cell_type": "code",
   "execution_count": 27,
   "id": "e5b8e1f9",
   "metadata": {},
   "outputs": [
    {
     "name": "stdout",
     "output_type": "stream",
     "text": [
      "Hello my name is divyanshu kumar and I study iNeuron\n"
     ]
    }
   ],
   "source": [
    "str_remov(string, 9)"
   ]
  },
  {
   "cell_type": "code",
   "execution_count": null,
   "id": "38505c3f",
   "metadata": {},
   "outputs": [],
   "source": [
    "3. Write a Python program to split and join a string?"
   ]
  },
  {
   "cell_type": "code",
   "execution_count": null,
   "id": "5c68cf27",
   "metadata": {},
   "outputs": [],
   "source": [
    "string = 'Hello my name is divyanshu kumar and I study in iNeuron'"
   ]
  },
  {
   "cell_type": "code",
   "execution_count": 28,
   "id": "51a4af40",
   "metadata": {},
   "outputs": [
    {
     "data": {
      "text/plain": [
       "['Hello',\n",
       " 'my',\n",
       " 'name',\n",
       " 'is',\n",
       " 'divyanshu',\n",
       " 'kumar',\n",
       " 'and',\n",
       " 'I',\n",
       " 'study',\n",
       " 'in',\n",
       " 'iNeuron']"
      ]
     },
     "execution_count": 28,
     "metadata": {},
     "output_type": "execute_result"
    }
   ],
   "source": [
    "string.split()"
   ]
  },
  {
   "cell_type": "code",
   "execution_count": 29,
   "id": "284fbc83",
   "metadata": {},
   "outputs": [],
   "source": [
    "a = string.split()"
   ]
  },
  {
   "cell_type": "code",
   "execution_count": 30,
   "id": "e7a5b686",
   "metadata": {},
   "outputs": [
    {
     "data": {
      "text/plain": [
       "['Hello',\n",
       " 'my',\n",
       " 'name',\n",
       " 'is',\n",
       " 'divyanshu',\n",
       " 'kumar',\n",
       " 'and',\n",
       " 'I',\n",
       " 'study',\n",
       " 'in',\n",
       " 'iNeuron']"
      ]
     },
     "execution_count": 30,
     "metadata": {},
     "output_type": "execute_result"
    }
   ],
   "source": [
    "a"
   ]
  },
  {
   "cell_type": "code",
   "execution_count": 31,
   "id": "a2b01c02",
   "metadata": {},
   "outputs": [
    {
     "data": {
      "text/plain": [
       "'Hello~my~name~is~divyanshu~kumar~and~I~study~in~iNeuron'"
      ]
     },
     "execution_count": 31,
     "metadata": {},
     "output_type": "execute_result"
    }
   ],
   "source": [
    "'~'.join(a)"
   ]
  },
  {
   "cell_type": "code",
   "execution_count": null,
   "id": "0104d809",
   "metadata": {},
   "outputs": [],
   "source": [
    "4. Write a Python to check if a given string is binary string or not?"
   ]
  },
  {
   "cell_type": "code",
   "execution_count": 40,
   "id": "8be91acc",
   "metadata": {},
   "outputs": [],
   "source": [
    "def binary_str_chek(string):\n",
    "    binary_str = '10'\n",
    "    for i in string:\n",
    "        if i not in binary_str:\n",
    "            return True\n",
    "    return False"
   ]
  },
  {
   "cell_type": "code",
   "execution_count": 41,
   "id": "2f41eccf",
   "metadata": {},
   "outputs": [],
   "source": [
    "string1 = '1010101110010000101010 10110'"
   ]
  },
  {
   "cell_type": "code",
   "execution_count": 42,
   "id": "e381bf78",
   "metadata": {},
   "outputs": [
    {
     "data": {
      "text/plain": [
       "True"
      ]
     },
     "execution_count": 42,
     "metadata": {},
     "output_type": "execute_result"
    }
   ],
   "source": [
    "binary_str_chek(string1)"
   ]
  },
  {
   "cell_type": "code",
   "execution_count": 43,
   "id": "59f1d796",
   "metadata": {},
   "outputs": [],
   "source": [
    "def check_binary(string):\n",
    "    binary_str = '10'\n",
    "    for char in string:\n",
    "        if char not in binary_str:\n",
    "            return False\n",
    "    return True"
   ]
  },
  {
   "cell_type": "code",
   "execution_count": 44,
   "id": "15b7373b",
   "metadata": {},
   "outputs": [
    {
     "data": {
      "text/plain": [
       "False"
      ]
     },
     "execution_count": 44,
     "metadata": {},
     "output_type": "execute_result"
    }
   ],
   "source": [
    "check_binary(string1)"
   ]
  },
  {
   "cell_type": "code",
   "execution_count": null,
   "id": "bf57f739",
   "metadata": {},
   "outputs": [],
   "source": [
    "5. Write a Python program to find uncommon words from two Strings?"
   ]
  },
  {
   "cell_type": "code",
   "execution_count": 7,
   "id": "4c4bef1a",
   "metadata": {},
   "outputs": [
    {
     "name": "stdout",
     "output_type": "stream",
     "text": [
      "Divyanshu\n",
      "Gaya\n",
      "Dipanshu\n",
      "Delhi\n"
     ]
    }
   ],
   "source": [
    "string1 = 'My name is Divyanshu Kumar of Gaya'\n",
    "string2 = 'My name is Dipanshu Kumar of Delhi'\n",
    "a = string1.split()\n",
    "b = string2.split()\n",
    "for i in a:\n",
    "    if i not in b:\n",
    "        print(i)\n",
    "for i in b:\n",
    "    if i not in a:\n",
    "        print(i)"
   ]
  },
  {
   "cell_type": "code",
   "execution_count": null,
   "id": "1fc76082",
   "metadata": {},
   "outputs": [],
   "source": [
    "6. Write a Python to find all duplicate characters in string?"
   ]
  },
  {
   "cell_type": "code",
   "execution_count": 11,
   "id": "10cd2fe9",
   "metadata": {},
   "outputs": [
    {
     "name": "stdout",
     "output_type": "stream",
     "text": [
      "['r', 'g', 'm']\n"
     ]
    }
   ],
   "source": [
    "str1 = 'programming'\n",
    "duplicates = []\n",
    "for char in str1:\n",
    "    if str1.count(char)>1:\n",
    "        if char not in duplicates:\n",
    "            duplicates.append(char)\n",
    "print(duplicates)    "
   ]
  },
  {
   "cell_type": "code",
   "execution_count": null,
   "id": "2253523d",
   "metadata": {},
   "outputs": [],
   "source": [
    "7. Write a Python Program to check if a string contains any special character?"
   ]
  },
  {
   "cell_type": "code",
   "execution_count": 7,
   "id": "d64e5bc4",
   "metadata": {},
   "outputs": [],
   "source": [
    "import re"
   ]
  },
  {
   "cell_type": "code",
   "execution_count": 14,
   "id": "b3c395fc",
   "metadata": {},
   "outputs": [],
   "source": [
    "string = 'Hello my name is Divyanshu Kumar.'"
   ]
  },
  {
   "cell_type": "code",
   "execution_count": 16,
   "id": "dbbe5521",
   "metadata": {},
   "outputs": [],
   "source": [
    "def check(string):\n",
    "    regex = re.compile('[@_!#$%^&*()<>?/\\|}{~:]')\n",
    "    if(regex.search(string)==None):\n",
    "        print('Not present')\n",
    "    else:\n",
    "        print('Present')"
   ]
  },
  {
   "cell_type": "code",
   "execution_count": 17,
   "id": "baacc0a7",
   "metadata": {},
   "outputs": [
    {
     "name": "stdout",
     "output_type": "stream",
     "text": [
      "Not present\n"
     ]
    }
   ],
   "source": [
    "check(string)"
   ]
  },
  {
   "cell_type": "code",
   "execution_count": null,
   "id": "26d4c0b9",
   "metadata": {},
   "outputs": [],
   "source": []
  }
 ],
 "metadata": {
  "kernelspec": {
   "display_name": "Python 3 (ipykernel)",
   "language": "python",
   "name": "python3"
  },
  "language_info": {
   "codemirror_mode": {
    "name": "ipython",
    "version": 3
   },
   "file_extension": ".py",
   "mimetype": "text/x-python",
   "name": "python",
   "nbconvert_exporter": "python",
   "pygments_lexer": "ipython3",
   "version": "3.9.12"
  }
 },
 "nbformat": 4,
 "nbformat_minor": 5
}
