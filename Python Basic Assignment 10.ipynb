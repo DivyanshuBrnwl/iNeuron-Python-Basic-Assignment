{
 "cells": [
  {
   "cell_type": "markdown",
   "id": "dcb7b63b",
   "metadata": {},
   "source": [
    "1. How do you distinguish between shutil.copy() and shutil.copytree()?"
   ]
  },
  {
   "cell_type": "code",
   "execution_count": 3,
   "id": "d92ec196",
   "metadata": {},
   "outputs": [
    {
     "data": {
      "text/plain": [
       "'shelve_copy.txt'"
      ]
     },
     "execution_count": 3,
     "metadata": {},
     "output_type": "execute_result"
    }
   ],
   "source": [
    "import shutil\n",
    "\n",
    "shutil.copy(\"shelve.txt\", \"shelve_copy.txt\")"
   ]
  },
  {
   "cell_type": "markdown",
   "id": "54c9a027",
   "metadata": {},
   "source": [
    "shutil.copy() copies the content of the file in new file and shutil.copytree() copies all the files of a directory."
   ]
  },
  {
   "cell_type": "code",
   "execution_count": 4,
   "id": "1c9c9dbe",
   "metadata": {},
   "outputs": [
    {
     "ename": "NotADirectoryError",
     "evalue": "[WinError 267] The directory name is invalid: 'shelve.txt'",
     "output_type": "error",
     "traceback": [
      "\u001b[1;31m---------------------------------------------------------------------------\u001b[0m",
      "\u001b[1;31mNotADirectoryError\u001b[0m                        Traceback (most recent call last)",
      "Input \u001b[1;32mIn [4]\u001b[0m, in \u001b[0;36m<cell line: 1>\u001b[1;34m()\u001b[0m\n\u001b[1;32m----> 1\u001b[0m \u001b[43mshutil\u001b[49m\u001b[38;5;241;43m.\u001b[39;49m\u001b[43mcopytree\u001b[49m\u001b[43m(\u001b[49m\u001b[38;5;124;43m\"\u001b[39;49m\u001b[38;5;124;43mshelve.txt\u001b[39;49m\u001b[38;5;124;43m\"\u001b[39;49m\u001b[43m,\u001b[49m\u001b[43m \u001b[49m\u001b[38;5;124;43m\"\u001b[39;49m\u001b[38;5;124;43mshelve_copy_tree.txt\u001b[39;49m\u001b[38;5;124;43m\"\u001b[39;49m\u001b[43m)\u001b[49m\n",
      "File \u001b[1;32m~\\anaconda3\\lib\\shutil.py:564\u001b[0m, in \u001b[0;36mcopytree\u001b[1;34m(src, dst, symlinks, ignore, copy_function, ignore_dangling_symlinks, dirs_exist_ok)\u001b[0m\n\u001b[0;32m    527\u001b[0m \u001b[38;5;124;03m\"\"\"Recursively copy a directory tree and return the destination directory.\u001b[39;00m\n\u001b[0;32m    528\u001b[0m \n\u001b[0;32m    529\u001b[0m \u001b[38;5;124;03mdirs_exist_ok dictates whether to raise an exception in case dst or any\u001b[39;00m\n\u001b[1;32m   (...)\u001b[0m\n\u001b[0;32m    561\u001b[0m \n\u001b[0;32m    562\u001b[0m \u001b[38;5;124;03m\"\"\"\u001b[39;00m\n\u001b[0;32m    563\u001b[0m sys\u001b[38;5;241m.\u001b[39maudit(\u001b[38;5;124m\"\u001b[39m\u001b[38;5;124mshutil.copytree\u001b[39m\u001b[38;5;124m\"\u001b[39m, src, dst)\n\u001b[1;32m--> 564\u001b[0m \u001b[38;5;28;01mwith\u001b[39;00m \u001b[43mos\u001b[49m\u001b[38;5;241;43m.\u001b[39;49m\u001b[43mscandir\u001b[49m\u001b[43m(\u001b[49m\u001b[43msrc\u001b[49m\u001b[43m)\u001b[49m \u001b[38;5;28;01mas\u001b[39;00m itr:\n\u001b[0;32m    565\u001b[0m     entries \u001b[38;5;241m=\u001b[39m \u001b[38;5;28mlist\u001b[39m(itr)\n\u001b[0;32m    566\u001b[0m \u001b[38;5;28;01mreturn\u001b[39;00m _copytree(entries\u001b[38;5;241m=\u001b[39mentries, src\u001b[38;5;241m=\u001b[39msrc, dst\u001b[38;5;241m=\u001b[39mdst, symlinks\u001b[38;5;241m=\u001b[39msymlinks,\n\u001b[0;32m    567\u001b[0m                  ignore\u001b[38;5;241m=\u001b[39mignore, copy_function\u001b[38;5;241m=\u001b[39mcopy_function,\n\u001b[0;32m    568\u001b[0m                  ignore_dangling_symlinks\u001b[38;5;241m=\u001b[39mignore_dangling_symlinks,\n\u001b[0;32m    569\u001b[0m                  dirs_exist_ok\u001b[38;5;241m=\u001b[39mdirs_exist_ok)\n",
      "\u001b[1;31mNotADirectoryError\u001b[0m: [WinError 267] The directory name is invalid: 'shelve.txt'"
     ]
    }
   ],
   "source": [
    "shutil.copytree(\"shelve.txt\", \"shelve_copy_tree.txt\")"
   ]
  },
  {
   "cell_type": "code",
   "execution_count": null,
   "id": "cb96b03a",
   "metadata": {},
   "outputs": [],
   "source": []
  },
  {
   "cell_type": "markdown",
   "id": "beb57dd3",
   "metadata": {},
   "source": [
    "2. What function is used to rename files??"
   ]
  },
  {
   "cell_type": "code",
   "execution_count": 7,
   "id": "dac28e81",
   "metadata": {},
   "outputs": [],
   "source": [
    "import os\n",
    "import shutil\n",
    "\n",
    "os.rename('ass1.txt', 'Goku.txt')"
   ]
  },
  {
   "cell_type": "markdown",
   "id": "2e765074",
   "metadata": {},
   "source": [
    "3. What is the difference between the delete functions in the send2trash and shutil modules?"
   ]
  },
  {
   "cell_type": "markdown",
   "id": "108e33fb",
   "metadata": {},
   "source": [
    "The send2trash functions will move a file or folder to the recycle bin, while shutil functions will permanently delete files and folders."
   ]
  },
  {
   "cell_type": "markdown",
   "id": "eab581f0",
   "metadata": {},
   "source": [
    "4. ZipFile objects have a close() method just like File objects’ close() method. What ZipFile method is equivalent to File objects’ open() method?"
   ]
  },
  {
   "cell_type": "markdown",
   "id": "13fd2871",
   "metadata": {},
   "source": [
    "from zipfile import Zipfile\n",
    "with ZipFile(file_name, 'r') as zip: -> this code will open specified zipfile for us. we can use zip objext to preform oother operation the ziplife. like zip.read()"
   ]
  },
  {
   "cell_type": "markdown",
   "id": "e3e5041d",
   "metadata": {},
   "source": [
    "5. Create a programme that searches a folder tree for files with a certain file extension (such as .pdf or .jpg). Copy these files from whatever location they are in to a new folder."
   ]
  },
  {
   "cell_type": "code",
   "execution_count": 6,
   "id": "83ad98b0",
   "metadata": {},
   "outputs": [
    {
     "name": "stdout",
     "output_type": "stream",
     "text": [
      "['annual-report-and-accounts-2021.pdf', 'B.COM COURSE & UNIVERSITY LIST.pdf', 'BCCCO_2023_895066.pdf', 'BICCO_2023_839743.pdf', 'BOBCCO_2023_133950.pdf', 'BRCCO_2023_1297683.pdf', 'BSheet.pdf', 'Case Study 1 Tally Prime Exercise.pdf', 'DayBook.pdf', 'keec102.pdf', 'keec103.pdf', 'Lec-10Slides.pdf', 'Lec-3Slides.pdf', 'Lec-4Slides.pdf', 'Lec-5Slides.pdf', 'Lec-6Slides (1).pdf', 'Lec-7Slides.pdf', 'Lec-8Slides.pdf', 'Lec-9Slides.pdf', 'lec14Notes.pdf', 'lec16Notes.pdf', 'lec2Notes.pdf', 'lec3Notes.pdf', 'lec4Notes.pdf', 'lec7Notes.pdf', 'lec8Notes.pdf', 'lec9Notes.pdf']\n"
     ]
    }
   ],
   "source": [
    "import os\n",
    "\n",
    "path = 'C:\\\\Users\\\\kumar\\\\Downloads'\n",
    "files = [x for x in os.listdir(path) if x.endswith('.pdf') or x.endswith('.jpg')]\n",
    "print(files)\n",
    "# shutil.copy('files', 'C:\\\\Users\\\\kumar\\\\Python Basics Assignments\\\\Python Basics Assignment')\n",
    "# os.path.abspath(\"Python Basics Assignment//Python Basic Assignment 9\")\n"
   ]
  },
  {
   "cell_type": "code",
   "execution_count": 4,
   "id": "5a649ca2",
   "metadata": {},
   "outputs": [],
   "source": [
    "import shutil"
   ]
  },
  {
   "cell_type": "code",
   "execution_count": 8,
   "id": "b2f40811",
   "metadata": {},
   "outputs": [
    {
     "name": "stdout",
     "output_type": "stream",
     "text": [
      "Looking in C:\\Users\\kumar\\Downloads for files with extensions of .mp4, .pdf, .jpg\n",
      "Coping C:\\Users\\kumar\\Downloads\\annual-report-and-accounts-2021.pdf to C:\\Users\\kumar\\Python Basics Assignments\n",
      "Coping C:\\Users\\kumar\\Downloads\\B.COM COURSE & UNIVERSITY LIST.pdf to C:\\Users\\kumar\\Python Basics Assignments\n",
      "Coping C:\\Users\\kumar\\Downloads\\BCCCO_2023_895066.pdf to C:\\Users\\kumar\\Python Basics Assignments\n",
      "Coping C:\\Users\\kumar\\Downloads\\BICCO_2023_839743.pdf to C:\\Users\\kumar\\Python Basics Assignments\n",
      "Coping C:\\Users\\kumar\\Downloads\\BOBCCO_2023_133950.pdf to C:\\Users\\kumar\\Python Basics Assignments\n",
      "Coping C:\\Users\\kumar\\Downloads\\BRCCO_2023_1297683.pdf to C:\\Users\\kumar\\Python Basics Assignments\n",
      "Coping C:\\Users\\kumar\\Downloads\\BSheet.pdf to C:\\Users\\kumar\\Python Basics Assignments\n",
      "Coping C:\\Users\\kumar\\Downloads\\Case Study 1 Tally Prime Exercise.pdf to C:\\Users\\kumar\\Python Basics Assignments\n",
      "Coping C:\\Users\\kumar\\Downloads\\DayBook.pdf to C:\\Users\\kumar\\Python Basics Assignments\n",
      "Coping C:\\Users\\kumar\\Downloads\\keec102.pdf to C:\\Users\\kumar\\Python Basics Assignments\n",
      "Coping C:\\Users\\kumar\\Downloads\\keec103.pdf to C:\\Users\\kumar\\Python Basics Assignments\n",
      "Coping C:\\Users\\kumar\\Downloads\\Lec-10Slides.pdf to C:\\Users\\kumar\\Python Basics Assignments\n",
      "Coping C:\\Users\\kumar\\Downloads\\Lec-3Slides.pdf to C:\\Users\\kumar\\Python Basics Assignments\n",
      "Coping C:\\Users\\kumar\\Downloads\\Lec-4Slides.pdf to C:\\Users\\kumar\\Python Basics Assignments\n",
      "Coping C:\\Users\\kumar\\Downloads\\Lec-5Slides.pdf to C:\\Users\\kumar\\Python Basics Assignments\n",
      "Coping C:\\Users\\kumar\\Downloads\\Lec-6Slides (1).pdf to C:\\Users\\kumar\\Python Basics Assignments\n",
      "Coping C:\\Users\\kumar\\Downloads\\Lec-7Slides.pdf to C:\\Users\\kumar\\Python Basics Assignments\n",
      "Coping C:\\Users\\kumar\\Downloads\\Lec-8Slides.pdf to C:\\Users\\kumar\\Python Basics Assignments\n",
      "Coping C:\\Users\\kumar\\Downloads\\Lec-9Slides.pdf to C:\\Users\\kumar\\Python Basics Assignments\n",
      "Coping C:\\Users\\kumar\\Downloads\\lec14Notes.pdf to C:\\Users\\kumar\\Python Basics Assignments\n",
      "Coping C:\\Users\\kumar\\Downloads\\lec16Notes.pdf to C:\\Users\\kumar\\Python Basics Assignments\n",
      "Coping C:\\Users\\kumar\\Downloads\\lec2Notes.pdf to C:\\Users\\kumar\\Python Basics Assignments\n",
      "Coping C:\\Users\\kumar\\Downloads\\lec3Notes.pdf to C:\\Users\\kumar\\Python Basics Assignments\n",
      "Coping C:\\Users\\kumar\\Downloads\\lec4Notes.pdf to C:\\Users\\kumar\\Python Basics Assignments\n",
      "Coping C:\\Users\\kumar\\Downloads\\lec7Notes.pdf to C:\\Users\\kumar\\Python Basics Assignments\n",
      "Coping C:\\Users\\kumar\\Downloads\\lec8Notes.pdf to C:\\Users\\kumar\\Python Basics Assignments\n",
      "Coping C:\\Users\\kumar\\Downloads\\lec9Notes.pdf to C:\\Users\\kumar\\Python Basics Assignments\n"
     ]
    }
   ],
   "source": [
    "import os, shutil\n",
    "\n",
    "def selectiveCopy(source, extensions, destFolder):\n",
    "    folder = os.path.abspath(source)\n",
    "    destFolder = os.path.abspath(destFolder)\n",
    "    print('Looking in', source, 'for files with extensions of', ', '.join(extensions))\n",
    "    for foldername, subfolders, filenames in os.walk(source):\n",
    "        for filename in filenames:\n",
    "            name, extension = os.path.splitext(filename)\n",
    "            if extension in extensions:\n",
    "                fileAbsPath = foldername + os.path.sep + filename\n",
    "                print('Coping', fileAbsPath, 'to', destFolder)\n",
    "                shutil.copy(fileAbsPath, destFolder)\n",
    "\n",
    "extensions = ['.mp4', '.pdf','.jpg']\n",
    "source = \"C:\\\\Users\\\\kumar\\\\Downloads\"\n",
    "destFolder = \"C:\\\\Users\\\\kumar\\\\Python Basics Assignments\"\n",
    "selectiveCopy(source, extensions, destFolder)"
   ]
  },
  {
   "cell_type": "code",
   "execution_count": null,
   "id": "d2bd7762",
   "metadata": {},
   "outputs": [],
   "source": []
  }
 ],
 "metadata": {
  "kernelspec": {
   "display_name": "Python 3 (ipykernel)",
   "language": "python",
   "name": "python3"
  },
  "language_info": {
   "codemirror_mode": {
    "name": "ipython",
    "version": 3
   },
   "file_extension": ".py",
   "mimetype": "text/x-python",
   "name": "python",
   "nbconvert_exporter": "python",
   "pygments_lexer": "ipython3",
   "version": "3.9.12"
  }
 },
 "nbformat": 4,
 "nbformat_minor": 5
}
