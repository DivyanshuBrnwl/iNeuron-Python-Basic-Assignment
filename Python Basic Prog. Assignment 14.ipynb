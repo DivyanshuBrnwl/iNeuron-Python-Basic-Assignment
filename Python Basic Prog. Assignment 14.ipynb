{
 "cells": [
  {
   "cell_type": "markdown",
   "id": "96f446e5",
   "metadata": {},
   "source": [
    "Question 1:\n",
    "Define a class with a generator which can iterate the numbers, which are divisible by\n",
    "7, between a given range 0 and n."
   ]
  },
  {
   "cell_type": "code",
   "execution_count": 1,
   "id": "c7c4f69e",
   "metadata": {},
   "outputs": [],
   "source": [
    "def divisiblity_7(n):\n",
    "    try:\n",
    "        for i in range(1, n):\n",
    "            if i%7 == 0:\n",
    "                yield(i)\n",
    "    except Exception as e:\n",
    "        print(e)"
   ]
  },
  {
   "cell_type": "code",
   "execution_count": 2,
   "id": "396d021f",
   "metadata": {},
   "outputs": [],
   "source": [
    "x = divisiblity_7(36)"
   ]
  },
  {
   "cell_type": "code",
   "execution_count": 4,
   "id": "17579671",
   "metadata": {},
   "outputs": [
    {
     "data": {
      "text/plain": [
       "14"
      ]
     },
     "execution_count": 4,
     "metadata": {},
     "output_type": "execute_result"
    }
   ],
   "source": [
    "next(x)"
   ]
  },
  {
   "cell_type": "markdown",
   "id": "a5409679",
   "metadata": {},
   "source": [
    "Question 2:\n",
    "Write a program to compute the frequency of the words from the input. The output\n",
    "should output after sorting the key alphanumerically.\n",
    "Suppose the following input is supplied to the program:\n",
    "New to Python or choosing between Python 2 and Python 3? Read Python 2 or\n",
    "Python 3."
   ]
  },
  {
   "cell_type": "code",
   "execution_count": 41,
   "id": "105f0317",
   "metadata": {},
   "outputs": [],
   "source": [
    "def sort_and_count():\n",
    "    a = input(\"Enter the string\").split()\n",
    "    x = sorted(set(a))\n",
    "    for i in x:\n",
    "        print(f\"{i}:{x.count(i)}\")"
   ]
  },
  {
   "cell_type": "code",
   "execution_count": 42,
   "id": "caafe20d",
   "metadata": {},
   "outputs": [
    {
     "name": "stdout",
     "output_type": "stream",
     "text": [
      "Enter the stringNew to Python or choosing between Python 2 and Python 3? Read Python 2 or Python 3\n",
      "2:1\n",
      "3:1\n",
      "3?:1\n",
      "New:1\n",
      "Python:1\n",
      "Read:1\n",
      "and:1\n",
      "between:1\n",
      "choosing:1\n",
      "or:1\n",
      "to:1\n"
     ]
    }
   ],
   "source": [
    "count_words()"
   ]
  },
  {
   "cell_type": "markdown",
   "id": "fb3d61cf",
   "metadata": {},
   "source": [
    "Question 3:\n",
    "\n",
    "Define a class Person and its two child classes: Male and Female. All classes have a\n",
    "method \"getGender\"; which can print \"Male\"; for Male class and \"Female\" for Female\n",
    "class."
   ]
  },
  {
   "cell_type": "code",
   "execution_count": 55,
   "id": "5e21e93f",
   "metadata": {},
   "outputs": [],
   "source": [
    "class Person:\n",
    "    def person(self):\n",
    "        print(\"I am a Person\")\n",
    "    \n",
    "class Male(Person):\n",
    "    def getGender(self):\n",
    "        print(\"Male\")\n",
    "    \n",
    "class Female(Person):\n",
    "    def getGender(self):\n",
    "        print(\"Female\")"
   ]
  },
  {
   "cell_type": "code",
   "execution_count": 56,
   "id": "f6489de5",
   "metadata": {},
   "outputs": [],
   "source": [
    "a = Person()"
   ]
  },
  {
   "cell_type": "code",
   "execution_count": 57,
   "id": "8418e656",
   "metadata": {},
   "outputs": [
    {
     "name": "stdout",
     "output_type": "stream",
     "text": [
      "I am a Person\n"
     ]
    }
   ],
   "source": [
    "a.person()"
   ]
  },
  {
   "cell_type": "code",
   "execution_count": 58,
   "id": "03aac019",
   "metadata": {},
   "outputs": [],
   "source": [
    "b = Male()"
   ]
  },
  {
   "cell_type": "code",
   "execution_count": 59,
   "id": "0d6960da",
   "metadata": {},
   "outputs": [
    {
     "name": "stdout",
     "output_type": "stream",
     "text": [
      "I am a Person\n"
     ]
    }
   ],
   "source": [
    "b.person()"
   ]
  },
  {
   "cell_type": "code",
   "execution_count": 60,
   "id": "4adc0530",
   "metadata": {},
   "outputs": [],
   "source": [
    "c = Female()"
   ]
  },
  {
   "cell_type": "code",
   "execution_count": 62,
   "id": "dd8ec649",
   "metadata": {},
   "outputs": [
    {
     "name": "stdout",
     "output_type": "stream",
     "text": [
      "Female\n"
     ]
    }
   ],
   "source": [
    "c.getGender()"
   ]
  },
  {
   "cell_type": "code",
   "execution_count": 63,
   "id": "3749872b",
   "metadata": {},
   "outputs": [
    {
     "name": "stdout",
     "output_type": "stream",
     "text": [
      "I am a Person\n"
     ]
    }
   ],
   "source": [
    "c.person()"
   ]
  },
  {
   "cell_type": "markdown",
   "id": "1577c116",
   "metadata": {},
   "source": [
    "Question 4:\n",
    "Please write a program to generate all sentences where subject is in [\"I\", \"You\"] and\n",
    "verb is in [\"Play\", \"Love\"] and the object is in [\"Hockey\",\"Football\"]."
   ]
  },
  {
   "cell_type": "code",
   "execution_count": 67,
   "id": "a1d59c83",
   "metadata": {},
   "outputs": [
    {
     "name": "stdout",
     "output_type": "stream",
     "text": [
      "I Play Hockey\n",
      "I Play Football\n",
      "I Love Hockey\n",
      "I Love Football\n",
      "You Play Hockey\n",
      "You Play Football\n",
      "You Love Hockey\n",
      "You Love Football\n"
     ]
    }
   ],
   "source": [
    "subjects = [\"I\", \"You\"]\n",
    "verbs = [\"Play\", \"Love\"]\n",
    "objects = [\"Hockey\",\"Football\"]\n",
    "\n",
    "for i in range(len(subjects)):\n",
    "    for j in range(len(verbs)):\n",
    "        for k in range(len(object1)):\n",
    "            sentence = f\"{subjects[i]} {verb[j]} {objects[k]}\"\n",
    "            print(sentence)"
   ]
  },
  {
   "cell_type": "markdown",
   "id": "a71746b4",
   "metadata": {},
   "source": [
    "Question 5:\n",
    "Please write a program to compress and decompress the string \"hello world!hello world!hello world!hello world!\"."
   ]
  },
  {
   "cell_type": "code",
   "execution_count": 74,
   "id": "1c9c14ea",
   "metadata": {},
   "outputs": [
    {
     "name": "stdout",
     "output_type": "stream",
     "text": [
      "hello world!hello world!hello world!hello world!\n",
      "b'x\\x9c\\xcbH\\xcd\\xc9\\xc9W(\\xcf/\\xcaIQ\\xcc \\x82\\r\\x00\\xbd[\\x11\\xf5'\n",
      "hello world!hello world!hello world!hello world!\n"
     ]
    }
   ],
   "source": [
    "import zlib\n",
    "\n",
    "string = \"hello world!hello world!hello world!hello world!\"\n",
    "\n",
    "original_string = string\n",
    "\n",
    "compressed_string = zlib.compress(string.encode())\n",
    "\n",
    "decompress_string = zlib.decompress(compressed_string).decode()\n",
    "\n",
    "print(original_string)\n",
    "print(compressed_string)\n",
    "print(decompress_string)"
   ]
  },
  {
   "cell_type": "markdown",
   "id": "47a7a516",
   "metadata": {},
   "source": [
    "Question 6:\n",
    "Please write a binary search function which searches an item in a sorted list. The function should return the index of element to be searched in the list."
   ]
  },
  {
   "cell_type": "code",
   "execution_count": 85,
   "id": "c714e1c9",
   "metadata": {},
   "outputs": [],
   "source": [
    "def Binary_search(n):\n",
    "    list = [2, 4, 6, 7, 9, 17, 24, 39, 45, 55, 68, 91, 99]\n",
    "    lower = 0 \n",
    "    upper = len(list) - 1\n",
    "    \n",
    "    while lower <= upper:\n",
    "        mid = (lower + upper) // 2\n",
    "        if list[mid] == n:\n",
    "            globals()['pos'] = mid\n",
    "            \n",
    "            return True\n",
    "        \n",
    "        else:\n",
    "            if list[mid] < n:\n",
    "                lower = mid+1\n",
    "            else:\n",
    "                upper = mid-1\n",
    "\n",
    "    return False"
   ]
  },
  {
   "cell_type": "code",
   "execution_count": 86,
   "id": "66e5ae68",
   "metadata": {},
   "outputs": [
    {
     "name": "stdout",
     "output_type": "stream",
     "text": [
      "Not Found\n"
     ]
    }
   ],
   "source": [
    "if Binary_search(20):\n",
    "    print(\"Found\")\n",
    "else:\n",
    "    print(\"Not Found\")"
   ]
  },
  {
   "cell_type": "code",
   "execution_count": null,
   "id": "03a96dc6",
   "metadata": {},
   "outputs": [],
   "source": []
  }
 ],
 "metadata": {
  "kernelspec": {
   "display_name": "Python 3 (ipykernel)",
   "language": "python",
   "name": "python3"
  },
  "language_info": {
   "codemirror_mode": {
    "name": "ipython",
    "version": 3
   },
   "file_extension": ".py",
   "mimetype": "text/x-python",
   "name": "python",
   "nbconvert_exporter": "python",
   "pygments_lexer": "ipython3",
   "version": "3.9.12"
  }
 },
 "nbformat": 4,
 "nbformat_minor": 5
}
