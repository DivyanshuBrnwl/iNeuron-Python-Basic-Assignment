{
 "cells": [
  {
   "cell_type": "code",
   "execution_count": null,
   "id": "516fbea1",
   "metadata": {},
   "outputs": [],
   "source": [
    "1. What is the relationship between def statements and lambda expressions ?"
   ]
  },
  {
   "cell_type": "markdown",
   "id": "e9a2cc4a",
   "metadata": {},
   "source": [
    "The body of the lambda expression is only consist of single expression, the result of which is returned from the function created\n",
    "and the lamda expression is the expression which evaluates to a function object and can bind it to a name."
   ]
  },
  {
   "cell_type": "markdown",
   "id": "f54b18f1",
   "metadata": {},
   "source": [
    "2. What is the benefit of lambda?"
   ]
  },
  {
   "cell_type": "markdown",
   "id": "a10d2447",
   "metadata": {},
   "source": [
    "A. Flexibility: Lambda functions are very flexible and can quickly adapt to different needs. For example, it can add custom expressions or logic to existing functions. It can also be used to organize complex operations.\n",
    "\n",
    "B. Conciseness: Lambda functions are concise and easy to read. They can be used to write code that is more readable and maintainable.\n",
    "\n",
    "C. Speed: Lambda functions are faster than normal functions because they do not require the overhead of creating a new function object.\n",
    "\n",
    "D. Memory efficiency: Lambda functions are more memory-efficient than normal functions because they do not create a new function object.\n",
    "\n",
    "E. Higher-order functions: Lambda functions can be used as arguments to higher-order functions like map(), filter(), and reduce()2."
   ]
  },
  {
   "cell_type": "markdown",
   "id": "ec4343ac",
   "metadata": {},
   "source": [
    "3. Compare and contrast map, filter, and reduce."
   ]
  },
  {
   "cell_type": "markdown",
   "id": "5136fccb",
   "metadata": {},
   "source": [
    "** map() applies a function to each element of an iterable and returns a new iterable with the results.\n",
    "\n",
    "** filter() applies a function to each element of an iterable and returns a new iterable with only the elements that satisfy a given condition.\n",
    "\n",
    "** reduce() takes all of the elements in an iterable and reduces them into a single value. It does not return a new list based on the function and iterable we’ve passed. Instead, it returns a single value1"
   ]
  },
  {
   "cell_type": "markdown",
   "id": "f93e4f6e",
   "metadata": {},
   "source": [
    "4. What are function annotations, and how are they used?"
   ]
  },
  {
   "cell_type": "markdown",
   "id": "cedbeb29",
   "metadata": {},
   "source": [
    "Function annotations are a feature introduced in Python 3 that allow you to add arbitrary metadata to function arguments and return values. They are defined using the -> operator followed by an expression. The expression can be any valid Python expression, but it is typically a type hint."
   ]
  },
  {
   "cell_type": "code",
   "execution_count": 1,
   "id": "b4afa75f",
   "metadata": {},
   "outputs": [
    {
     "name": "stdout",
     "output_type": "stream",
     "text": [
      "Hello, John!\n"
     ]
    }
   ],
   "source": [
    "def greet(name: str) -> str:\n",
    "    return f\"Hello, {name}!\"\n",
    "\n",
    "print(greet(\"John\")) # Output: Hello, John!\n"
   ]
  },
  {
   "cell_type": "markdown",
   "id": "d4d9d0f6",
   "metadata": {},
   "source": [
    "In this example, the argument name is annotated with the type str, and the return value is annotated with the type str. It is not\n",
    "annotated with the python itself it is annotated by the creator of the function."
   ]
  },
  {
   "cell_type": "markdown",
   "id": "ea9a9bd5",
   "metadata": {},
   "source": [
    "5. What are recursive functions, and how are they used?"
   ]
  },
  {
   "cell_type": "markdown",
   "id": "454be8f0",
   "metadata": {},
   "source": [
    "A recursive function is a function that calls itself until it doesn’t. In Python, a recursive function is defined using the same syntax as a regular function, but with a call to itself inside the function body."
   ]
  },
  {
   "cell_type": "code",
   "execution_count": 2,
   "id": "1782f1ef",
   "metadata": {},
   "outputs": [
    {
     "name": "stdout",
     "output_type": "stream",
     "text": [
      "120\n"
     ]
    }
   ],
   "source": [
    "def factorial(n):\n",
    "    if n == 0:\n",
    "        return 1\n",
    "    else:\n",
    "        return n * factorial(n-1)\n",
    "\n",
    "print(factorial(5))\n"
   ]
  },
  {
   "cell_type": "markdown",
   "id": "bae47858",
   "metadata": {},
   "source": [
    "Here, in this function we used recursion function as the function is calling itself inside the function."
   ]
  },
  {
   "cell_type": "code",
   "execution_count": null,
   "id": "51ac96e4",
   "metadata": {},
   "outputs": [],
   "source": [
    "6. What are some general design guidelines for coding functions?"
   ]
  },
  {
   "cell_type": "markdown",
   "id": "db2a89ca",
   "metadata": {},
   "source": [
    "A. Keep functions short and focused on a single task.\n",
    "\n",
    "B. Avoid using global variables inside functions.\n",
    "\n",
    "C. Use comments to explain the purpose of the function and any complex logic.\n",
    "\n",
    "D. Use default values for optional arguments instead of None.\n",
    "\n",
    "E. Use exceptions to handle errors instead of returning error codes."
   ]
  },
  {
   "cell_type": "markdown",
   "id": "769662e5",
   "metadata": {},
   "source": [
    "7. Name three or more ways that functions can communicate results to a caller."
   ]
  },
  {
   "cell_type": "markdown",
   "id": "c669dc9b",
   "metadata": {},
   "source": [
    "A. Return statement: A function can return a value to the caller using the return statement. The value can be of any data type.\n",
    "\n",
    "B. Output parameters: A function can modify its input parameters and pass the modified values back to the caller.\n",
    "\n",
    "C. Exceptions: A function can raise an exception if an error occurs during its execution."
   ]
  },
  {
   "cell_type": "code",
   "execution_count": null,
   "id": "8df86d5b",
   "metadata": {},
   "outputs": [],
   "source": []
  }
 ],
 "metadata": {
  "kernelspec": {
   "display_name": "Python 3 (ipykernel)",
   "language": "python",
   "name": "python3"
  },
  "language_info": {
   "codemirror_mode": {
    "name": "ipython",
    "version": 3
   },
   "file_extension": ".py",
   "mimetype": "text/x-python",
   "name": "python",
   "nbconvert_exporter": "python",
   "pygments_lexer": "ipython3",
   "version": "3.9.12"
  }
 },
 "nbformat": 4,
 "nbformat_minor": 5
}
