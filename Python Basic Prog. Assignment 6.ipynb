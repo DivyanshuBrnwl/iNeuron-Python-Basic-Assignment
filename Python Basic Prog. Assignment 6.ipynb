{
 "cells": [
  {
   "cell_type": "markdown",
   "id": "cdf650e9",
   "metadata": {},
   "source": [
    "1. Write a Python Program to Display Fibonacci Sequence Using Recursion?"
   ]
  },
  {
   "cell_type": "code",
   "execution_count": 1,
   "id": "6f7fb0f8",
   "metadata": {},
   "outputs": [],
   "source": [
    "def fibo_recursion(n):\n",
    "    if n == 0:\n",
    "        return 0\n",
    "    elif n == 1:\n",
    "        return 1\n",
    "    else:\n",
    "        return fibo_recursion(n-1) + fibo_recursion(n-2)"
   ]
  },
  {
   "cell_type": "code",
   "execution_count": 4,
   "id": "959a439c",
   "metadata": {},
   "outputs": [
    {
     "name": "stdout",
     "output_type": "stream",
     "text": [
      "0, 1, 1, 2, 3, 5, 8, 13, 21, 34, 55, 89, 144, 233, 377, "
     ]
    }
   ],
   "source": [
    "for i in range(15):\n",
    "    print(fibo_recursion(i), end=\", \")"
   ]
  },
  {
   "cell_type": "markdown",
   "id": "13b44c1f",
   "metadata": {},
   "source": [
    "2. Write a Python Program to Find Factorial of Number Using Recursion?"
   ]
  },
  {
   "cell_type": "code",
   "execution_count": 1,
   "id": "e2cda931",
   "metadata": {},
   "outputs": [],
   "source": [
    "def facto_recursion(n):\n",
    "    if n == 0:\n",
    "        return 1\n",
    "    elif n == 1:\n",
    "        return 1\n",
    "    else:\n",
    "        return n*facto_recursion(n-1)"
   ]
  },
  {
   "cell_type": "code",
   "execution_count": 2,
   "id": "6ecaf39c",
   "metadata": {},
   "outputs": [
    {
     "data": {
      "text/plain": [
       "40320"
      ]
     },
     "execution_count": 2,
     "metadata": {},
     "output_type": "execute_result"
    }
   ],
   "source": [
    "facto_recursion(8)"
   ]
  },
  {
   "cell_type": "markdown",
   "id": "f65a2a71",
   "metadata": {},
   "source": [
    "3. Write a Python Program to calculate your Body Mass Index?"
   ]
  },
  {
   "cell_type": "code",
   "execution_count": 5,
   "id": "7fcb3fa7",
   "metadata": {},
   "outputs": [
    {
     "name": "stdout",
     "output_type": "stream",
     "text": [
      "Enter Your Weight:- 69\n",
      "Enter Your Height in Meter:- 1.78\n",
      "Your BMI score is :- 21.777553339224845\n",
      "NORMAL WEIGHT\n"
     ]
    }
   ],
   "source": [
    "weight = float(input(\"Enter Your Weight:- \"))\n",
    "Height = float(input(\"Enter Your Height in Meter:- \"))\n",
    "BMI = weight/(Height*Height)\n",
    "print(f\"Your BMI score is :- {BMI}\")\n",
    "if BMI <= 18.5:\n",
    "    print(\"UNDERWEIGHT! You Need to gain some Weight\")\n",
    "elif 18.5<BMI<25.9:\n",
    "    print(\"NORMAL WEIGHT\")\n",
    "elif 25.0<BMI<29.9:\n",
    "    print(\"OVERWEIGHT! You Need TO Loose Some Weight\")\n",
    "else:\n",
    "    print(\"OVERWEIGHT! Health Risks\")"
   ]
  },
  {
   "cell_type": "markdown",
   "id": "a3266005",
   "metadata": {},
   "source": [
    "4. Write a Python Program to calculate the natural logarithm of any number?"
   ]
  },
  {
   "cell_type": "code",
   "execution_count": 11,
   "id": "c2d6ccc1",
   "metadata": {},
   "outputs": [
    {
     "name": "stdout",
     "output_type": "stream",
     "text": [
      "Enter the number8\n",
      "The natural logarithm of 8 is 2.0794415416798357\n"
     ]
    }
   ],
   "source": [
    "import math\n",
    "number = int(input(\"Enter the number\"))\n",
    "print(f\"The natural logarithm of {number} is {math.log(number)}\")"
   ]
  },
  {
   "cell_type": "markdown",
   "id": "9d731095",
   "metadata": {},
   "source": [
    "5. Write a Python Program for cube sum of first n natural numbers?"
   ]
  },
  {
   "cell_type": "code",
   "execution_count": 24,
   "id": "e4d51ca2",
   "metadata": {},
   "outputs": [],
   "source": [
    "def sum_cube(n):\n",
    "    sum_cube = 0\n",
    "    for i in range(n+1):\n",
    "        sum_cube = sum_cube + i*i*i\n",
    "    return sum_cube"
   ]
  },
  {
   "cell_type": "code",
   "execution_count": 25,
   "id": "7d69d2fa",
   "metadata": {},
   "outputs": [
    {
     "data": {
      "text/plain": [
       "441"
      ]
     },
     "execution_count": 25,
     "metadata": {},
     "output_type": "execute_result"
    }
   ],
   "source": [
    "sum_cube(6)"
   ]
  },
  {
   "cell_type": "code",
   "execution_count": null,
   "id": "21c47fbc",
   "metadata": {},
   "outputs": [],
   "source": []
  }
 ],
 "metadata": {
  "kernelspec": {
   "display_name": "Python 3 (ipykernel)",
   "language": "python",
   "name": "python3"
  },
  "language_info": {
   "codemirror_mode": {
    "name": "ipython",
    "version": 3
   },
   "file_extension": ".py",
   "mimetype": "text/x-python",
   "name": "python",
   "nbconvert_exporter": "python",
   "pygments_lexer": "ipython3",
   "version": "3.9.12"
  }
 },
 "nbformat": 4,
 "nbformat_minor": 5
}
