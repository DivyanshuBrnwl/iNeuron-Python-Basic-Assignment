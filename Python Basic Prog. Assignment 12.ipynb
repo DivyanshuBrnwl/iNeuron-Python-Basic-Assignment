{
 "cells": [
  {
   "cell_type": "code",
   "execution_count": null,
   "id": "7e6be447",
   "metadata": {},
   "outputs": [],
   "source": [
    "1. Write a Python program to Extract Unique values dictionary values?"
   ]
  },
  {
   "cell_type": "code",
   "execution_count": 2,
   "id": "081de36d",
   "metadata": {},
   "outputs": [],
   "source": [
    "dict1 = {\n",
    "    'Facebook':'Social media',\n",
    "    'PW':'Ed tech',\n",
    "    'Zomato':'Food',\n",
    "    'Whatsapp':'Social media',\n",
    "    'Swiggy':'Food'\n",
    "        }"
   ]
  },
  {
   "cell_type": "code",
   "execution_count": 3,
   "id": "74d864d5",
   "metadata": {},
   "outputs": [
    {
     "data": {
      "text/plain": [
       "{'Ed tech', 'Food', 'Social media'}"
      ]
     },
     "execution_count": 3,
     "metadata": {},
     "output_type": "execute_result"
    }
   ],
   "source": [
    "set(dict1.values())"
   ]
  },
  {
   "cell_type": "code",
   "execution_count": null,
   "id": "dd0f0194",
   "metadata": {},
   "outputs": [],
   "source": [
    "2. Write a Python program to find the sum of all items in a dictionary?"
   ]
  },
  {
   "cell_type": "code",
   "execution_count": 13,
   "id": "497f5d92",
   "metadata": {},
   "outputs": [
    {
     "data": {
      "text/plain": [
       "45"
      ]
     },
     "execution_count": 13,
     "metadata": {},
     "output_type": "execute_result"
    }
   ],
   "source": [
    "dict2 = {\n",
    "    'E':5,\n",
    "    'F':6,\n",
    "    'G':7,\n",
    "    'H':8,\n",
    "    'I':9,\n",
    "    'j':10\n",
    "}\n",
    "sum(dict2.values())"
   ]
  },
  {
   "cell_type": "code",
   "execution_count": null,
   "id": "4e0d4a2c",
   "metadata": {},
   "outputs": [],
   "source": [
    "3. Write a Python program to Merging two Dictionaries?"
   ]
  },
  {
   "cell_type": "code",
   "execution_count": 5,
   "id": "0ff62eb9",
   "metadata": {},
   "outputs": [],
   "source": [
    "dict2.update(dict1)"
   ]
  },
  {
   "cell_type": "code",
   "execution_count": 6,
   "id": "0b32770e",
   "metadata": {},
   "outputs": [
    {
     "name": "stdout",
     "output_type": "stream",
     "text": [
      "{'E': 5, 'F': 6, 'G': 7, 'H': 8, 'I': 9, 'j': 10, 'Facebook': 'Social media', 'PW': 'Ed tech', 'Zomato': 'Food', 'Whatsapp': 'Social media', 'Swiggy': 'Food'}\n"
     ]
    }
   ],
   "source": [
    "print(dict2)"
   ]
  },
  {
   "cell_type": "code",
   "execution_count": null,
   "id": "d015690b",
   "metadata": {},
   "outputs": [],
   "source": [
    "4. Write a Python program to convert key-values list to flat dictionary?"
   ]
  },
  {
   "cell_type": "code",
   "execution_count": 18,
   "id": "470d5bfd",
   "metadata": {},
   "outputs": [],
   "source": [
    "scores = [('Nikhil', 6), ('Divyanshu', 9), ('Umesh',8), ('Rishi', 7)]"
   ]
  },
  {
   "cell_type": "code",
   "execution_count": 20,
   "id": "3d399fd4",
   "metadata": {},
   "outputs": [],
   "source": [
    "dict3={}\n",
    "for key, value in scores:\n",
    "    dict3[key]=value"
   ]
  },
  {
   "cell_type": "code",
   "execution_count": 21,
   "id": "a4b18651",
   "metadata": {},
   "outputs": [
    {
     "data": {
      "text/plain": [
       "{'Nikhil': 6, 'Divyanshu': 9, 'Umesh': 8, 'Rishi': 7}"
      ]
     },
     "execution_count": 21,
     "metadata": {},
     "output_type": "execute_result"
    }
   ],
   "source": [
    "dict3"
   ]
  },
  {
   "cell_type": "code",
   "execution_count": null,
   "id": "1dbb3785",
   "metadata": {},
   "outputs": [],
   "source": [
    "5. Write a Python program to insertion at the beginning in OrderedDict?"
   ]
  },
  {
   "cell_type": "code",
   "execution_count": 16,
   "id": "8c7b01bd",
   "metadata": {},
   "outputs": [
    {
     "data": {
      "text/plain": [
       "{'Facebook': 'Social media',\n",
       " 'PW': 'Ed tech',\n",
       " 'Zomato': 'Food',\n",
       " 'Whatsapp': 'Social media',\n",
       " 'Swiggy': 'Food'}"
      ]
     },
     "execution_count": 16,
     "metadata": {},
     "output_type": "execute_result"
    }
   ],
   "source": [
    "dict1"
   ]
  },
  {
   "cell_type": "code",
   "execution_count": 17,
   "id": "cc1bdea1",
   "metadata": {},
   "outputs": [
    {
     "data": {
      "text/plain": [
       "{'E': 5, 'F': 6, 'G': 7, 'H': 8, 'I': 9, 'j': 10}"
      ]
     },
     "execution_count": 17,
     "metadata": {},
     "output_type": "execute_result"
    }
   ],
   "source": [
    "dict2"
   ]
  },
  {
   "cell_type": "code",
   "execution_count": null,
   "id": "78668397",
   "metadata": {},
   "outputs": [],
   "source": [
    "6. Write a Python program to check order of character in string using OrderedDict()?"
   ]
  },
  {
   "cell_type": "code",
   "execution_count": null,
   "id": "f513662b",
   "metadata": {},
   "outputs": [],
   "source": [
    "from collections import OrderedDict\n",
    "def check_order(string1, pattern):\n",
    "    dict = OrderedDict.fromkeys(string1)\n",
    "    ptr = 0\n",
    "    for key, value in dict.items():\n",
    "        if (key == pattern[ptr]):\n",
    "            ptr = ptr + 1\n",
    "        if (ptr == (len(pattern))):\n",
    "            return True\n",
    "    return False"
   ]
  },
  {
   "cell_type": "code",
   "execution_count": null,
   "id": "410e457b",
   "metadata": {},
   "outputs": [],
   "source": [
    "check_order('Divyanshu', 'Dvnsu')"
   ]
  },
  {
   "cell_type": "code",
   "execution_count": null,
   "id": "69392482",
   "metadata": {},
   "outputs": [],
   "source": [
    "7. Write a Python program to sort Python Dictionaries by Key or Value?"
   ]
  },
  {
   "cell_type": "markdown",
   "id": "68a58d11",
   "metadata": {},
   "source": [
    "sorting python dictionary by keys"
   ]
  },
  {
   "cell_type": "code",
   "execution_count": 7,
   "id": "f0b96e59",
   "metadata": {},
   "outputs": [
    {
     "data": {
      "text/plain": [
       "{'E': 5,\n",
       " 'F': 6,\n",
       " 'Facebook': 'Social media',\n",
       " 'G': 7,\n",
       " 'H': 8,\n",
       " 'I': 9,\n",
       " 'PW': 'Ed tech',\n",
       " 'Swiggy': 'Food',\n",
       " 'Whatsapp': 'Social media',\n",
       " 'Zomato': 'Food',\n",
       " 'j': 10}"
      ]
     },
     "execution_count": 7,
     "metadata": {},
     "output_type": "execute_result"
    }
   ],
   "source": [
    "dict(sorted(dict2.items()))"
   ]
  },
  {
   "cell_type": "markdown",
   "id": "565d5020",
   "metadata": {},
   "source": [
    "sorting python dictionary by values"
   ]
  },
  {
   "cell_type": "code",
   "execution_count": 15,
   "id": "14edccb2",
   "metadata": {},
   "outputs": [
    {
     "name": "stdout",
     "output_type": "stream",
     "text": [
      "{'E': 5, 'F': 6, 'G': 7, 'H': 8, 'I': 9, 'j': 10}\n"
     ]
    }
   ],
   "source": [
    "sorted_with_value = dict(sorted(dict2.items(), key=lambda item: item[1]))\n",
    "print(sorted_with_value)"
   ]
  },
  {
   "cell_type": "code",
   "execution_count": null,
   "id": "52e89667",
   "metadata": {},
   "outputs": [],
   "source": []
  }
 ],
 "metadata": {
  "kernelspec": {
   "display_name": "Python 3 (ipykernel)",
   "language": "python",
   "name": "python3"
  },
  "language_info": {
   "codemirror_mode": {
    "name": "ipython",
    "version": 3
   },
   "file_extension": ".py",
   "mimetype": "text/x-python",
   "name": "python",
   "nbconvert_exporter": "python",
   "pygments_lexer": "ipython3",
   "version": "3.9.12"
  }
 },
 "nbformat": 4,
 "nbformat_minor": 5
}
