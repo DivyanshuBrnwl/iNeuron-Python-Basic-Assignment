{
 "cells": [
  {
   "cell_type": "code",
   "execution_count": null,
   "id": "1f590fc4",
   "metadata": {},
   "outputs": [],
   "source": [
    "1. Create an assert statement that throws an AssertionError if the variable spam is a negative\n",
    "integer."
   ]
  },
  {
   "cell_type": "code",
   "execution_count": 12,
   "id": "4c50745d",
   "metadata": {},
   "outputs": [
    {
     "name": "stdout",
     "output_type": "stream",
     "text": [
      "Enter the number-1\n",
      "<class 'AssertionError'>\n"
     ]
    }
   ],
   "source": [
    "try:\n",
    "    spam = int(input(\"Enter the number\"))\n",
    "    assert num > 0\n",
    "    print(\"The given number is even\")\n",
    "except AssertionError as e:\n",
    "    print(AssertionError)"
   ]
  },
  {
   "cell_type": "code",
   "execution_count": null,
   "id": "6ed53b3d",
   "metadata": {},
   "outputs": [],
   "source": [
    "2. Write an assert statement that triggers an AssertionError if the variables eggs and bacon contain\n",
    "strings that are the same as each other, even if their cases are different (that is, 'hello' and 'hello' are\n",
    "considered the same, and 'goodbye' and 'GOODbye' are also considered the same)."
   ]
  },
  {
   "cell_type": "code",
   "execution_count": 13,
   "id": "62d25443",
   "metadata": {},
   "outputs": [
    {
     "name": "stdout",
     "output_type": "stream",
     "text": [
      "hello my name is divyanshu\n"
     ]
    }
   ],
   "source": [
    "a = \"Hello My name is DIVYAnshu\"\n",
    "b = a.lower()\n",
    "print(b)"
   ]
  },
  {
   "cell_type": "code",
   "execution_count": 15,
   "id": "885e41d6",
   "metadata": {},
   "outputs": [
    {
     "name": "stdout",
     "output_type": "stream",
     "text": [
      "Enter any thing:- hello\n",
      "Enter anything:- HellO\n"
     ]
    },
    {
     "ename": "AssertionError",
     "evalue": "",
     "output_type": "error",
     "traceback": [
      "\u001b[1;31m---------------------------------------------------------------------------\u001b[0m",
      "\u001b[1;31mAssertionError\u001b[0m                            Traceback (most recent call last)",
      "Input \u001b[1;32mIn [15]\u001b[0m, in \u001b[0;36m<cell line: 3>\u001b[1;34m()\u001b[0m\n\u001b[0;32m      1\u001b[0m eggs \u001b[38;5;241m=\u001b[39m \u001b[38;5;28mstr\u001b[39m(\u001b[38;5;28minput\u001b[39m(\u001b[38;5;124m\"\u001b[39m\u001b[38;5;124mEnter any thing:- \u001b[39m\u001b[38;5;124m\"\u001b[39m))\n\u001b[0;32m      2\u001b[0m bacon \u001b[38;5;241m=\u001b[39m \u001b[38;5;28mstr\u001b[39m(\u001b[38;5;28minput\u001b[39m(\u001b[38;5;124m\"\u001b[39m\u001b[38;5;124mEnter anything:- \u001b[39m\u001b[38;5;124m\"\u001b[39m))\n\u001b[1;32m----> 3\u001b[0m \u001b[38;5;28;01massert\u001b[39;00m eggs\u001b[38;5;241m.\u001b[39mlower() \u001b[38;5;241m!=\u001b[39m bacon\u001b[38;5;241m.\u001b[39mlower()\n",
      "\u001b[1;31mAssertionError\u001b[0m: "
     ]
    }
   ],
   "source": [
    "eggs = str(input(\"Enter any thing:- \"))\n",
    "bacon = str(input(\"Enter anything:- \"))\n",
    "assert eggs.lower() != bacon.lower()"
   ]
  },
  {
   "cell_type": "code",
   "execution_count": null,
   "id": "ab215381",
   "metadata": {},
   "outputs": [],
   "source": [
    "3. Create an assert statement that throws an AssertionError every time."
   ]
  },
  {
   "cell_type": "code",
   "execution_count": 18,
   "id": "4d9965e4",
   "metadata": {},
   "outputs": [
    {
     "ename": "SyntaxError",
     "evalue": "invalid syntax (712308060.py, line 2)",
     "output_type": "error",
     "traceback": [
      "\u001b[1;36m  Input \u001b[1;32mIn [18]\u001b[1;36m\u001b[0m\n\u001b[1;33m    assert False print(a)\u001b[0m\n\u001b[1;37m                 ^\u001b[0m\n\u001b[1;31mSyntaxError\u001b[0m\u001b[1;31m:\u001b[0m invalid syntax\n"
     ]
    }
   ],
   "source": [
    "a = input(\"Enter a number\")\n",
    "assert False "
   ]
  },
  {
   "cell_type": "code",
   "execution_count": null,
   "id": "9d7cc220",
   "metadata": {},
   "outputs": [],
   "source": [
    "4. What are the two lines that must be present in your software in order to call logging.debug()?"
   ]
  },
  {
   "cell_type": "code",
   "execution_count": null,
   "id": "2732f5f3",
   "metadata": {},
   "outputs": [],
   "source": [
    "import logging\n",
    "logging.basicConfig(filename='any_file_name' level=logging.DEBUG)"
   ]
  },
  {
   "cell_type": "code",
   "execution_count": null,
   "id": "e9203883",
   "metadata": {},
   "outputs": [],
   "source": [
    "5. What are the two lines that your program must have in order to have logging.debug() send a\n",
    "logging message to a file named programLog.txt?"
   ]
  },
  {
   "cell_type": "code",
   "execution_count": 10,
   "id": "46f93df6",
   "metadata": {},
   "outputs": [],
   "source": [
    "import logging\n",
    "logging.basicConfig(filename='programLog.txt', level=logging.DEBUG)\n",
    "def Add(a, b):\n",
    "    return a + b\n",
    "\n",
    "add_result = Add(5, 13)\n",
    "logging.debug(add_result)"
   ]
  },
  {
   "cell_type": "code",
   "execution_count": null,
   "id": "5a7077f5",
   "metadata": {},
   "outputs": [],
   "source": [
    "6. What are the five levels of logging?"
   ]
  },
  {
   "cell_type": "code",
   "execution_count": null,
   "id": "411f62ae",
   "metadata": {},
   "outputs": [],
   "source": [
    "The five levels of logging are debug, error, info, warning, critical"
   ]
  },
  {
   "cell_type": "code",
   "execution_count": null,
   "id": "d78eca9e",
   "metadata": {},
   "outputs": [],
   "source": [
    "7. What line of code would you add to your software to disable all logging messages?"
   ]
  },
  {
   "cell_type": "code",
   "execution_count": null,
   "id": "ff6f8ddd",
   "metadata": {},
   "outputs": [],
   "source": [
    "logging.getLogger.setLevel(logging.CRITICAL)"
   ]
  },
  {
   "cell_type": "code",
   "execution_count": null,
   "id": "35f9deae",
   "metadata": {},
   "outputs": [],
   "source": [
    "8.Why is using logging messages better than using print() to display the same message?"
   ]
  },
  {
   "cell_type": "markdown",
   "id": "8864b9b9",
   "metadata": {},
   "source": [
    "Logging has different level of severity that allow you to log message according to level you want. Print statement does not give you that flexiblity. logging allow you direct log messages to seperate file that we can post analyse while this function is not available in print statement."
   ]
  },
  {
   "cell_type": "code",
   "execution_count": null,
   "id": "d3cc6cef",
   "metadata": {},
   "outputs": [],
   "source": [
    "9. What are the differences between the Step Over, Step In, and Step Out buttons in the debugger?"
   ]
  },
  {
   "cell_type": "code",
   "execution_count": null,
   "id": "80ca2d64",
   "metadata": {},
   "outputs": [],
   "source": [
    "Step over button is help you to move to the next line of the code. In this case it will not stop at line 2\n",
    "Step into button will go into go into function call and it will stop at line a1.\n",
    "Step out button will finish the current function and break after it."
   ]
  },
  {
   "cell_type": "code",
   "execution_count": null,
   "id": "d8f547f3",
   "metadata": {},
   "outputs": [],
   "source": [
    "10.After you click Continue, when will the debugger stop ?"
   ]
  },
  {
   "cell_type": "code",
   "execution_count": null,
   "id": "a5d12b1d",
   "metadata": {},
   "outputs": [],
   "source": [
    "It depends on type of breakpoint we set. If we set a breakpoint on a line of code, the debugger will stop at that line when it\n",
    "is executed. If we set a breakpoint in an event such as a button click, the debugger will until the event is cleared."
   ]
  },
  {
   "cell_type": "code",
   "execution_count": null,
   "id": "01cae6a0",
   "metadata": {},
   "outputs": [],
   "source": [
    "11. What is the concept of a breakpoint?"
   ]
  },
  {
   "cell_type": "code",
   "execution_count": null,
   "id": "45972d4d",
   "metadata": {},
   "outputs": [],
   "source": [
    "In software development, a breakpoint is a intentional stopping or pausing place in a program, put in place for debugging purposes.\n",
    "A breakpoint means that acquiring knowledge about a program during the execution."
   ]
  }
 ],
 "metadata": {
  "kernelspec": {
   "display_name": "Python 3 (ipykernel)",
   "language": "python",
   "name": "python3"
  },
  "language_info": {
   "codemirror_mode": {
    "name": "ipython",
    "version": 3
   },
   "file_extension": ".py",
   "mimetype": "text/x-python",
   "name": "python",
   "nbconvert_exporter": "python",
   "pygments_lexer": "ipython3",
   "version": "3.9.12"
  }
 },
 "nbformat": 4,
 "nbformat_minor": 5
}
