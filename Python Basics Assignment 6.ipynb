{
 "cells": [
  {
   "cell_type": "markdown",
   "id": "6c843237",
   "metadata": {},
   "source": [
    "1. What are escape characters, and how do you use them?"
   ]
  },
  {
   "cell_type": "markdown",
   "id": "f67904a3",
   "metadata": {},
   "source": [
    "To insert characters that are illegal in a string, use an escape character.\n",
    "\n",
    "An escape character is a backslash \\ followed by the character you want to insert."
   ]
  },
  {
   "cell_type": "code",
   "execution_count": 1,
   "id": "dc8a0d0d",
   "metadata": {},
   "outputs": [],
   "source": [
    "text1 = \"My name is \\\"Divyanshu\\\" Kumar of Magadh University\""
   ]
  },
  {
   "cell_type": "code",
   "execution_count": 2,
   "id": "75c36da4",
   "metadata": {},
   "outputs": [
    {
     "data": {
      "text/plain": [
       "'My name is \"Divyanshu\" Kumar of Magadh University'"
      ]
     },
     "execution_count": 2,
     "metadata": {},
     "output_type": "execute_result"
    }
   ],
   "source": [
    "text1"
   ]
  },
  {
   "cell_type": "markdown",
   "id": "4df714b9",
   "metadata": {},
   "source": [
    "2. What do the escape characters n and t stand for?"
   ]
  },
  {
   "cell_type": "markdown",
   "id": "42ade342",
   "metadata": {},
   "source": [
    "Escape character n is used to change the line of in the string.\n",
    "Escape character t is used to given 4 spaces '    ' in the string.\n"
   ]
  },
  {
   "cell_type": "code",
   "execution_count": 14,
   "id": "e111694f",
   "metadata": {},
   "outputs": [],
   "source": [
    "text2 = \"My name is Divyanshu Kumar, \\nI study in Ineuron\""
   ]
  },
  {
   "cell_type": "code",
   "execution_count": 15,
   "id": "76ef6b43",
   "metadata": {},
   "outputs": [
    {
     "name": "stdout",
     "output_type": "stream",
     "text": [
      "My name is Divyanshu Kumar, \n",
      "I study in Ineuron\n"
     ]
    }
   ],
   "source": [
    "print(text2)"
   ]
  },
  {
   "cell_type": "code",
   "execution_count": 16,
   "id": "4f3bb9ad",
   "metadata": {},
   "outputs": [],
   "source": [
    "text3 = \"My name is Divyanshu Kumar, \\tI study in Ineuron\""
   ]
  },
  {
   "cell_type": "code",
   "execution_count": 17,
   "id": "db395f88",
   "metadata": {},
   "outputs": [
    {
     "name": "stdout",
     "output_type": "stream",
     "text": [
      "My name is Divyanshu Kumar, \tI study in Ineuron\n"
     ]
    }
   ],
   "source": [
    "print(text3)"
   ]
  },
  {
   "cell_type": "markdown",
   "id": "0be1ac91",
   "metadata": {},
   "source": [
    "3. What is the way to include backslash characters in a string?"
   ]
  },
  {
   "cell_type": "code",
   "execution_count": 30,
   "id": "32aa38fb",
   "metadata": {},
   "outputs": [
    {
     "name": "stdout",
     "output_type": "stream",
     "text": [
      "My name is Divyanshu Kumar \\ and I study in Ineuron\n"
     ]
    }
   ],
   "source": [
    "print(\"My name is Divyanshu Kumar \\\\ and I study in Ineuron\")"
   ]
  },
  {
   "cell_type": "markdown",
   "id": "d7b257b9",
   "metadata": {},
   "source": [
    "4. The string \"Howl's Moving Castle\" is a correct value. Why isn't the single quote character in the word Howl's not escaped a problem?"
   ]
  },
  {
   "cell_type": "code",
   "execution_count": 18,
   "id": "28d69c8c",
   "metadata": {},
   "outputs": [],
   "source": [
    "text4 = \"Howl's Moving Castle\" "
   ]
  },
  {
   "cell_type": "code",
   "execution_count": 19,
   "id": "40cb079c",
   "metadata": {},
   "outputs": [
    {
     "data": {
      "text/plain": [
       "\"Howl's Moving Castle\""
      ]
     },
     "execution_count": 19,
     "metadata": {},
     "output_type": "execute_result"
    }
   ],
   "source": [
    "text4"
   ]
  },
  {
   "cell_type": "markdown",
   "id": "62da4c7c",
   "metadata": {},
   "source": [
    "The single quote in Howl's is fine because we've used double quotes to mark the beginning and end of the string. \n",
    "like wise we can use double quotes in with single quotes."
   ]
  },
  {
   "cell_type": "markdown",
   "id": "eadcafb8",
   "metadata": {},
   "source": [
    "5. How do you write a string of newlines if you don't want to use the n character?"
   ]
  },
  {
   "cell_type": "code",
   "execution_count": 35,
   "id": "9f9b19f4",
   "metadata": {},
   "outputs": [],
   "source": [
    "stringtowrite = \"\"\"abcd ||\n",
    "efgh||\n",
    "iklk\"\"\""
   ]
  },
  {
   "cell_type": "code",
   "execution_count": 36,
   "id": "e9b7511b",
   "metadata": {},
   "outputs": [
    {
     "name": "stdout",
     "output_type": "stream",
     "text": [
      "abcd ||\n",
      "efgh||\n",
      "iklk\n"
     ]
    }
   ],
   "source": [
    "print(stringtowrite)"
   ]
  },
  {
   "cell_type": "code",
   "execution_count": 40,
   "id": "68c93d46",
   "metadata": {},
   "outputs": [],
   "source": [
    "txt = \"\"\"my||\n",
    "name||\n",
    "is||\n",
    "Divyanshu\"\"\""
   ]
  },
  {
   "cell_type": "code",
   "execution_count": 41,
   "id": "b69303fb",
   "metadata": {},
   "outputs": [
    {
     "name": "stdout",
     "output_type": "stream",
     "text": [
      "my||\n",
      "name||\n",
      "is||\n",
      "Divyanshu\n"
     ]
    }
   ],
   "source": [
    "print(txt)"
   ]
  },
  {
   "cell_type": "markdown",
   "id": "4e2fd639",
   "metadata": {},
   "source": [
    "6. What are the values of the given expressions?\n",
    "'Hello, world!'[1]\n",
    "'Hello, world!'[0:5]\n",
    "'Hello, world!'[:5]\n",
    "'Hello, world!'[3:]\n"
   ]
  },
  {
   "cell_type": "code",
   "execution_count": 42,
   "id": "8c60d161",
   "metadata": {},
   "outputs": [
    {
     "data": {
      "text/plain": [
       "'e'"
      ]
     },
     "execution_count": 42,
     "metadata": {},
     "output_type": "execute_result"
    }
   ],
   "source": [
    "'Hello, world!'[1]"
   ]
  },
  {
   "cell_type": "code",
   "execution_count": 43,
   "id": "9bf449f2",
   "metadata": {},
   "outputs": [
    {
     "data": {
      "text/plain": [
       "'Hello'"
      ]
     },
     "execution_count": 43,
     "metadata": {},
     "output_type": "execute_result"
    }
   ],
   "source": [
    "'Hello, world!'[0:5]"
   ]
  },
  {
   "cell_type": "code",
   "execution_count": 44,
   "id": "d15b5057",
   "metadata": {},
   "outputs": [
    {
     "data": {
      "text/plain": [
       "'Hello'"
      ]
     },
     "execution_count": 44,
     "metadata": {},
     "output_type": "execute_result"
    }
   ],
   "source": [
    "'Hello, world!'[:5]"
   ]
  },
  {
   "cell_type": "code",
   "execution_count": 45,
   "id": "de3ddb4b",
   "metadata": {},
   "outputs": [
    {
     "data": {
      "text/plain": [
       "'lo, world!'"
      ]
     },
     "execution_count": 45,
     "metadata": {},
     "output_type": "execute_result"
    }
   ],
   "source": [
    "'Hello, world!'[3:]"
   ]
  },
  {
   "cell_type": "markdown",
   "id": "601cf33f",
   "metadata": {},
   "source": [
    "7. What are the values of the following expressions?"
   ]
  },
  {
   "cell_type": "code",
   "execution_count": 46,
   "id": "be10ffe7",
   "metadata": {},
   "outputs": [
    {
     "data": {
      "text/plain": [
       "'HELLO'"
      ]
     },
     "execution_count": 46,
     "metadata": {},
     "output_type": "execute_result"
    }
   ],
   "source": [
    "'Hello'.upper()"
   ]
  },
  {
   "cell_type": "code",
   "execution_count": 47,
   "id": "9a4d3328",
   "metadata": {},
   "outputs": [
    {
     "data": {
      "text/plain": [
       "True"
      ]
     },
     "execution_count": 47,
     "metadata": {},
     "output_type": "execute_result"
    }
   ],
   "source": [
    "'Hello'.upper().isupper()"
   ]
  },
  {
   "cell_type": "code",
   "execution_count": 48,
   "id": "fd2ae738",
   "metadata": {},
   "outputs": [
    {
     "data": {
      "text/plain": [
       "'hello'"
      ]
     },
     "execution_count": 48,
     "metadata": {},
     "output_type": "execute_result"
    }
   ],
   "source": [
    "'Hello'.upper().lower()"
   ]
  },
  {
   "cell_type": "code",
   "execution_count": null,
   "id": "fe58364d",
   "metadata": {},
   "outputs": [],
   "source": [
    "8. What are the values of the following expressions?"
   ]
  },
  {
   "cell_type": "code",
   "execution_count": 51,
   "id": "55adb84a",
   "metadata": {},
   "outputs": [
    {
     "data": {
      "text/plain": [
       "['Remember,', 'remember,', 'the', 'fifth', 'of', 'July.']"
      ]
     },
     "execution_count": 51,
     "metadata": {},
     "output_type": "execute_result"
    }
   ],
   "source": [
    "'Remember, remember, the fifth of July.'.split()"
   ]
  },
  {
   "cell_type": "code",
   "execution_count": 52,
   "id": "a64a5998",
   "metadata": {},
   "outputs": [
    {
     "data": {
      "text/plain": [
       "'There-can-only-one.'"
      ]
     },
     "execution_count": 52,
     "metadata": {},
     "output_type": "execute_result"
    }
   ],
   "source": [
    "'-'.join('There can only one.'.split())"
   ]
  },
  {
   "cell_type": "markdown",
   "id": "f0f4e1df",
   "metadata": {},
   "source": [
    "9. What are the methods for right-justifying, left-justifying, and centering a string?"
   ]
  },
  {
   "cell_type": "code",
   "execution_count": 81,
   "id": "a324f5a1",
   "metadata": {},
   "outputs": [],
   "source": [
    "text8 = \"I like to study in Ineuron\""
   ]
  },
  {
   "cell_type": "code",
   "execution_count": 85,
   "id": "474995be",
   "metadata": {},
   "outputs": [
    {
     "data": {
      "text/plain": [
       "'I like to study in Ineuron************************'"
      ]
     },
     "execution_count": 85,
     "metadata": {},
     "output_type": "execute_result"
    }
   ],
   "source": [
    "text8.ljust(50, '*')"
   ]
  },
  {
   "cell_type": "code",
   "execution_count": 86,
   "id": "c1684336",
   "metadata": {},
   "outputs": [
    {
     "data": {
      "text/plain": [
       "'************************I like to study in Ineuron'"
      ]
     },
     "execution_count": 86,
     "metadata": {},
     "output_type": "execute_result"
    }
   ],
   "source": [
    "text8.rjust(50, '*')"
   ]
  },
  {
   "cell_type": "code",
   "execution_count": 83,
   "id": "34d05b22",
   "metadata": {},
   "outputs": [
    {
     "data": {
      "text/plain": [
       "'************I like to study in Ineuron************'"
      ]
     },
     "execution_count": 83,
     "metadata": {},
     "output_type": "execute_result"
    }
   ],
   "source": [
    "text8.center(50, '*')"
   ]
  },
  {
   "cell_type": "markdown",
   "id": "46a915d2",
   "metadata": {},
   "source": [
    "10. What is the best way to remove whitespace characters from the start or end?"
   ]
  },
  {
   "cell_type": "markdown",
   "id": "0573f950",
   "metadata": {},
   "source": [
    "\"string\".trim() is the best way to remove whitespace characters from the start or end"
   ]
  },
  {
   "cell_type": "code",
   "execution_count": 69,
   "id": "d3b6074d",
   "metadata": {},
   "outputs": [],
   "source": [
    "str = \"  I study in Ineuron   \"; "
   ]
  },
  {
   "cell_type": "code",
   "execution_count": 70,
   "id": "ef41ac18",
   "metadata": {},
   "outputs": [
    {
     "data": {
      "text/plain": [
       "'I study in Ineuron'"
      ]
     },
     "execution_count": 70,
     "metadata": {},
     "output_type": "execute_result"
    }
   ],
   "source": [
    "str.strip()"
   ]
  },
  {
   "cell_type": "code",
   "execution_count": 78,
   "id": "a6e5acda",
   "metadata": {},
   "outputs": [],
   "source": [
    "str1 = \"  I study in Ineuron   \"; "
   ]
  },
  {
   "cell_type": "code",
   "execution_count": 79,
   "id": "926f52ed",
   "metadata": {},
   "outputs": [
    {
     "data": {
      "text/plain": [
       "'I study in Ineuron   '"
      ]
     },
     "execution_count": 79,
     "metadata": {},
     "output_type": "execute_result"
    }
   ],
   "source": [
    "str1.lstrip()"
   ]
  },
  {
   "cell_type": "code",
   "execution_count": 76,
   "id": "0d41c41c",
   "metadata": {},
   "outputs": [],
   "source": [
    "str2 = \"  I study in Ineuron   \"; "
   ]
  },
  {
   "cell_type": "code",
   "execution_count": 77,
   "id": "8d75b7fc",
   "metadata": {},
   "outputs": [
    {
     "data": {
      "text/plain": [
       "'  I study in Ineuron'"
      ]
     },
     "execution_count": 77,
     "metadata": {},
     "output_type": "execute_result"
    }
   ],
   "source": [
    "str2.rstrip()"
   ]
  },
  {
   "cell_type": "code",
   "execution_count": null,
   "id": "691b6b56",
   "metadata": {},
   "outputs": [],
   "source": []
  }
 ],
 "metadata": {
  "kernelspec": {
   "display_name": "Python 3 (ipykernel)",
   "language": "python",
   "name": "python3"
  },
  "language_info": {
   "codemirror_mode": {
    "name": "ipython",
    "version": 3
   },
   "file_extension": ".py",
   "mimetype": "text/x-python",
   "name": "python",
   "nbconvert_exporter": "python",
   "pygments_lexer": "ipython3",
   "version": "3.9.12"
  }
 },
 "nbformat": 4,
 "nbformat_minor": 5
}
