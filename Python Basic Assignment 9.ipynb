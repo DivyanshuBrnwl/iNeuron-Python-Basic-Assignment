{
 "cells": [
  {
   "cell_type": "markdown",
   "id": "07fe1437",
   "metadata": {},
   "source": [
    "1. To what does a relative path refer?"
   ]
  },
  {
   "cell_type": "markdown",
   "id": "2d584015",
   "metadata": {},
   "source": [
    "Relative path is the path that describe the location of the file or folder in relative to current working directory"
   ]
  },
  {
   "cell_type": "markdown",
   "id": "ed4bebda",
   "metadata": {},
   "source": [
    "2. What does an absolute path start with your operating system?"
   ]
  },
  {
   "cell_type": "markdown",
   "id": "9c43f82e",
   "metadata": {},
   "source": [
    "In my operating sysytem absolute path start with \"Python Basics Assignment\"."
   ]
  },
  {
   "cell_type": "code",
   "execution_count": 3,
   "id": "1dacc311",
   "metadata": {},
   "outputs": [
    {
     "data": {
      "text/plain": [
       "'C:\\\\Users\\\\kumar\\\\Python Basics Assignments\\\\Python Basics Assignment\\\\Python Basic Assignment 9'"
      ]
     },
     "execution_count": 3,
     "metadata": {},
     "output_type": "execute_result"
    }
   ],
   "source": [
    "import os \n",
    "os.path.abspath(\"Python Basics Assignment//Python Basic Assignment 9\")"
   ]
  },
  {
   "cell_type": "code",
   "execution_count": null,
   "id": "c95ea8cc",
   "metadata": {},
   "outputs": [],
   "source": [
    "3. What do the functions os.getcwd() and os.chdir() do?"
   ]
  },
  {
   "cell_type": "code",
   "execution_count": 4,
   "id": "a3393a00",
   "metadata": {},
   "outputs": [
    {
     "data": {
      "text/plain": [
       "'C:\\\\Users\\\\kumar\\\\Python Basics Assignments'"
      ]
     },
     "execution_count": 4,
     "metadata": {},
     "output_type": "execute_result"
    }
   ],
   "source": [
    "os.getcwd()"
   ]
  },
  {
   "cell_type": "markdown",
   "id": "182bc177",
   "metadata": {},
   "source": [
    "os.getcwd() method tells us the location of current working directory(CWD)."
   ]
  },
  {
   "cell_type": "markdown",
   "id": "6d429ce9",
   "metadata": {},
   "source": [
    "os.chdir() method helps to change the location of current working directory to the specified path. It takes only single argument as new directory path."
   ]
  },
  {
   "cell_type": "markdown",
   "id": "e8551132",
   "metadata": {},
   "source": [
    "4. What are the . and .. folders?"
   ]
  },
  {
   "cell_type": "markdown",
   "id": "54e5f700",
   "metadata": {},
   "source": [
    ". is used to represent current working directory and .. is used to represent parent directory of current working directory."
   ]
  },
  {
   "cell_type": "code",
   "execution_count": null,
   "id": "21d90d0c",
   "metadata": {},
   "outputs": [],
   "source": [
    "5. In C:\\bacon\\eggs\\spam.txt, which part is the dir name, and which part is the base name?"
   ]
  },
  {
   "cell_type": "code",
   "execution_count": 9,
   "id": "e4c116d0",
   "metadata": {},
   "outputs": [
    {
     "data": {
      "text/plain": [
       "'C:\\x08acon\\\\eggs'"
      ]
     },
     "execution_count": 9,
     "metadata": {},
     "output_type": "execute_result"
    }
   ],
   "source": [
    "os.path.dirname(\"C:\\bacon\\eggs\\spam.txt\")"
   ]
  },
  {
   "cell_type": "markdown",
   "id": "3dee79a6",
   "metadata": {},
   "source": [
    "os.path.dirname will return directory name of a file or directory path."
   ]
  },
  {
   "cell_type": "code",
   "execution_count": 8,
   "id": "82cc82e0",
   "metadata": {},
   "outputs": [
    {
     "data": {
      "text/plain": [
       "'spam.txt'"
      ]
     },
     "execution_count": 8,
     "metadata": {},
     "output_type": "execute_result"
    }
   ],
   "source": [
    "os.path.basename(\"C:\\bacon\\eggs\\spam.txt\")"
   ]
  },
  {
   "cell_type": "markdown",
   "id": "33454850",
   "metadata": {},
   "source": [
    "os.path.basename method will return base name of the file or directory."
   ]
  },
  {
   "cell_type": "markdown",
   "id": "c710d610",
   "metadata": {},
   "source": [
    "6. What are the three “mode” arguments that can be passed to the open() function?"
   ]
  },
  {
   "cell_type": "markdown",
   "id": "ad494f46",
   "metadata": {},
   "source": [
    "The three “mode” arguments that can be passed to the open() function are:\n",
    "    'r' read mode(default), \n",
    "    'w' write mode, \n",
    "    'a' append mode"
   ]
  },
  {
   "cell_type": "markdown",
   "id": "407747df",
   "metadata": {},
   "source": [
    "7. What happens if an existing file is opened in write mode?"
   ]
  },
  {
   "cell_type": "code",
   "execution_count": 14,
   "id": "3941b943",
   "metadata": {},
   "outputs": [],
   "source": [
    "f = open(\"ass.txt\",'w')\n",
    "f.write(\"Hello, my name \\n Divyanshu \\n my University name \\n Magadh university \\n address \\n Murarpur, Gaya\")\n",
    "f.close()"
   ]
  },
  {
   "cell_type": "code",
   "execution_count": 17,
   "id": "700560f8",
   "metadata": {},
   "outputs": [],
   "source": [
    "f = open(\"ass.txt\",'w')\n",
    "f.write(\"Hello, my name \\n Chota Bheem \\n my University name \\n Dholakpur university \\n address \\n Murarpur, Earth\")\n",
    "f.close()"
   ]
  },
  {
   "cell_type": "markdown",
   "id": "6f89d2fc",
   "metadata": {},
   "source": [
    "It overwrite all the content to the existing file."
   ]
  },
  {
   "cell_type": "code",
   "execution_count": null,
   "id": "dc982885",
   "metadata": {},
   "outputs": [],
   "source": [
    "8. How do you tell the difference between read() and readlines()?"
   ]
  },
  {
   "cell_type": "code",
   "execution_count": 18,
   "id": "1eb9c9ae",
   "metadata": {},
   "outputs": [
    {
     "data": {
      "text/plain": [
       "'Hello, my name \\n Chota Bheem \\n my University name \\n Dholakpur university \\n address \\n Murarpur, Earth'"
      ]
     },
     "execution_count": 18,
     "metadata": {},
     "output_type": "execute_result"
    }
   ],
   "source": [
    "f = open(\"ass.txt\")\n",
    "f.read()"
   ]
  },
  {
   "cell_type": "code",
   "execution_count": 25,
   "id": "a8db54d0",
   "metadata": {},
   "outputs": [
    {
     "data": {
      "text/plain": [
       "['Hello, my name \\n',\n",
       " ' Chota Bheem \\n',\n",
       " ' my University name \\n',\n",
       " ' Dholakpur university \\n',\n",
       " ' address \\n',\n",
       " ' Murarpur, Earth']"
      ]
     },
     "execution_count": 25,
     "metadata": {},
     "output_type": "execute_result"
    }
   ],
   "source": [
    "f = open(\"ass.txt\")\n",
    "f.readlines()"
   ]
  },
  {
   "cell_type": "markdown",
   "id": "0d7810dc",
   "metadata": {},
   "source": [
    "read reads all content of the file and return in string data type and readlines reads all content of the file and return the list of string representing the lines of the file."
   ]
  },
  {
   "cell_type": "code",
   "execution_count": null,
   "id": "395a82d9",
   "metadata": {},
   "outputs": [],
   "source": [
    "9. What data structure does a shelf value resemble?"
   ]
  },
  {
   "cell_type": "code",
   "execution_count": 26,
   "id": "97ecfe8b",
   "metadata": {},
   "outputs": [],
   "source": [
    "import shelve"
   ]
  },
  {
   "cell_type": "markdown",
   "id": "62788700",
   "metadata": {},
   "source": [
    "A shelf value resembles a dictionary value; it has keys and values, along with keys() and values() methods that work similarly to the dictionary methods of the same names."
   ]
  }
 ],
 "metadata": {
  "kernelspec": {
   "display_name": "Python 3 (ipykernel)",
   "language": "python",
   "name": "python3"
  },
  "language_info": {
   "codemirror_mode": {
    "name": "ipython",
    "version": 3
   },
   "file_extension": ".py",
   "mimetype": "text/x-python",
   "name": "python",
   "nbconvert_exporter": "python",
   "pygments_lexer": "ipython3",
   "version": "3.9.12"
  }
 },
 "nbformat": 4,
 "nbformat_minor": 5
}
