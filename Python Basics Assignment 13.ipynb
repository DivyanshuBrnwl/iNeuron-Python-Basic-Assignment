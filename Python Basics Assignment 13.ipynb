{
 "cells": [
  {
   "cell_type": "markdown",
   "id": "abd71801",
   "metadata": {},
   "source": [
    "1. What advantages do Excel spreadsheets have over CSV spreadsheets?"
   ]
  },
  {
   "cell_type": "markdown",
   "id": "22425b10",
   "metadata": {},
   "source": [
    "Excel sheets or XLS files are often more pleasing to the eye, being more organized and featuring tools to customize the layout, color schemes and other features of the Excel sheet. CSV files are plain text documents and, as a result, are also plainer than XLS files."
   ]
  },
  {
   "cell_type": "code",
   "execution_count": null,
   "id": "1205e664",
   "metadata": {},
   "outputs": [],
   "source": [
    "2.What do you pass to csv.reader() and csv.writer() to create reader and writer objects?"
   ]
  },
  {
   "cell_type": "code",
   "execution_count": 1,
   "id": "19f268c6",
   "metadata": {},
   "outputs": [],
   "source": [
    "import csv\n",
    "data = open('example.csv', encoding ='utf-8')\n",
    "csv_data = csv.reader(data)"
   ]
  },
  {
   "cell_type": "code",
   "execution_count": 2,
   "id": "81abe809",
   "metadata": {},
   "outputs": [],
   "source": [
    "import csv\n",
    "file_to_output = open('to_save_file.csv', mode = 'w', newline='')\n",
    "csv_writer = csv.writer(file_to_output, delimiter = ',' )"
   ]
  },
  {
   "cell_type": "markdown",
   "id": "d564f1eb",
   "metadata": {},
   "source": [
    "3. What modes do File objects for reader and writer objects need to be opened in?"
   ]
  },
  {
   "cell_type": "markdown",
   "id": "1b031b24",
   "metadata": {},
   "source": [
    "File objects need to be opened in read-binary ('rb') for Reader objects and write-binary ('wb') for Writer objects"
   ]
  },
  {
   "cell_type": "markdown",
   "id": "5f741dc2",
   "metadata": {},
   "source": [
    "4. What method takes a list argument and writes it to a CSV file?"
   ]
  },
  {
   "cell_type": "markdown",
   "id": "fa386f06",
   "metadata": {},
   "source": [
    "The writerow() method"
   ]
  },
  {
   "cell_type": "markdown",
   "id": "e01b04e2",
   "metadata": {},
   "source": [
    "5. What do the keyword arguments delimiter and line terminator do?"
   ]
  },
  {
   "cell_type": "markdown",
   "id": "61ac6aa1",
   "metadata": {},
   "source": [
    "The delimiter is the character that appears between cells on a row. By default, the delimiter for a CSV file is a comma. The line terminator is the character that comes at the end of a row. By default, the line terminator is a newline."
   ]
  },
  {
   "cell_type": "code",
   "execution_count": null,
   "id": "c1b30b1b",
   "metadata": {},
   "outputs": [],
   "source": [
    "6. What function takes a string of JSON data and returns a Python data structure?"
   ]
  },
  {
   "cell_type": "code",
   "execution_count": null,
   "id": "6fe17d36",
   "metadata": {},
   "outputs": [],
   "source": [
    "Json.loads () function"
   ]
  },
  {
   "cell_type": "code",
   "execution_count": null,
   "id": "6f269917",
   "metadata": {},
   "outputs": [],
   "source": [
    "7. What function takes a Python data structure and returns a string of JSON data?"
   ]
  },
  {
   "cell_type": "code",
   "execution_count": null,
   "id": "19715819",
   "metadata": {},
   "outputs": [],
   "source": [
    "Dumps () function\n",
    "The dumps () function takes a single argument, the Python object, and returns a JSON string."
   ]
  }
 ],
 "metadata": {
  "kernelspec": {
   "display_name": "Python 3 (ipykernel)",
   "language": "python",
   "name": "python3"
  },
  "language_info": {
   "codemirror_mode": {
    "name": "ipython",
    "version": 3
   },
   "file_extension": ".py",
   "mimetype": "text/x-python",
   "name": "python",
   "nbconvert_exporter": "python",
   "pygments_lexer": "ipython3",
   "version": "3.9.12"
  }
 },
 "nbformat": 4,
 "nbformat_minor": 5
}
