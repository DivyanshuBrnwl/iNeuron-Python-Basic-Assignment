{
 "cells": [
  {
   "cell_type": "markdown",
   "id": "2728e671",
   "metadata": {},
   "source": [
    "1. Write a Python Program to Find LCM?"
   ]
  },
  {
   "cell_type": "code",
   "execution_count": 3,
   "id": "4686c594",
   "metadata": {},
   "outputs": [
    {
     "name": "stdout",
     "output_type": "stream",
     "text": [
      "4200\n"
     ]
    }
   ],
   "source": [
    "from math import gcd\n",
    "a = [100, 200, 150]   #will work for an int array of any length\n",
    "lcm = 1\n",
    "for i in a:\n",
    "    lcm = lcm*i//gcd(lcm, i)\n",
    "print(lcm)"
   ]
  },
  {
   "cell_type": "markdown",
   "id": "b05ba540",
   "metadata": {},
   "source": [
    "2. Write a Python Program to Find HCF?"
   ]
  },
  {
   "cell_type": "code",
   "execution_count": 1,
   "id": "b132f9e8",
   "metadata": {},
   "outputs": [],
   "source": [
    "def hcf(a):\n",
    "    b = sorted(a)\n",
    "    \n",
    "        \n",
    "    output = []\n",
    "    if len(b) == 3:\n",
    "        for i in range(b[0], 0, -1):\n",
    "            if b[0] % i == 0 and b[1] % i == 0 and b[2] % i == 0:\n",
    "                output.append(i)\n",
    "        print(output[0])\n",
    "     \n",
    "    elif len(b) == 2:\n",
    "        for i in range(b[0], 0, -1):\n",
    "            if b[0] % i == 0 and b[1] % i == 0:\n",
    "                output.append(i)\n",
    "        print(output[0])\n",
    "        \n",
    "    elif len(b)== 4:\n",
    "        for i in range(b[0], 0, -1):\n",
    "            if b[0] % i == 0 and b[1] % i == 0 and b[2] % i == 0 and b[3] % i == 0:\n",
    "                output.append(i)\n",
    "        print(output[0])\n",
    "        \n",
    "    else:\n",
    "        if len(b)>4:\n",
    "            print(\"Enter less than 5 number\")"
   ]
  },
  {
   "cell_type": "code",
   "execution_count": 2,
   "id": "574252f7",
   "metadata": {},
   "outputs": [],
   "source": [
    "a=(15, 10, 25)"
   ]
  },
  {
   "cell_type": "code",
   "execution_count": 3,
   "id": "04a75def",
   "metadata": {},
   "outputs": [
    {
     "name": "stdout",
     "output_type": "stream",
     "text": [
      "5\n"
     ]
    }
   ],
   "source": [
    "hcf(a)"
   ]
  },
  {
   "cell_type": "markdown",
   "id": "fd92028e",
   "metadata": {},
   "source": [
    "3. Write a Python Program to Convert Decimal to Binary, Octal and Hexadecimal?"
   ]
  },
  {
   "cell_type": "code",
   "execution_count": 9,
   "id": "58ea4a69",
   "metadata": {},
   "outputs": [
    {
     "name": "stdout",
     "output_type": "stream",
     "text": [
      "Enter number to convert number into Binary, octal and Hexadecimal768\n",
      "Binary conversion is 0b1100000000\n",
      "Octal conversion is 0o1400\n",
      "Hexadecimal conversion is 0x300\n"
     ]
    }
   ],
   "source": [
    "num =int(input(\"Enter number to convert number into Binary, octal and Hexadecimal\"))\n",
    "print(f\"Binary conversion is {bin(num)}\")\n",
    "print(f\"Octal conversion is {oct(num)}\")\n",
    "print(f\"Hexadecimal conversion is {hex(num)}\")"
   ]
  },
  {
   "cell_type": "markdown",
   "id": "4543a1e5",
   "metadata": {},
   "source": [
    "4. Write a Python Program To Find ASCII value of a character?"
   ]
  },
  {
   "cell_type": "code",
   "execution_count": 5,
   "id": "3149318a",
   "metadata": {},
   "outputs": [
    {
     "data": {
      "text/plain": [
       "65"
      ]
     },
     "execution_count": 5,
     "metadata": {},
     "output_type": "execute_result"
    }
   ],
   "source": [
    "ord(\"A\")"
   ]
  },
  {
   "cell_type": "code",
   "execution_count": 6,
   "id": "d153c5d1",
   "metadata": {},
   "outputs": [
    {
     "data": {
      "text/plain": [
       "'a'"
      ]
     },
     "execution_count": 6,
     "metadata": {},
     "output_type": "execute_result"
    }
   ],
   "source": [
    "chr(97)"
   ]
  },
  {
   "cell_type": "code",
   "execution_count": null,
   "id": "51796498",
   "metadata": {},
   "outputs": [],
   "source": [
    "5. Write a Python Program to Make a Simple Calculator with 4 basic mathematical operations?"
   ]
  },
  {
   "cell_type": "code",
   "execution_count": 2,
   "id": "2370c878",
   "metadata": {},
   "outputs": [
    {
     "name": "stdout",
     "output_type": "stream",
     "text": [
      "Enter the value of a32\n",
      "Enter the value of b4\n",
      "1. Add\n",
      "2. Subtract\n",
      "3. Multiply\n",
      "4. Divide\n",
      "Enter 1 / 2 / 3 / 4 to perform Add / Subtract / Multiply / Divide4\n",
      "The divide of given two number is 8.0\n"
     ]
    }
   ],
   "source": [
    "a = int(input(\"Enter the value of a:- \"))\n",
    "b = int(input(\"Enter the value of b:- \"))\n",
    "\n",
    "print('1. Add')\n",
    "print('2. Subtract')\n",
    "print('3. Multiply')\n",
    "print('4. Divide')\n",
    "operation = int(input(\"Enter 1 / 2 / 3 / 4 to perform Add / Subtract / Multiply / Divide:-\"))\n",
    "\n",
    "if operation == 1:\n",
    "    print(f\"The sum of given two number is {a+b}\")\n",
    "    \n",
    "elif operation == 2:\n",
    "    print(f\"The difference of given two number is {a-b}\")\n",
    "\n",
    "elif operation == 3:\n",
    "    print(f\"The product of given two number is {a*b}\")\n",
    "    \n",
    "else:\n",
    "    print(f\"The divide of given two number is {a/b}\")"
   ]
  },
  {
   "cell_type": "code",
   "execution_count": null,
   "id": "280098da",
   "metadata": {},
   "outputs": [],
   "source": []
  }
 ],
 "metadata": {
  "kernelspec": {
   "display_name": "Python 3 (ipykernel)",
   "language": "python",
   "name": "python3"
  },
  "language_info": {
   "codemirror_mode": {
    "name": "ipython",
    "version": 3
   },
   "file_extension": ".py",
   "mimetype": "text/x-python",
   "name": "python",
   "nbconvert_exporter": "python",
   "pygments_lexer": "ipython3",
   "version": "3.9.12"
  }
 },
 "nbformat": 4,
 "nbformat_minor": 5
}
