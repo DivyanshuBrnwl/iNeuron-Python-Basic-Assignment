{
 "cells": [
  {
   "cell_type": "markdown",
   "id": "8d7859eb",
   "metadata": {},
   "source": [
    "1. What is the result of the code, and explain?"
   ]
  },
  {
   "cell_type": "markdown",
   "id": "60f973cd",
   "metadata": {},
   "source": [
    "&gt;&gt;&gt; X = &#39;iNeuron&#39;\n",
    "&gt;&gt;&gt; def func():\n",
    "print(X)"
   ]
  },
  {
   "cell_type": "code",
   "execution_count": 1,
   "id": "db5eb329",
   "metadata": {},
   "outputs": [],
   "source": [
    "X = 'iNeuron' \n",
    "def func():\n",
    "    print(X)"
   ]
  },
  {
   "cell_type": "code",
   "execution_count": 2,
   "id": "92195e35",
   "metadata": {},
   "outputs": [
    {
     "name": "stdout",
     "output_type": "stream",
     "text": [
      "iNeuron\n"
     ]
    }
   ],
   "source": [
    "func()"
   ]
  },
  {
   "cell_type": "code",
   "execution_count": null,
   "id": "1adc94be",
   "metadata": {},
   "outputs": [],
   "source": [
    "If local variable is not present in the function it always uses global variable.Here, function is using global variable X."
   ]
  },
  {
   "cell_type": "markdown",
   "id": "019794e0",
   "metadata": {},
   "source": [
    "2. What is the result of the code, and explain?"
   ]
  },
  {
   "cell_type": "markdown",
   "id": "97678b22",
   "metadata": {},
   "source": [
    "&gt;&gt;&gt; X = &#39;iNeuron&#39;\n",
    "&gt;&gt;&gt; def func():\n",
    "X = &#39;NI!&#39;\n",
    "\n",
    "&gt;&gt;&gt; func()\n",
    "&gt;&gt;&gt; print(X)"
   ]
  },
  {
   "cell_type": "code",
   "execution_count": 3,
   "id": "33f5d25b",
   "metadata": {},
   "outputs": [
    {
     "name": "stdout",
     "output_type": "stream",
     "text": [
      "iNeuron\n"
     ]
    }
   ],
   "source": [
    "X = 'iNeuron' \n",
    "def func():\n",
    "    X = 'NI!'\n",
    "func()\n",
    "print(X)"
   ]
  },
  {
   "cell_type": "markdown",
   "id": "22edee93",
   "metadata": {},
   "source": [
    "Here, we can see that the function is just assigning NI! to a local variable inside the function func(). But while printing X \n",
    "outside the function we are getting global X not local X."
   ]
  },
  {
   "cell_type": "markdown",
   "id": "f0c04769",
   "metadata": {},
   "source": [
    "3. What does this code print, and why?\n",
    "\n",
    "&gt;&gt;&gt; X = &#39;iNeuron&#39;\n",
    "&gt;&gt;&gt; def func():\n",
    "X = &#39;NI&#39;\n",
    "print(X)\n",
    "\n",
    "&gt;&gt;&gt; func()\n",
    "&gt;&gt;&gt; print(X)"
   ]
  },
  {
   "cell_type": "code",
   "execution_count": 4,
   "id": "c4e88acc",
   "metadata": {},
   "outputs": [
    {
     "name": "stdout",
     "output_type": "stream",
     "text": [
      "NI\n",
      "iNeuron\n"
     ]
    }
   ],
   "source": [
    "X = 'iNeuron'\n",
    "def func():\n",
    "    X = 'NI'\n",
    "    print(X)\n",
    "    \n",
    "func()\n",
    "print(X)"
   ]
  },
  {
   "cell_type": "markdown",
   "id": "671a5459",
   "metadata": {},
   "source": [
    "func() is printing local variable while X is printing global variable present outside function func()."
   ]
  },
  {
   "cell_type": "markdown",
   "id": "b2f325d9",
   "metadata": {},
   "source": [
    "4. What output does this code produce? Why?\n",
    "\n",
    "&gt;&gt;&gt; X = &#39;iNeuron&#39;\n",
    "&gt;&gt;&gt; def func():\n",
    "global X\n",
    "X = &#39;NI&#39;\n",
    "\n",
    "&gt;&gt;&gt; func()\n",
    "&gt;&gt;&gt; print(X)"
   ]
  },
  {
   "cell_type": "code",
   "execution_count": 7,
   "id": "cab137eb",
   "metadata": {},
   "outputs": [
    {
     "name": "stdout",
     "output_type": "stream",
     "text": [
      "NI\n"
     ]
    }
   ],
   "source": [
    "X = 'iNeuron'\n",
    "def func():\n",
    "    global X\n",
    "    X = 'NI'\n",
    "func()\n",
    "print(X)"
   ]
  },
  {
   "cell_type": "markdown",
   "id": "190c17a0",
   "metadata": {},
   "source": [
    "Here, func() function is changing the global variable therefore after running func() function, we are printing X = 'NI'"
   ]
  },
  {
   "cell_type": "markdown",
   "id": "45cc9770",
   "metadata": {},
   "source": [
    "5. What about this code—what’s the output, and why?\n",
    "\n",
    "&gt;&gt;&gt; X = &#39;iNeuron&#39;\n",
    "&gt;&gt;&gt; def func():\n",
    "X = &#39;NI&#39;\n",
    "def nested():\n",
    "print(X)\n",
    "nested()\n",
    "\n",
    "&gt;&gt;&gt; func()\n",
    "&gt;&gt;&gt; X"
   ]
  },
  {
   "cell_type": "code",
   "execution_count": 8,
   "id": "8cbaed99",
   "metadata": {},
   "outputs": [
    {
     "name": "stdout",
     "output_type": "stream",
     "text": [
      "iNeuron\n"
     ]
    }
   ],
   "source": [
    "X = 'iNeuron'\n",
    "def func():\n",
    "    X = 'NI'\n",
    "def nested():\n",
    "    print(X)\n",
    "nested()     "
   ]
  },
  {
   "cell_type": "markdown",
   "id": "8c914f71",
   "metadata": {},
   "source": [
    "Here, X = \"NI\" is local variable only for func() function. nested() function has not there own local variable therefore nested()\n",
    "is using global variable X = \"iNeuron\"."
   ]
  },
  {
   "cell_type": "markdown",
   "id": "29f54ba7",
   "metadata": {},
   "source": [
    "6. How about this code: what is its output in Python 3, and explain?\n",
    "\n",
    "&gt;&gt;&gt; def func():\n",
    "X = &#39;NI&#39;\n",
    "def nested():\n",
    "nonlocal X\n",
    "X = &#39;Spam&#39;\n",
    "nested()\n",
    "print(X)\n",
    "\n",
    "&gt;&gt;&gt; func()"
   ]
  },
  {
   "cell_type": "code",
   "execution_count": 13,
   "id": "e248c586",
   "metadata": {},
   "outputs": [
    {
     "name": "stdout",
     "output_type": "stream",
     "text": [
      "Spam\n"
     ]
    }
   ],
   "source": [
    "def func():\n",
    "    X = 'Ni'\n",
    "    \n",
    "    def nested():\n",
    "        nonlocal X\n",
    "        X = 'Spam'\n",
    "    \n",
    "    nested()\n",
    "    print(X)\n",
    "func()"
   ]
  },
  {
   "cell_type": "markdown",
   "id": "96e72d0e",
   "metadata": {},
   "source": [
    "Nonlocal variables are used in nested functions whose local scope is not defined. \n",
    "This means that the variable can be neither in the local nor the global scope. it print the updated value from nested \n",
    "function"
   ]
  },
  {
   "cell_type": "code",
   "execution_count": null,
   "id": "d37670aa",
   "metadata": {},
   "outputs": [],
   "source": []
  }
 ],
 "metadata": {
  "kernelspec": {
   "display_name": "Python 3 (ipykernel)",
   "language": "python",
   "name": "python3"
  },
  "language_info": {
   "codemirror_mode": {
    "name": "ipython",
    "version": 3
   },
   "file_extension": ".py",
   "mimetype": "text/x-python",
   "name": "python",
   "nbconvert_exporter": "python",
   "pygments_lexer": "ipython3",
   "version": "3.9.12"
  }
 },
 "nbformat": 4,
 "nbformat_minor": 5
}
