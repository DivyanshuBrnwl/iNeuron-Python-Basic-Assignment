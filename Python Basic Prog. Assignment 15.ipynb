{
 "cells": [
  {
   "cell_type": "markdown",
   "id": "73d47da4",
   "metadata": {},
   "source": [
    "Question 1:\n",
    "Please write a program using generator to print the numbers which can be divisible by 5 and\n",
    "7 between 0 and n in comma separated form while n is input by console."
   ]
  },
  {
   "cell_type": "code",
   "execution_count": 30,
   "id": "c6d9d6cf",
   "metadata": {},
   "outputs": [
    {
     "name": "stdout",
     "output_type": "stream",
     "text": [
      "Enter the number120\n",
      "35,70,105\n"
     ]
    }
   ],
   "source": [
    "def divisiblity_5_7(n):\n",
    "    for i in range(1, n):\n",
    "        if i%5 == 0 and i%7 == 0:\n",
    "            yield(i)\n",
    "\n",
    "num = int(input(\"Enter the number\"))\n",
    "list1 = []\n",
    "for j in divisiblity_5_7(num):\n",
    "    list1.append(str(j))\n",
    "print(\",\".join(list1))"
   ]
  },
  {
   "cell_type": "markdown",
   "id": "c6c2e8a9",
   "metadata": {},
   "source": [
    "Question 2:\n",
    "Please write a program using generator to print the even numbers between 0 and n in comma\n",
    "separated form while n is input by console."
   ]
  },
  {
   "cell_type": "code",
   "execution_count": 31,
   "id": "968b754d",
   "metadata": {},
   "outputs": [
    {
     "name": "stdout",
     "output_type": "stream",
     "text": [
      "Enter the number11\n",
      "0,2,4,6,8,10\n"
     ]
    }
   ],
   "source": [
    "def even(n):\n",
    "    for i in range(n):\n",
    "        if i%2 == 0:\n",
    "            yield i\n",
    "\n",
    "list2 = []\n",
    "num = int(input(\"Enter the number\"))\n",
    "for j in even(num):\n",
    "    list2.append(str(j))\n",
    "    \n",
    "print(\",\".join(list2))"
   ]
  },
  {
   "cell_type": "markdown",
   "id": "67e1a27e",
   "metadata": {},
   "source": [
    "Question 3:\n",
    "Please write a program using list comprehension to print the Fibonacci Sequence in comma\n",
    "separated form with a given n input by console."
   ]
  },
  {
   "cell_type": "code",
   "execution_count": 40,
   "id": "ea579c48",
   "metadata": {},
   "outputs": [
    {
     "name": "stdout",
     "output_type": "stream",
     "text": [
      "Enter the number: 7\n",
      "0,1,1,2,3,5,8,13\n"
     ]
    }
   ],
   "source": [
    "def fibon_series(n):\n",
    "    if n == 0:\n",
    "            return 0\n",
    "    elif n == 1:\n",
    "            return 1\n",
    "    else:\n",
    "            return fibon_series(n-1) + fibon_series(n-2)\n",
    "    \n",
    "n = int(input(\"Enter the number: \"))\n",
    "values = [str(fibon_series(x)) for x in range(0, n+1)]\n",
    "print(','.join(values))"
   ]
  },
  {
   "cell_type": "markdown",
   "id": "861489b6",
   "metadata": {},
   "source": [
    "Question 4:\n",
    "Assuming that we have some email addresses in the 'username@companyname.com' format,\n",
    "please write program to print the user name of a given email address. Both user names and\n",
    "company names are composed of letters only."
   ]
  },
  {
   "cell_type": "code",
   "execution_count": 44,
   "id": "29bd47e9",
   "metadata": {},
   "outputs": [
    {
     "name": "stdout",
     "output_type": "stream",
     "text": [
      "Enter the e-mail:- divyanshu@gmail.com\n",
      "divyanshu\n",
      "gmail\n"
     ]
    }
   ],
   "source": [
    "email = str(input(\"Enter the e-mail:- \")).split('@')\n",
    "print(email[0])\n",
    "company = email[1].split('.')\n",
    "print(company[0])"
   ]
  },
  {
   "cell_type": "markdown",
   "id": "4fddc8f0",
   "metadata": {},
   "source": [
    "Question 5:\n",
    "Define a class named Shape and its subclass Square. The Square class has an init function\n",
    "which takes a length as argument. Both classes have a area function which can print the area\n",
    "of the shape where Shape's area is 0 by default."
   ]
  },
  {
   "cell_type": "code",
   "execution_count": 69,
   "id": "5b701ced",
   "metadata": {},
   "outputs": [],
   "source": [
    "class Shape:\n",
    "    def __init__(self):\n",
    "        pass\n",
    "#         self.length = length\n",
    "        \n",
    "    def area(self):\n",
    "        return 0\n",
    "    \n",
    "class Square(Shape):\n",
    "    def __init__(self, length):\n",
    "        self.length = length\n",
    "        \n",
    "    def area(self):\n",
    "        print(f\"{self.length ** 2}\")"
   ]
  },
  {
   "cell_type": "code",
   "execution_count": 71,
   "id": "1a4994eb",
   "metadata": {},
   "outputs": [],
   "source": [
    "b = Shape()"
   ]
  },
  {
   "cell_type": "code",
   "execution_count": 72,
   "id": "507ae46f",
   "metadata": {},
   "outputs": [
    {
     "data": {
      "text/plain": [
       "0"
      ]
     },
     "execution_count": 72,
     "metadata": {},
     "output_type": "execute_result"
    }
   ],
   "source": [
    "b.area()"
   ]
  },
  {
   "cell_type": "code",
   "execution_count": 66,
   "id": "00f9c827",
   "metadata": {},
   "outputs": [],
   "source": [
    "a = Square(5)"
   ]
  },
  {
   "cell_type": "code",
   "execution_count": 68,
   "id": "6712d620",
   "metadata": {},
   "outputs": [
    {
     "name": "stdout",
     "output_type": "stream",
     "text": [
      "25\n"
     ]
    }
   ],
   "source": [
    "a.area()"
   ]
  }
 ],
 "metadata": {
  "kernelspec": {
   "display_name": "Python 3 (ipykernel)",
   "language": "python",
   "name": "python3"
  },
  "language_info": {
   "codemirror_mode": {
    "name": "ipython",
    "version": 3
   },
   "file_extension": ".py",
   "mimetype": "text/x-python",
   "name": "python",
   "nbconvert_exporter": "python",
   "pygments_lexer": "ipython3",
   "version": "3.9.12"
  }
 },
 "nbformat": 4,
 "nbformat_minor": 5
}
