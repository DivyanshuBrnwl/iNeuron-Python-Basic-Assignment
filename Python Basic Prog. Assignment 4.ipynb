{
 "cells": [
  {
   "cell_type": "code",
   "execution_count": null,
   "id": "190bc347",
   "metadata": {},
   "outputs": [],
   "source": [
    "1. Write a Python Program to Find the Factorial of a Number?"
   ]
  },
  {
   "cell_type": "code",
   "execution_count": 32,
   "id": "0abd546d",
   "metadata": {},
   "outputs": [],
   "source": [
    "def print_int(n):\n",
    "    int_list = []\n",
    "    for i in range(1, n+1):\n",
    "        int_list.append(i)\n",
    "    return(int_list)    "
   ]
  },
  {
   "cell_type": "code",
   "execution_count": 33,
   "id": "63548ef1",
   "metadata": {},
   "outputs": [],
   "source": [
    "a = print_int(5)"
   ]
  },
  {
   "cell_type": "code",
   "execution_count": 34,
   "id": "bf4bc336",
   "metadata": {},
   "outputs": [
    {
     "name": "stdout",
     "output_type": "stream",
     "text": [
      "[1, 2, 3, 4, 5]\n"
     ]
    }
   ],
   "source": [
    "print(a)"
   ]
  },
  {
   "cell_type": "code",
   "execution_count": 35,
   "id": "854070a3",
   "metadata": {},
   "outputs": [],
   "source": [
    "from functools import reduce"
   ]
  },
  {
   "cell_type": "code",
   "execution_count": 36,
   "id": "b0b1167a",
   "metadata": {},
   "outputs": [],
   "source": [
    "def factorial(x):\n",
    "    return(reduce(lambda a, b:a*b, print_int(x)))"
   ]
  },
  {
   "cell_type": "code",
   "execution_count": 37,
   "id": "43f4caea",
   "metadata": {},
   "outputs": [
    {
     "data": {
      "text/plain": [
       "362880"
      ]
     },
     "execution_count": 37,
     "metadata": {},
     "output_type": "execute_result"
    }
   ],
   "source": [
    "factorial(9)"
   ]
  },
  {
   "cell_type": "code",
   "execution_count": null,
   "id": "5a94e87d",
   "metadata": {},
   "outputs": [],
   "source": [
    "2. Write a Python Program to Display the multiplication Table?"
   ]
  },
  {
   "cell_type": "code",
   "execution_count": 25,
   "id": "0f469939",
   "metadata": {},
   "outputs": [],
   "source": [
    "def table(n):\n",
    "    for i in range(1, 11):\n",
    "        print(f\"{n} X {i} = {n*i}\")"
   ]
  },
  {
   "cell_type": "code",
   "execution_count": 26,
   "id": "e5364b28",
   "metadata": {},
   "outputs": [
    {
     "name": "stdout",
     "output_type": "stream",
     "text": [
      "7 X 1 = 7\n",
      "7 X 2 = 14\n",
      "7 X 3 = 21\n",
      "7 X 4 = 28\n",
      "7 X 5 = 35\n",
      "7 X 6 = 42\n",
      "7 X 7 = 49\n",
      "7 X 8 = 56\n",
      "7 X 9 = 63\n",
      "7 X 10 = 70\n"
     ]
    }
   ],
   "source": [
    "table(7)"
   ]
  },
  {
   "cell_type": "code",
   "execution_count": null,
   "id": "a19d4973",
   "metadata": {},
   "outputs": [],
   "source": [
    "3. Write a Python Program to Print the Fibonacci sequence?"
   ]
  },
  {
   "cell_type": "code",
   "execution_count": 5,
   "id": "898d425c",
   "metadata": {},
   "outputs": [
    {
     "name": "stdout",
     "output_type": "stream",
     "text": [
      "Enter the value:- 20\n",
      "[0, 1, 1, 2, 3, 5, 8, 13, 21, 34, 55, 89, 144, 233, 377, 610, 987, 1597, 2584, 4181]\n"
     ]
    }
   ],
   "source": [
    "n = int(input(\"Enter the value:- \"))\n",
    "sequence = []\n",
    "a = 0\n",
    "b = 1\n",
    "if n <= 0:\n",
    "    print(\"Enter a positive number\")\n",
    "elif n == 0:\n",
    "    print(\"Fibonacci sequence upto n = {a}\")\n",
    "else:\n",
    "    for i in range(n):\n",
    "        sequence.append(a)\n",
    "        c = a+b\n",
    "        a = b\n",
    "        b = c\n",
    "print(sequence)"
   ]
  },
  {
   "cell_type": "code",
   "execution_count": 6,
   "id": "8f68fcf1",
   "metadata": {},
   "outputs": [
    {
     "name": "stdout",
     "output_type": "stream",
     "text": [
      "Enter the number:- 20\n",
      "[0, 1, 1, 2, 3, 5, 8, 13, 21, 34, 55, 89, 144, 233, 377, 610, 987, 1597, 2584, 4181]\n"
     ]
    }
   ],
   "source": [
    "n = int(input(\"Enter the number:- \"))\n",
    "sequence1 = []\n",
    "c = 0\n",
    "d = 1\n",
    "if n <= 0:\n",
    "    print(\"Enter a positive number\")\n",
    "elif n==0:\n",
    "    print(f\"Fibonacci sequence upto {n} :- {c}\")\n",
    "else:\n",
    "    for i in range(n):\n",
    "        sequence1.append(c) \n",
    "        e = c + d\n",
    "        c = d\n",
    "        d = e\n",
    "print(sequence1)"
   ]
  },
  {
   "cell_type": "code",
   "execution_count": null,
   "id": "a9d7bef9",
   "metadata": {},
   "outputs": [],
   "source": [
    "4. Write a Python Program to Check Armstrong Number?"
   ]
  },
  {
   "cell_type": "code",
   "execution_count": 17,
   "id": "e67f6104",
   "metadata": {},
   "outputs": [
    {
     "name": "stdout",
     "output_type": "stream",
     "text": [
      "Enter a number: 9474\n",
      "9474 is an Armstrong number\n"
     ]
    }
   ],
   "source": [
    "num = str(input(\"Enter a number: \"))\n",
    "power = len(num)\n",
    "num = int(num)\n",
    "\n",
    "# initialize sum\n",
    "sum = 0\n",
    "\n",
    "# find the sum of the cube of each digit\n",
    "temp = num\n",
    "while temp > 0:\n",
    "   digit = temp % 10\n",
    "   sum += digit ** power\n",
    "   temp //= 10\n",
    "\n",
    "# display the result\n",
    "if num == sum:\n",
    "   print(num,\"is an Armstrong number\")\n",
    "else:\n",
    "   print(num,\"is not an Armstrong number\")\n"
   ]
  },
  {
   "cell_type": "code",
   "execution_count": null,
   "id": "e3fc64db",
   "metadata": {},
   "outputs": [],
   "source": [
    "5. Write a Python Program to Find Armstrong Number in an Interval?"
   ]
  },
  {
   "cell_type": "code",
   "execution_count": 13,
   "id": "778d250c",
   "metadata": {},
   "outputs": [
    {
     "name": "stdout",
     "output_type": "stream",
     "text": [
      "Enter lower range: 1\n",
      "Enter upper range: 10000\n",
      "1\n",
      "2\n",
      "3\n",
      "4\n",
      "5\n",
      "6\n",
      "7\n",
      "8\n",
      "9\n",
      "153\n",
      "370\n",
      "371\n",
      "407\n",
      "1634\n",
      "8208\n",
      "9474\n"
     ]
    }
   ],
   "source": [
    "lower = int(input(\"Enter lower range: \"))\n",
    "upper = int(input(\"Enter upper range: \"))\n",
    "\n",
    "for num in range(lower, upper + 1):\n",
    "   # order of number\n",
    "   order = len(str(num))\n",
    "    \n",
    "   # initialize sum\n",
    "   sum = 0\n",
    "\n",
    "   # find the sum of the cube of each digit\n",
    "   temp = num\n",
    "   while temp > 0:\n",
    "       digit = temp % 10\n",
    "       sum += digit ** order\n",
    "       temp //= 10\n",
    "\n",
    "   if num == sum:\n",
    "       print(num)"
   ]
  },
  {
   "cell_type": "code",
   "execution_count": null,
   "id": "f5335be5",
   "metadata": {},
   "outputs": [],
   "source": [
    "6. Write a Python Program to Find the Sum of Natural Numbers?"
   ]
  },
  {
   "cell_type": "code",
   "execution_count": null,
   "id": "ffdc55ba",
   "metadata": {},
   "outputs": [],
   "source": [
    "def print_int(n):\n",
    "    int_list = []\n",
    "    for i in range(1, n+1):\n",
    "        int_list.append(i)\n",
    "    return(int_list)    "
   ]
  },
  {
   "cell_type": "code",
   "execution_count": 38,
   "id": "442e31a7",
   "metadata": {},
   "outputs": [],
   "source": [
    "def sum_natural_num(n):\n",
    "    return(reduce(lambda a, b:a+b, print_int(n)))"
   ]
  },
  {
   "cell_type": "code",
   "execution_count": 39,
   "id": "52de56ea",
   "metadata": {},
   "outputs": [
    {
     "data": {
      "text/plain": [
       "15"
      ]
     },
     "execution_count": 39,
     "metadata": {},
     "output_type": "execute_result"
    }
   ],
   "source": [
    "sum_natural_num(5)"
   ]
  },
  {
   "cell_type": "code",
   "execution_count": null,
   "id": "44fa394a",
   "metadata": {},
   "outputs": [],
   "source": []
  }
 ],
 "metadata": {
  "kernelspec": {
   "display_name": "Python 3 (ipykernel)",
   "language": "python",
   "name": "python3"
  },
  "language_info": {
   "codemirror_mode": {
    "name": "ipython",
    "version": 3
   },
   "file_extension": ".py",
   "mimetype": "text/x-python",
   "name": "python",
   "nbconvert_exporter": "python",
   "pygments_lexer": "ipython3",
   "version": "3.9.12"
  }
 },
 "nbformat": 4,
 "nbformat_minor": 5
}
