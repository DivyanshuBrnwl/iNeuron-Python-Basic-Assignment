{
 "cells": [
  {
   "cell_type": "code",
   "execution_count": null,
   "id": "35fe1fdf",
   "metadata": {},
   "outputs": [],
   "source": [
    "1. In what modes should the PdfFileReader() and PdfFileWriter() File objects will be opened?"
   ]
  },
  {
   "cell_type": "code",
   "execution_count": null,
   "id": "ef23bbab",
   "metadata": {},
   "outputs": [],
   "source": [
    "In Read Binary Mode 'rb' and in Write Binary Mode 'wb'."
   ]
  },
  {
   "cell_type": "code",
   "execution_count": null,
   "id": "7cd7cdd1",
   "metadata": {},
   "outputs": [],
   "source": [
    "2. From a PdfFileReader object, how do you get a Page object for page 5?"
   ]
  },
  {
   "cell_type": "code",
   "execution_count": 4,
   "id": "cfdf65f3",
   "metadata": {},
   "outputs": [],
   "source": [
    "f = open('Working_Business_Proposal.pdf', 'rb')\n",
    "PDF_Reader = PyPDF2.PdfReader(f)\n",
    "Required_Page = PDF_Reader.pages[4]\n",
    "Required_Page.extract_text()"
   ]
  },
  {
   "cell_type": "code",
   "execution_count": null,
   "id": "90b93f6b",
   "metadata": {},
   "outputs": [],
   "source": [
    "3. What PdfFileReader variable stores the number of pages in the PDF document?"
   ]
  },
  {
   "cell_type": "code",
   "execution_count": null,
   "id": "5493c062",
   "metadata": {},
   "outputs": [],
   "source": [
    "'.numPages' attribute"
   ]
  },
  {
   "cell_type": "code",
   "execution_count": null,
   "id": "51cf7725",
   "metadata": {},
   "outputs": [],
   "source": [
    "4. If a PdfFileReader object’s PDF is encrypted with the password swordfish, what must you do\n",
    "before you can obtain Page objects from it?"
   ]
  },
  {
   "cell_type": "code",
   "execution_count": 2,
   "id": "a376fd33",
   "metadata": {},
   "outputs": [],
   "source": [
    "import PyPDF2\n",
    "\n",
    "def decrypt_pdf(encrypted_file_path, decrypted_file_path, password='swordfish'):\n",
    "    f = open('EAadhaar.pdf', 'rb')\n",
    "    reader = PyPDF2.PdfReader(f)     \n",
    "    if reader.is_encrypted:\n",
    "        reader.decrypt(password)\n",
    "    writer = PyPDF2.PdfWriter()\n",
    "    for i in range(len(pdf_reader.pages)):\n",
    "        writer.add_page(reader.pages[i])\n",
    "    with open(output_path, 'wb') as output_file:\n",
    "        writer.write(output_file)"
   ]
  },
  {
   "cell_type": "code",
   "execution_count": null,
   "id": "32b64139",
   "metadata": {},
   "outputs": [],
   "source": [
    "5. What methods do you use to rotate a page?"
   ]
  },
  {
   "cell_type": "markdown",
   "id": "54355730",
   "metadata": {},
   "source": [
    "The rotateClockwise() and rotateCounterClockwise() methods. The degrees to rotate is passed as an integer argument"
   ]
  },
  {
   "cell_type": "code",
   "execution_count": 5,
   "id": "4b4f9b2f",
   "metadata": {},
   "outputs": [],
   "source": [
    "#pageObj.rotateClockwise(180)"
   ]
  },
  {
   "cell_type": "code",
   "execution_count": null,
   "id": "64017c55",
   "metadata": {},
   "outputs": [],
   "source": [
    "6. What is the difference between a Run object and a Paragraph object?"
   ]
  },
  {
   "cell_type": "markdown",
   "id": "98a885e4",
   "metadata": {},
   "source": [
    "Paragraph Object :  A document contains multiple paragraphs. A paragraph begins on a new line and contains multiple \n",
    "runs. \n",
    "The Document object contains a list of Paragraph objects for the paragraphs in the document. (A new paragraph begins \n",
    "whenever the user presses ENTER or RETURN while typing in a Word document.)\n",
    "\n",
    "Run Objects :\n",
    "Runs are contiguous groups of characters within a paragraph with the same style"
   ]
  },
  {
   "cell_type": "code",
   "execution_count": null,
   "id": "4c127dbf",
   "metadata": {},
   "outputs": [],
   "source": [
    "7. How do you obtain a list of Paragraph objects for a Document object that’s stored in a variable\n",
    "named doc?"
   ]
  },
  {
   "cell_type": "code",
   "execution_count": null,
   "id": "b0e83a72",
   "metadata": {},
   "outputs": [],
   "source": [
    "from docx import Document\n",
    "\n",
    "doc = Document('test.docx')\n",
    "doc.paragraphs"
   ]
  },
  {
   "cell_type": "code",
   "execution_count": null,
   "id": "ae597133",
   "metadata": {},
   "outputs": [],
   "source": [
    "8. What type of object has bold, underline, italic, strike, and outline variables?"
   ]
  },
  {
   "cell_type": "markdown",
   "id": "2ae5aa94",
   "metadata": {},
   "source": [
    "run object has bold, underline, italic, strike, and outline variables"
   ]
  },
  {
   "cell_type": "code",
   "execution_count": null,
   "id": "bb35832a",
   "metadata": {},
   "outputs": [],
   "source": [
    "9. What is the difference between False, True, and None for the bold variable?"
   ]
  },
  {
   "cell_type": "markdown",
   "id": "2afc93e9",
   "metadata": {},
   "source": [
    "True always makes the Run object bolded False makes Run obejct always not bolded, None will make the Run object just use the style's bold setting"
   ]
  },
  {
   "cell_type": "code",
   "execution_count": null,
   "id": "342b6d98",
   "metadata": {},
   "outputs": [],
   "source": [
    "10. How do you create a Document object for a new Word document?"
   ]
  },
  {
   "cell_type": "markdown",
   "id": "8838833b",
   "metadata": {},
   "source": [
    "By Calling docx.Document()"
   ]
  },
  {
   "cell_type": "code",
   "execution_count": null,
   "id": "557dc148",
   "metadata": {},
   "outputs": [],
   "source": [
    "11. How do you add a paragraph with the text 'Hello, there!' to a Document object stored in a\n",
    "variable named doc?"
   ]
  },
  {
   "cell_type": "code",
   "execution_count": null,
   "id": "bbe123d0",
   "metadata": {},
   "outputs": [],
   "source": [
    "import docx\n",
    "import paragraphs\n",
    "doc = docx.Document()\n",
    "doc.add_paragraph(\"This is a New paragraph. Faculty of iNeuron are good and teach student well\")\n",
    "doc.save('doc.docx')"
   ]
  },
  {
   "cell_type": "code",
   "execution_count": null,
   "id": "3edb36f7",
   "metadata": {},
   "outputs": [],
   "source": [
    "12. What integers represent the levels of headings available in Word documents?"
   ]
  },
  {
   "cell_type": "code",
   "execution_count": null,
   "id": "efbc6069",
   "metadata": {},
   "outputs": [],
   "source": [
    "Integers 0 to 4 represent the levels of headings available in Word documents."
   ]
  },
  {
   "cell_type": "code",
   "execution_count": null,
   "id": "2970754a",
   "metadata": {},
   "outputs": [],
   "source": [
    "import docx\n",
    "import paragraphs\n",
    "doc = docx.Document()\n",
    "doc.add_heading('Hello! I study in iNeuron.ai',0)\n",
    "doc.add_heading('Hello! I Study in iNeuron.ai',1)\n",
    "doc.add_heading('Hello! I study in iNeuron.ai',2)\n",
    "doc.add_heading('Hello! I study in iNeuron.ai',3)\n",
    "doc.add_heading('Hello! I study in iNeuron.ai',4)\n",
    "doc.save('Assignment.docx')"
   ]
  },
  {
   "cell_type": "code",
   "execution_count": null,
   "id": "62c9615b",
   "metadata": {},
   "outputs": [],
   "source": []
  }
 ],
 "metadata": {
  "kernelspec": {
   "display_name": "Python 3 (ipykernel)",
   "language": "python",
   "name": "python3"
  },
  "language_info": {
   "codemirror_mode": {
    "name": "ipython",
    "version": 3
   },
   "file_extension": ".py",
   "mimetype": "text/x-python",
   "name": "python",
   "nbconvert_exporter": "python",
   "pygments_lexer": "ipython3",
   "version": "3.9.12"
  }
 },
 "nbformat": 4,
 "nbformat_minor": 5
}
