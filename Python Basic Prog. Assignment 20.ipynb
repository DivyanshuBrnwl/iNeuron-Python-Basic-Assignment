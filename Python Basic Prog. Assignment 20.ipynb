{
 "cells": [
  {
   "cell_type": "markdown",
   "id": "67dd7d7e",
   "metadata": {},
   "source": [
    "Question1\n",
    "Create a function that takes a list of strings and integers, and filters out the list so that it\n",
    "returns a list of integers only."
   ]
  },
  {
   "cell_type": "code",
   "execution_count": 5,
   "id": "be6af279",
   "metadata": {},
   "outputs": [],
   "source": [
    "def int_list(list1):\n",
    "    list2 = []\n",
    "    for i in list1:\n",
    "        if type(i)==int:\n",
    "            list2.append(i)\n",
    "    print(list2)"
   ]
  },
  {
   "cell_type": "code",
   "execution_count": 8,
   "id": "3b4d8e2d",
   "metadata": {},
   "outputs": [],
   "source": [
    "list3 = [2, 3, 'Divyanshu', 5, 6, 7, 'Sudhandhu', 8, 6, 5, 6, 'Python']"
   ]
  },
  {
   "cell_type": "code",
   "execution_count": 7,
   "id": "dce63621",
   "metadata": {},
   "outputs": [
    {
     "name": "stdout",
     "output_type": "stream",
     "text": [
      "[2, 3, 5, 6, 7, 8, 6, 5, 6]\n"
     ]
    }
   ],
   "source": [
    "int_list(list3)"
   ]
  },
  {
   "cell_type": "markdown",
   "id": "079457f4",
   "metadata": {},
   "source": [
    "Question2\n",
    "Given a list of numbers, create a function which returns the list but with each element's\n",
    "index in the list added to itself. This means you add 0 to the number at index 0, add 1 to the\n",
    "number at index 1, etc..."
   ]
  },
  {
   "cell_type": "code",
   "execution_count": 25,
   "id": "418abfbb",
   "metadata": {},
   "outputs": [],
   "source": [
    "def add_indexes(list1):\n",
    "    return [i + list1[i] for i in range(len(list1))]"
   ]
  },
  {
   "cell_type": "code",
   "execution_count": 26,
   "id": "b6fbc822",
   "metadata": {},
   "outputs": [
    {
     "data": {
      "text/plain": [
       "[0, 1, 2, 3, 4]"
      ]
     },
     "execution_count": 26,
     "metadata": {},
     "output_type": "execute_result"
    }
   ],
   "source": [
    "add_indexes([0, 0, 0, 0, 0])"
   ]
  },
  {
   "cell_type": "markdown",
   "id": "88629d3e",
   "metadata": {},
   "source": [
    "Question3\n",
    "Create a function that takes the height and radius of a cone as arguments and returns the\n",
    "volume of the cone rounded to the nearest hundredth."
   ]
  },
  {
   "cell_type": "code",
   "execution_count": 29,
   "id": "b07a4e51",
   "metadata": {},
   "outputs": [],
   "source": [
    "def cone_volume():\n",
    "    height = float(input(\"Enter the height:- \"))\n",
    "    radius = float(input(\"Enter the radius:- \"))\n",
    "    print(round((1/3*3.14*radius**2*height), 2))"
   ]
  },
  {
   "cell_type": "code",
   "execution_count": 30,
   "id": "30858bf6",
   "metadata": {},
   "outputs": [
    {
     "name": "stdout",
     "output_type": "stream",
     "text": [
      "Enter the height:- 3\n",
      "Enter the radius:- 2\n",
      "12.56\n"
     ]
    }
   ],
   "source": [
    "cone_volume()"
   ]
  },
  {
   "cell_type": "markdown",
   "id": "fb1e00f8",
   "metadata": {},
   "source": [
    "Question4\n",
    "This Triangular Number Sequence is generated from a pattern of dots that form a triangle.\n",
    "The first 5 numbers of the sequence, or dots, are:\n",
    "1, 3, 6, 10, 15\n",
    "This means that the first triangle has just one dot, the second one has three dots, the third one\n",
    "has 6 dots and so on.\n",
    "Write a function that gives the number of dots with its corresponding triangle number of the\n",
    "sequence."
   ]
  },
  {
   "cell_type": "code",
   "execution_count": 24,
   "id": "3453c3f5",
   "metadata": {},
   "outputs": [],
   "source": [
    "def triangle(n):\n",
    "    j = 1\n",
    "    if n == 1:\n",
    "        print (1)\n",
    "    else:\n",
    "        for i in range(2, n+1):\n",
    "            j = j+i\n",
    "        print(j)"
   ]
  },
  {
   "cell_type": "code",
   "execution_count": 26,
   "id": "ca4a86f3",
   "metadata": {},
   "outputs": [
    {
     "name": "stdout",
     "output_type": "stream",
     "text": [
      "21\n"
     ]
    }
   ],
   "source": [
    "triangle(6)"
   ]
  },
  {
   "cell_type": "code",
   "execution_count": 27,
   "id": "146c26e7",
   "metadata": {},
   "outputs": [
    {
     "name": "stdout",
     "output_type": "stream",
     "text": [
      "23220\n"
     ]
    }
   ],
   "source": [
    "triangle(215)"
   ]
  },
  {
   "cell_type": "markdown",
   "id": "08d6cb93",
   "metadata": {},
   "source": [
    "Question5\n",
    "Create a function that takes a list of numbers between 1 and 10 (excluding one number) and\n",
    "returns the missing number."
   ]
  },
  {
   "cell_type": "code",
   "execution_count": 29,
   "id": "fa3d1b5b",
   "metadata": {},
   "outputs": [],
   "source": [
    "def missing_num(lst):\n",
    "    for i in range(1, 11):\n",
    "        if i in lst:\n",
    "            pass\n",
    "        else:\n",
    "            print(i) "
   ]
  },
  {
   "cell_type": "code",
   "execution_count": 30,
   "id": "2786c34f",
   "metadata": {},
   "outputs": [
    {
     "name": "stdout",
     "output_type": "stream",
     "text": [
      "5\n"
     ]
    }
   ],
   "source": [
    "missing_num([1, 2, 3, 4, 6, 7, 8, 9, 10])"
   ]
  },
  {
   "cell_type": "code",
   "execution_count": null,
   "id": "192feb7b",
   "metadata": {},
   "outputs": [],
   "source": []
  }
 ],
 "metadata": {
  "kernelspec": {
   "display_name": "Python 3 (ipykernel)",
   "language": "python",
   "name": "python3"
  },
  "language_info": {
   "codemirror_mode": {
    "name": "ipython",
    "version": 3
   },
   "file_extension": ".py",
   "mimetype": "text/x-python",
   "name": "python",
   "nbconvert_exporter": "python",
   "pygments_lexer": "ipython3",
   "version": "3.9.12"
  }
 },
 "nbformat": 4,
 "nbformat_minor": 5
}
