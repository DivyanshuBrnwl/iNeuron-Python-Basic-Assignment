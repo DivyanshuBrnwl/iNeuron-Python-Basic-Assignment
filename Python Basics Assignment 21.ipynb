{
 "cells": [
  {
   "cell_type": "markdown",
   "id": "081250c5",
   "metadata": {},
   "source": [
    "1. Add the current date to the text file today.txt as a string."
   ]
  },
  {
   "cell_type": "code",
   "execution_count": 8,
   "id": "a9b6e6ff",
   "metadata": {},
   "outputs": [],
   "source": [
    "from datetime import date\n",
    "today = date.today()\n",
    "with open ('today.txt', 'w') as f:\n",
    "    f.write(str(today))"
   ]
  },
  {
   "cell_type": "code",
   "execution_count": 9,
   "id": "c315daab",
   "metadata": {},
   "outputs": [
    {
     "data": {
      "text/plain": [
       "'2023-06-27'"
      ]
     },
     "execution_count": 9,
     "metadata": {},
     "output_type": "execute_result"
    }
   ],
   "source": [
    "str(today)"
   ]
  },
  {
   "cell_type": "markdown",
   "id": "acc9473c",
   "metadata": {},
   "source": [
    "2. Read the text file today.txt into the string today_string"
   ]
  },
  {
   "cell_type": "code",
   "execution_count": 15,
   "id": "fede6489",
   "metadata": {},
   "outputs": [],
   "source": [
    "with open ('today.txt', 'r') as f:\n",
    "    today_string = f.readline()"
   ]
  },
  {
   "cell_type": "code",
   "execution_count": 16,
   "id": "f3db7938",
   "metadata": {},
   "outputs": [
    {
     "data": {
      "text/plain": [
       "'2023-06-27'"
      ]
     },
     "execution_count": 16,
     "metadata": {},
     "output_type": "execute_result"
    }
   ],
   "source": [
    "today_string"
   ]
  },
  {
   "cell_type": "markdown",
   "id": "22b56741",
   "metadata": {},
   "source": [
    "3. Parse the date from today_string."
   ]
  },
  {
   "cell_type": "code",
   "execution_count": 23,
   "id": "1d8d7a7e",
   "metadata": {},
   "outputs": [
    {
     "name": "stdout",
     "output_type": "stream",
     "text": [
      "2023-06-27 00:00:00\n"
     ]
    }
   ],
   "source": [
    "from datetime import datetime\n",
    "\n",
    "today_date = datetime.strptime(today_string, '%Y-%m-%d')\n",
    "print(today_date)"
   ]
  },
  {
   "cell_type": "markdown",
   "id": "52f917a6",
   "metadata": {},
   "source": [
    "4. List the files in your current directory"
   ]
  },
  {
   "cell_type": "code",
   "execution_count": 25,
   "id": "a055ade7",
   "metadata": {},
   "outputs": [
    {
     "name": "stdout",
     "output_type": "stream",
     "text": [
      ".ipynb_checkpoints\n",
      "any_file_name\n",
      "ass.txt\n",
      "blue_color.png\n",
      "books.csv\n",
      "books.db\n",
      "example.csv\n",
      "example.jpg\n",
      "IMG_3430.jpg\n",
      "mask.png\n",
      "pencils.jpg\n",
      "pure_white.jpg\n",
      "purple.png\n",
      "Python Basic  Assignment 5.ipynb\n",
      "Python Basic Assignment 10.ipynb\n",
      "Python Basic Assignment 16.ipynb\n",
      "Python Basic Assignment 17.ipynb\n",
      "Python Basic Assignment 8.ipynb\n",
      "Python Basic Assignment 9.ipynb\n",
      "Python Basic Prog. Assignment 1.ipynb\n",
      "Python Basic Prog. Assignment 10.ipynb\n",
      "Python Basic Prog. Assignment 11.ipynb\n",
      "Python Basic Prog. Assignment 12.ipynb\n",
      "Python Basic Prog. Assignment 13.ipynb\n",
      "Python Basic Prog. Assignment 14.ipynb\n",
      "Python Basic Prog. Assignment 15.ipynb\n",
      "Python Basic Prog. Assignment 16.ipynb\n",
      "Python Basic Prog. Assignment 17.ipynb\n",
      "Python Basic Prog. Assignment 18.ipynb\n",
      "Python Basic Prog. Assignment 19.ipynb\n",
      "Python Basic Prog. Assignment 2.ipynb\n",
      "Python Basic Prog. Assignment 20.ipynb\n",
      "Python Basic Prog. Assignment 21.ipynb\n",
      "Python Basic Prog. Assignment 22.ipynb\n",
      "Python Basic Prog. Assignment 23.ipynb\n",
      "Python Basic Prog. Assignment 24.ipynb\n",
      "Python Basic Prog. Assignment 25.ipynb\n",
      "Python Basic Prog. Assignment 3.ipynb\n",
      "Python Basic Prog. Assignment 4.ipynb\n",
      "Python Basic Prog. Assignment 5.ipynb\n",
      "Python Basic Prog. Assignment 6.ipynb\n",
      "Python Basic Prog. Assignment 7.ipynb\n",
      "Python Basic Prog. Assignment 8.ipynb\n",
      "Python Basics Assignment 1.ipynb\n",
      "Python Basics Assignment 11.ipynb\n",
      "Python Basics Assignment 12.ipynb\n",
      "Python Basics Assignment 13.ipynb\n",
      "Python Basics Assignment 14.ipynb\n",
      "Python Basics Assignment 15.ipynb\n",
      "Python Basics Assignment 18.ipynb\n",
      "Python Basics Assignment 19.ipynb\n",
      "Python Basics Assignment 2.ipynb\n",
      "Python Basics Assignment 20.ipynb\n",
      "Python Basics Assignment 21.ipynb\n",
      "Python Basics Assignment 22.ipynb\n",
      "Python Basics Assignment 23.ipynb\n",
      "Python Basics Assignment 24.ipynb\n",
      "Python Basics Assignment 25.ipynb\n",
      "Python Basics Assignment 3.ipynb\n",
      "Python Basics Assignment 4.ipynb\n",
      "Python Basics Assignment 6.ipynb\n",
      "Python Basics Assignment 7.ipynb\n",
      "red_color.jpg\n",
      "shelve.txt\n",
      "shelve_copy.txt\n",
      "test.txt\n",
      "today.txt\n",
      "to_save_file.csv\n",
      "zoo.ipynb\n"
     ]
    }
   ],
   "source": [
    "import os \n",
    "files = os.listdir('C:\\\\Users\\\\kumar\\\\Python Basics Assignments')\n",
    "for file in files:\n",
    "    print(file)"
   ]
  },
  {
   "cell_type": "markdown",
   "id": "f1931020",
   "metadata": {},
   "source": [
    "5. Create a list of all of the files in your parent directory (minimum five files should be available)."
   ]
  },
  {
   "cell_type": "code",
   "execution_count": 27,
   "id": "748cd670",
   "metadata": {},
   "outputs": [
    {
     "name": "stdout",
     "output_type": "stream",
     "text": [
      ".anaconda\n",
      ".bash_history\n",
      ".conda\n",
      ".condarc\n",
      ".continuum\n",
      ".cufflinks\n",
      ".gitconfig\n",
      ".ipynb_checkpoints\n",
      ".ipython\n",
      ".jupyter\n",
      ".lesshst\n",
      ".matplotlib\n",
      ".pylint.d\n",
      ".python_history\n",
      ".spyder-py3\n",
      ".vscode\n",
      "27. File Handling, Iterator and generator Ineuron.ipynb\n",
      "abc.log\n",
      "anaconda3\n",
      "AppData\n",
      "Application Data\n",
      "Array Practice in python.ipynb\n",
      "Assignment Code practice\n",
      "Book1.xlsx\n",
      "cap.py\n",
      "Complete-Python-3-Bootcamp-master\n",
      "Complete-Python-3-Bootcamp-master (1).zip\n",
      "comp_file.zip\n",
      "Contacts\n",
      "Cookies\n",
      "currency_exchange.txt\n",
      "data_excel.csv\n",
      "demo.log\n",
      "Documents\n",
      "Downloads\n",
      "example.zip\n",
      "excel 30-may.txt\n",
      "Exception Handling Ineuron.ipynb\n",
      "extracted_content\n",
      "Favorites\n",
      "fileone.txt\n",
      "filetwo.txt\n",
      "final_unzip\n",
      "functions ex.py.ipynb\n",
      "hjdsgfhgdu.txt\n",
      "Ineuron\n",
      "Ineuron Functions.ipynb\n",
      "ineuron.txt\n",
      "ineuron_test.log\n",
      "ineuron_test1.log\n",
      "Jedi\n",
      "Links\n",
      "Local Settings\n",
      "LUSID Excel - Business Agility - Making Simple Changes Quickly & Easily.xlsx\n",
      "Microsoft\n",
      "Milestone Project 2.ipynb\n",
      "milestone.ipynb\n",
      "module, packages, errors and exceptions handling.ipynb\n",
      "Music\n",
      "My Documents\n",
      "myexample.py\n",
      "myfile.txt\n",
      "MyMainPackage\n",
      "mymodule.py\n",
      "mymodule1.py\n",
      "myprogram.py\n",
      "myprogram1.py\n",
      "my_computer_image.png\n",
      "my_new_file.txt\n",
      "NetHood\n",
      "new.txt\n",
      "NTUSER.DAT\n",
      "ntuser.dat.LOG1\n",
      "ntuser.dat.LOG2\n",
      "NTUSER.DAT{a2332f17-cdbf-11ec-8680-002248483d79}.TxR.0.regtrans-ms\n",
      "NTUSER.DAT{a2332f17-cdbf-11ec-8680-002248483d79}.TxR.1.regtrans-ms\n",
      "NTUSER.DAT{a2332f17-cdbf-11ec-8680-002248483d79}.TxR.2.regtrans-ms\n",
      "NTUSER.DAT{a2332f17-cdbf-11ec-8680-002248483d79}.TxR.blf\n",
      "NTUSER.DAT{a2332f18-cdbf-11ec-8680-002248483d79}.TM.blf\n",
      "NTUSER.DAT{a2332f18-cdbf-11ec-8680-002248483d79}.TMContainer00000000000000000001.regtrans-ms\n",
      "NTUSER.DAT{a2332f18-cdbf-11ec-8680-002248483d79}.TMContainer00000000000000000002.regtrans-ms\n",
      "ntuser.ini\n",
      "OneDrive\n",
      "oops section8 udemy.py.ipynb\n",
      "Postman\n",
      "PrintHood\n",
      "Python Basics Assignment 1.ipynb\n",
      "Python Basics Assignment 2.ipynb\n",
      "Python Basics Assignment 3.ipynb\n",
      "Python Basics Assignment 4.ipynb\n",
      "Python Basics Assignments\n",
      "python code with harry .ipynb\n",
      "Python Logging and Debugging in Ineuron.ipynb\n",
      "python udemy section 3(12).ipynb\n",
      "Python-task-01-main\n",
      "random practice.ipynb\n",
      "Random_practice_2.ipynb\n",
      "Recent\n",
      "Saved Games\n",
      "seaborn-data\n",
      "Searches\n",
      "Section 12 onwards udemy.ipynb\n",
      "section10.ipynb\n",
      "SendTo\n",
      "simple1.py\n",
      "Start Menu\n",
      "Templates\n",
      "test2Ineuron.txt\n",
      "test3.txt\n",
      "testIneuron.txt\n",
      "testing2.log\n",
      "testing22.log\n",
      "Untitled.ipynb\n",
      "Untitled1.ipynb\n",
      "unzipped-Complete-Python-3-Bootcamp-Master (1)\n",
      "Videos\n",
      "Web Scraping with python.ipynb\n",
      "__pycache__\n",
      "~$Book1.xlsx\n"
     ]
    }
   ],
   "source": [
    "import os\n",
    "files = os.listdir('C:\\\\Users\\\\kumar')\n",
    "for file in files:\n",
    "    print(file)"
   ]
  },
  {
   "cell_type": "markdown",
   "id": "5472f116",
   "metadata": {},
   "source": [
    "6. Use multiprocessing to create three separate processes. Make each one wait a random number of\n",
    "seconds between one and five, print the current time, and then exit."
   ]
  },
  {
   "cell_type": "code",
   "execution_count": 51,
   "id": "caa7ec1c",
   "metadata": {},
   "outputs": [],
   "source": [
    "import multiprocessing\n",
    "\n",
    "def printsec(seconds):\n",
    "    from datetime import datetime\n",
    "    from time import sleep\n",
    "    sleep(seconds)\n",
    "    print('wait', seconds, 'seconds, time is', datetime.utcnow())\n",
    "    \n",
    "if __name__ == '__main__':\n",
    "    import random    \n",
    "    for n in range(3):\n",
    "        seconds = random.random()\n",
    "        proc = multiprocessing.Process(target=printsec, args=(seconds,))\n",
    "        proc.start()"
   ]
  },
  {
   "cell_type": "code",
   "execution_count": 53,
   "id": "eb866d0d",
   "metadata": {},
   "outputs": [],
   "source": [
    "!python multi.py"
   ]
  },
  {
   "cell_type": "markdown",
   "id": "846223f4",
   "metadata": {},
   "source": [
    "7. Create a date object of your day of birth."
   ]
  },
  {
   "cell_type": "code",
   "execution_count": 56,
   "id": "f8d2a99d",
   "metadata": {},
   "outputs": [],
   "source": [
    "my_date = date(2001,12,4)"
   ]
  },
  {
   "cell_type": "code",
   "execution_count": 57,
   "id": "388141bd",
   "metadata": {},
   "outputs": [
    {
     "data": {
      "text/plain": [
       "datetime.date(2001, 12, 4)"
      ]
     },
     "execution_count": 57,
     "metadata": {},
     "output_type": "execute_result"
    }
   ],
   "source": [
    "my_date"
   ]
  },
  {
   "cell_type": "markdown",
   "id": "13e09fd5",
   "metadata": {},
   "source": [
    "8. What day of the week was your day of birth?"
   ]
  },
  {
   "cell_type": "code",
   "execution_count": 58,
   "id": "18eae90c",
   "metadata": {},
   "outputs": [
    {
     "data": {
      "text/plain": [
       "1"
      ]
     },
     "execution_count": 58,
     "metadata": {},
     "output_type": "execute_result"
    }
   ],
   "source": [
    "my_date.weekday()"
   ]
  },
  {
   "cell_type": "code",
   "execution_count": null,
   "id": "a148fdce",
   "metadata": {},
   "outputs": [],
   "source": []
  }
 ],
 "metadata": {
  "kernelspec": {
   "display_name": "Python 3 (ipykernel)",
   "language": "python",
   "name": "python3"
  },
  "language_info": {
   "codemirror_mode": {
    "name": "ipython",
    "version": 3
   },
   "file_extension": ".py",
   "mimetype": "text/x-python",
   "name": "python",
   "nbconvert_exporter": "python",
   "pygments_lexer": "ipython3",
   "version": "3.9.12"
  }
 },
 "nbformat": 4,
 "nbformat_minor": 5
}
