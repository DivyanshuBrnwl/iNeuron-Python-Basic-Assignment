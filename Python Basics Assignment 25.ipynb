{
 "cells": [
  {
   "cell_type": "markdown",
   "id": "48dcbf1a",
   "metadata": {},
   "source": [
    "1) . What is the difference between enclosing a list comprehension in square brackets and\n",
    "parentheses?"
   ]
  },
  {
   "cell_type": "code",
   "execution_count": 1,
   "id": "fa96282c",
   "metadata": {},
   "outputs": [],
   "source": [
    "a = [i for i in range(10)]\n",
    "b = (i for i in range(10))"
   ]
  },
  {
   "cell_type": "code",
   "execution_count": 3,
   "id": "591f2fc5",
   "metadata": {},
   "outputs": [
    {
     "name": "stdout",
     "output_type": "stream",
     "text": [
      "<class 'list'>\n",
      "<class 'generator'>\n"
     ]
    }
   ],
   "source": [
    "print(type(a))\n",
    "print(type(b))"
   ]
  },
  {
   "cell_type": "markdown",
   "id": "296ebbe9",
   "metadata": {},
   "source": [
    "Enclosing a list comprehension in square brackets will create a list while enclosing as list comprehension in parentheses will create\n",
    "generator"
   ]
  },
  {
   "cell_type": "markdown",
   "id": "d7e13e86",
   "metadata": {},
   "source": [
    "2) What is the relationship between generators and iterators?"
   ]
  },
  {
   "cell_type": "markdown",
   "id": "48ba4eaa",
   "metadata": {},
   "source": [
    "Both are used to iterate over the sequence of values.The difference is generator do lazy operation i.e. generating values on demand\n",
    "while iterator iterate evaluate every evaluation and store them in memory.Generator is memory efficient while iterator is memory\n",
    "exhaustive.Implementing your own iterator requires creating an iter() and next() keyword while a generator can be implemented using\n",
    "using yield() keyword in a python function. Generator are better for the huge loops as it does not store all the values in memory."
   ]
  },
  {
   "cell_type": "markdown",
   "id": "96d05a75",
   "metadata": {},
   "source": [
    "3) What are the signs that a function is a generator function?"
   ]
  },
  {
   "cell_type": "markdown",
   "id": "928198d1",
   "metadata": {},
   "source": [
    "The generator function has yield() statement and the execution of that iterator will be controlled by its caller i.e. it will execute again\n",
    "after when it is called by the user."
   ]
  },
  {
   "cell_type": "markdown",
   "id": "36d61e7b",
   "metadata": {},
   "source": [
    "4) What is the purpose of a yield statement?"
   ]
  },
  {
   "cell_type": "markdown",
   "id": "4da534af",
   "metadata": {},
   "source": [
    "The yield statement is used to create generator function. A type of statement that is memory efficient and iterate only when it is\n",
    "called by the caller and paused again after when it is called again."
   ]
  },
  {
   "cell_type": "markdown",
   "id": "8c246a96",
   "metadata": {},
   "source": [
    "5) What is the relationship between map calls and list comprehensions? Make a comparison and\n",
    "contrast between the two."
   ]
  },
  {
   "cell_type": "markdown",
   "id": "e617a76c",
   "metadata": {},
   "source": [
    "The difference is a map() function creates an iterator while a list comprehensions create a list.\n",
    "In other words we can use map to apply function to each element of the list without creating a new list while list comprehension \n",
    "creates new list by apply an expression to the each element of the existing list or other iterable object."
   ]
  },
  {
   "cell_type": "code",
   "execution_count": null,
   "id": "0ea2fc4b",
   "metadata": {},
   "outputs": [],
   "source": []
  }
 ],
 "metadata": {
  "kernelspec": {
   "display_name": "Python 3 (ipykernel)",
   "language": "python",
   "name": "python3"
  },
  "language_info": {
   "codemirror_mode": {
    "name": "ipython",
    "version": 3
   },
   "file_extension": ".py",
   "mimetype": "text/x-python",
   "name": "python",
   "nbconvert_exporter": "python",
   "pygments_lexer": "ipython3",
   "version": "3.9.12"
  }
 },
 "nbformat": 4,
 "nbformat_minor": 5
}
