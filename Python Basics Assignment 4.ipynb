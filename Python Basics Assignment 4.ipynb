{
 "cells": [
  {
   "cell_type": "markdown",
   "id": "2276b6c6",
   "metadata": {},
   "source": [
    "1. What exactly is []?"
   ]
  },
  {
   "cell_type": "markdown",
   "id": "832f6b3f",
   "metadata": {},
   "source": [
    "This is a empty List"
   ]
  },
  {
   "cell_type": "markdown",
   "id": "4ea1c745",
   "metadata": {},
   "source": [
    "2. In a list of values stored in a variable called spam, how would you assign the value 'hello' as the\n",
    "third value? (Assume [2, 4, 6, 8, 10] are in spam.)\n",
    "Let's pretend the spam includes the list ['a', 'b', 'c', 'd'] for the next three queries."
   ]
  },
  {
   "cell_type": "code",
   "execution_count": 34,
   "id": "a27e7e7b",
   "metadata": {},
   "outputs": [],
   "source": [
    "list = [1, 2, 34, 43]\n",
    "list1 = [1, 2, 34, 43]"
   ]
  },
  {
   "cell_type": "code",
   "execution_count": 6,
   "id": "8b05eb46",
   "metadata": {},
   "outputs": [],
   "source": [
    "list[2] = 'hello' #Method 1"
   ]
  },
  {
   "cell_type": "code",
   "execution_count": 7,
   "id": "c055333e",
   "metadata": {},
   "outputs": [
    {
     "data": {
      "text/plain": [
       "[1, 2, 'hello', 43]"
      ]
     },
     "execution_count": 7,
     "metadata": {},
     "output_type": "execute_result"
    }
   ],
   "source": [
    "list"
   ]
  },
  {
   "cell_type": "code",
   "execution_count": 37,
   "id": "ab840833",
   "metadata": {},
   "outputs": [],
   "source": [
    "list1.insert(2, 'hello') #Method 2"
   ]
  },
  {
   "cell_type": "code",
   "execution_count": 38,
   "id": "77b22dac",
   "metadata": {},
   "outputs": [
    {
     "data": {
      "text/plain": [
       "[1, 2, 'hello', 'hello1', 34, 43]"
      ]
     },
     "execution_count": 38,
     "metadata": {},
     "output_type": "execute_result"
    }
   ],
   "source": [
    "list1"
   ]
  },
  {
   "cell_type": "code",
   "execution_count": 11,
   "id": "185c90c5",
   "metadata": {},
   "outputs": [],
   "source": [
    "spam = ['a', 'b', 'c', 'd']"
   ]
  },
  {
   "cell_type": "markdown",
   "id": "42a5c874",
   "metadata": {},
   "source": [
    "3. What is the value of spam[int(int('3' * 2) / 11)]?"
   ]
  },
  {
   "cell_type": "code",
   "execution_count": 12,
   "id": "d9ca9775",
   "metadata": {},
   "outputs": [
    {
     "data": {
      "text/plain": [
       "'d'"
      ]
     },
     "execution_count": 12,
     "metadata": {},
     "output_type": "execute_result"
    }
   ],
   "source": [
    "spam[int(int('3' * 2) / 11)]"
   ]
  },
  {
   "cell_type": "markdown",
   "id": "2239e87a",
   "metadata": {},
   "source": [
    "4. What is the value of spam[-1]?"
   ]
  },
  {
   "cell_type": "code",
   "execution_count": 13,
   "id": "bb923a7e",
   "metadata": {},
   "outputs": [
    {
     "data": {
      "text/plain": [
       "'d'"
      ]
     },
     "execution_count": 13,
     "metadata": {},
     "output_type": "execute_result"
    }
   ],
   "source": [
    "spam[-1]"
   ]
  },
  {
   "cell_type": "markdown",
   "id": "840ecf95",
   "metadata": {},
   "source": [
    "5. What is the value of spam[:2]?"
   ]
  },
  {
   "cell_type": "code",
   "execution_count": 14,
   "id": "2ed71ae3",
   "metadata": {},
   "outputs": [
    {
     "data": {
      "text/plain": [
       "['a', 'b']"
      ]
     },
     "execution_count": 14,
     "metadata": {},
     "output_type": "execute_result"
    }
   ],
   "source": [
    "spam[:2]"
   ]
  },
  {
   "cell_type": "markdown",
   "id": "e0b88bfc",
   "metadata": {},
   "source": [
    "Let's pretend bacon has the list [3.14,'cat', 11, 'cat', True] for the next three questions.\n",
    "\n",
    "6. What is the value of bacon.index('cat')?"
   ]
  },
  {
   "cell_type": "code",
   "execution_count": 17,
   "id": "9707d846",
   "metadata": {},
   "outputs": [],
   "source": [
    "bacon = [3.14,'cat', 11, 'cat', True]"
   ]
  },
  {
   "cell_type": "code",
   "execution_count": 18,
   "id": "199a1aef",
   "metadata": {},
   "outputs": [
    {
     "data": {
      "text/plain": [
       "1"
      ]
     },
     "execution_count": 18,
     "metadata": {},
     "output_type": "execute_result"
    }
   ],
   "source": [
    "bacon.index('cat')"
   ]
  },
  {
   "cell_type": "markdown",
   "id": "dfc44573",
   "metadata": {},
   "source": [
    "7. How does bacon.append(99) change the look of the list value in bacon?"
   ]
  },
  {
   "cell_type": "code",
   "execution_count": 19,
   "id": "6b740093",
   "metadata": {},
   "outputs": [],
   "source": [
    "bacon.append(99)"
   ]
  },
  {
   "cell_type": "markdown",
   "id": "d4141d67",
   "metadata": {},
   "source": [
    "bacon.append(99) will add 99 to the end of the bacon list."
   ]
  },
  {
   "cell_type": "code",
   "execution_count": 20,
   "id": "8dce32a1",
   "metadata": {},
   "outputs": [
    {
     "data": {
      "text/plain": [
       "[3.14, 'cat', 11, 'cat', True, 99]"
      ]
     },
     "execution_count": 20,
     "metadata": {},
     "output_type": "execute_result"
    }
   ],
   "source": [
    "bacon"
   ]
  },
  {
   "cell_type": "code",
   "execution_count": 21,
   "id": "1e0b0522",
   "metadata": {},
   "outputs": [],
   "source": [
    "8. How does bacon.remove('cat') change the look of the list in bacon?"
   ]
  },
  {
   "cell_type": "code",
   "execution_count": 22,
   "id": "a9c7ced5",
   "metadata": {},
   "outputs": [],
   "source": [
    "bacon.remove('cat')"
   ]
  },
  {
   "cell_type": "markdown",
   "id": "5370e33d",
   "metadata": {},
   "source": [
    "It will remove first occurence of 'cat' from the list."
   ]
  },
  {
   "cell_type": "code",
   "execution_count": 23,
   "id": "e1f53c99",
   "metadata": {},
   "outputs": [
    {
     "data": {
      "text/plain": [
       "[3.14, 11, 'cat', True, 99]"
      ]
     },
     "execution_count": 23,
     "metadata": {},
     "output_type": "execute_result"
    }
   ],
   "source": [
    "bacon"
   ]
  },
  {
   "cell_type": "markdown",
   "id": "e31e41e7",
   "metadata": {},
   "source": [
    "9. What are the list concatenation and list replication operators?"
   ]
  },
  {
   "cell_type": "markdown",
   "id": "cd6cab14",
   "metadata": {},
   "source": [
    "List concatenation adds two or more than two lists."
   ]
  },
  {
   "cell_type": "code",
   "execution_count": 26,
   "id": "5f774541",
   "metadata": {},
   "outputs": [],
   "source": [
    "concatenated_list = bacon + spam"
   ]
  },
  {
   "cell_type": "code",
   "execution_count": 27,
   "id": "503436e9",
   "metadata": {},
   "outputs": [
    {
     "name": "stdout",
     "output_type": "stream",
     "text": [
      "[3.14, 11, 'cat', True, 99, 'a', 'b', 'c', 'd']\n"
     ]
    }
   ],
   "source": [
    "print(concatenated_list)"
   ]
  },
  {
   "cell_type": "markdown",
   "id": "9da0aa1b",
   "metadata": {},
   "source": [
    "List replication replicate the list for desired number of times."
   ]
  },
  {
   "cell_type": "code",
   "execution_count": 29,
   "id": "9e36831a",
   "metadata": {},
   "outputs": [],
   "source": [
    "list_replication = spam * 3\n",
    "list_replication1 = bacon * 3"
   ]
  },
  {
   "cell_type": "code",
   "execution_count": null,
   "id": "fac4ed68",
   "metadata": {},
   "outputs": [],
   "source": [
    "10. What is difference between the list methods append() and insert()?"
   ]
  },
  {
   "cell_type": "code",
   "execution_count": 39,
   "id": "0ce1513d",
   "metadata": {},
   "outputs": [],
   "source": [
    "list2 = [1, 2, 34, 43]"
   ]
  },
  {
   "cell_type": "markdown",
   "id": "556868b4",
   "metadata": {},
   "source": [
    "append() method is used to add elements to end of the list."
   ]
  },
  {
   "cell_type": "code",
   "execution_count": 40,
   "id": "dd2e4e4b",
   "metadata": {},
   "outputs": [],
   "source": [
    "list2.append('True')"
   ]
  },
  {
   "cell_type": "code",
   "execution_count": 42,
   "id": "9a8bdc8e",
   "metadata": {},
   "outputs": [
    {
     "data": {
      "text/plain": [
       "[1, 2, 34, 43, 'True']"
      ]
     },
     "execution_count": 42,
     "metadata": {},
     "output_type": "execute_result"
    }
   ],
   "source": [
    "list2"
   ]
  },
  {
   "cell_type": "markdown",
   "id": "85e77ba6",
   "metadata": {},
   "source": [
    "insert() command is used to add elements to the list in the given index."
   ]
  },
  {
   "cell_type": "code",
   "execution_count": 43,
   "id": "f3d8cc60",
   "metadata": {},
   "outputs": [],
   "source": [
    "list2.insert(2, \"orange\")"
   ]
  },
  {
   "cell_type": "code",
   "execution_count": 44,
   "id": "376c42ee",
   "metadata": {},
   "outputs": [
    {
     "data": {
      "text/plain": [
       "[1, 2, 'orange', 34, 43, 'True']"
      ]
     },
     "execution_count": 44,
     "metadata": {},
     "output_type": "execute_result"
    }
   ],
   "source": [
    "list2"
   ]
  },
  {
   "cell_type": "code",
   "execution_count": 45,
   "id": "3723943a",
   "metadata": {},
   "outputs": [],
   "source": [
    "11. What are the two methods for removing items from a list?"
   ]
  },
  {
   "cell_type": "markdown",
   "id": "edb4e19f",
   "metadata": {},
   "source": [
    "There are two methods of removing items from the list i.e.  pop() and remove()"
   ]
  },
  {
   "cell_type": "code",
   "execution_count": 46,
   "id": "f41e5fdd",
   "metadata": {},
   "outputs": [
    {
     "data": {
      "text/plain": [
       "'True'"
      ]
     },
     "execution_count": 46,
     "metadata": {},
     "output_type": "execute_result"
    }
   ],
   "source": [
    "list2.pop()"
   ]
  },
  {
   "cell_type": "code",
   "execution_count": 49,
   "id": "be6156d1",
   "metadata": {},
   "outputs": [],
   "source": [
    "list3 = ['hello', 'mohan', 'sohan', 'rohan', 'sohan', 'ramesh', 'sohan']"
   ]
  },
  {
   "cell_type": "code",
   "execution_count": 50,
   "id": "088d9694",
   "metadata": {},
   "outputs": [],
   "source": [
    "list3.remove('mohan')"
   ]
  },
  {
   "cell_type": "code",
   "execution_count": 51,
   "id": "a6408c1b",
   "metadata": {},
   "outputs": [
    {
     "data": {
      "text/plain": [
       "['hello', 'sohan', 'rohan', 'sohan', 'ramesh', 'sohan']"
      ]
     },
     "execution_count": 51,
     "metadata": {},
     "output_type": "execute_result"
    }
   ],
   "source": [
    "list3"
   ]
  },
  {
   "cell_type": "code",
   "execution_count": 52,
   "id": "34ab3b31",
   "metadata": {},
   "outputs": [],
   "source": [
    "list3.remove('sohan')"
   ]
  },
  {
   "cell_type": "code",
   "execution_count": 53,
   "id": "d8eace28",
   "metadata": {},
   "outputs": [
    {
     "data": {
      "text/plain": [
       "['hello', 'rohan', 'sohan', 'ramesh', 'sohan']"
      ]
     },
     "execution_count": 53,
     "metadata": {},
     "output_type": "execute_result"
    }
   ],
   "source": [
    "list3"
   ]
  },
  {
   "cell_type": "markdown",
   "id": "6187f95b",
   "metadata": {},
   "source": [
    "12. Describe how list values and string values are identical."
   ]
  },
  {
   "cell_type": "markdown",
   "id": "c1fca637",
   "metadata": {},
   "source": [
    "1. Both lists and strings can be passed to len()\n",
    "2. Have indexes and slices\n",
    "3. Can be used in for loops\n",
    "4. Can be concatenated or replicated\n",
    "5. Can be used with the in and not in operators"
   ]
  },
  {
   "cell_type": "code",
   "execution_count": 1,
   "id": "ea44acc4",
   "metadata": {},
   "outputs": [],
   "source": [
    "list = [2, 4, True, 'Boolean']"
   ]
  },
  {
   "cell_type": "code",
   "execution_count": 5,
   "id": "ae8b9c73",
   "metadata": {},
   "outputs": [
    {
     "data": {
      "text/plain": [
       "int"
      ]
     },
     "execution_count": 5,
     "metadata": {},
     "output_type": "execute_result"
    }
   ],
   "source": [
    "type(list[1])"
   ]
  },
  {
   "cell_type": "code",
   "execution_count": 6,
   "id": "d5947962",
   "metadata": {},
   "outputs": [],
   "source": [
    "string = 'Divyanshu'"
   ]
  },
  {
   "cell_type": "code",
   "execution_count": 9,
   "id": "f7269a0a",
   "metadata": {},
   "outputs": [
    {
     "data": {
      "text/plain": [
       "'aaaa'"
      ]
     },
     "execution_count": 9,
     "metadata": {},
     "output_type": "execute_result"
    }
   ],
   "source": [
    "string[4] * 4"
   ]
  },
  {
   "cell_type": "markdown",
   "id": "9bec1b4a",
   "metadata": {},
   "source": [
    "13. What's the difference between tuples and lists?"
   ]
  },
  {
   "cell_type": "markdown",
   "id": "3ce311ed",
   "metadata": {},
   "source": [
    "1. List are mutable while tuple are immutable.\n",
    "2. Tuple are faster because it is static in nature.\n",
    "3. List consumes more memory while tuple consumes less battery. \n",
    "4. Lists has several built-in methods while tuples not have much built-in methods."
   ]
  },
  {
   "cell_type": "code",
   "execution_count": 10,
   "id": "43833598",
   "metadata": {},
   "outputs": [],
   "source": [
    "list2 = [2, 4, True, 'Boolean', 'Ramesh']\n",
    "tuple1 = (2, 4, True, 'Boolean', 'Ramesh')"
   ]
  },
  {
   "cell_type": "code",
   "execution_count": 12,
   "id": "f3d8eea7",
   "metadata": {},
   "outputs": [
    {
     "ename": "TypeError",
     "evalue": "'tuple' object does not support item assignment",
     "output_type": "error",
     "traceback": [
      "\u001b[1;31m---------------------------------------------------------------------------\u001b[0m",
      "\u001b[1;31mTypeError\u001b[0m                                 Traceback (most recent call last)",
      "Input \u001b[1;32mIn [12]\u001b[0m, in \u001b[0;36m<cell line: 1>\u001b[1;34m()\u001b[0m\n\u001b[1;32m----> 1\u001b[0m tuple1[\u001b[38;5;241m3\u001b[39m] \u001b[38;5;241m=\u001b[39m \u001b[38;5;124m'\u001b[39m\u001b[38;5;124mRam\u001b[39m\u001b[38;5;124m'\u001b[39m\n",
      "\u001b[1;31mTypeError\u001b[0m: 'tuple' object does not support item assignment"
     ]
    }
   ],
   "source": [
    "tuple1[3] = 'Ram'"
   ]
  },
  {
   "cell_type": "code",
   "execution_count": 13,
   "id": "04eac2da",
   "metadata": {},
   "outputs": [],
   "source": [
    "list2[3] = 'Ram'"
   ]
  },
  {
   "cell_type": "code",
   "execution_count": 14,
   "id": "6e56f102",
   "metadata": {},
   "outputs": [
    {
     "data": {
      "text/plain": [
       "[2, 4, True, 'Ram', 'Ramesh']"
      ]
     },
     "execution_count": 14,
     "metadata": {},
     "output_type": "execute_result"
    }
   ],
   "source": [
    "list2"
   ]
  },
  {
   "cell_type": "markdown",
   "id": "c86dd887",
   "metadata": {},
   "source": [
    "15. How do you get a list value's tuple form? How do you get a tuple value's list form?"
   ]
  },
  {
   "cell_type": "code",
   "execution_count": 19,
   "id": "fe944d0c",
   "metadata": {},
   "outputs": [],
   "source": [
    "tuple2 = (2, 4, True, 'Boolean', 'Ramesh')\n",
    "list3 = []\n",
    "for i in tuple2:\n",
    "    list3.append(i)"
   ]
  },
  {
   "cell_type": "code",
   "execution_count": 22,
   "id": "6d6af4d1",
   "metadata": {},
   "outputs": [
    {
     "data": {
      "text/plain": [
       "[2, 4, True, 'Boolean', 'Ramesh']"
      ]
     },
     "execution_count": 22,
     "metadata": {},
     "output_type": "execute_result"
    }
   ],
   "source": [
    "list3"
   ]
  },
  {
   "cell_type": "code",
   "execution_count": 23,
   "id": "316a478f",
   "metadata": {},
   "outputs": [],
   "source": [
    "a = tuple(list3)"
   ]
  },
  {
   "cell_type": "code",
   "execution_count": 24,
   "id": "5ddff958",
   "metadata": {},
   "outputs": [
    {
     "data": {
      "text/plain": [
       "(2, 4, True, 'Boolean', 'Ramesh')"
      ]
     },
     "execution_count": 24,
     "metadata": {},
     "output_type": "execute_result"
    }
   ],
   "source": [
    "a"
   ]
  },
  {
   "cell_type": "markdown",
   "id": "1648d9b1",
   "metadata": {},
   "source": [
    "16. Variables that \"contain\" list values are not necessarily lists themselves. Instead, what do they contain?"
   ]
  },
  {
   "cell_type": "code",
   "execution_count": 29,
   "id": "6a0f2337",
   "metadata": {},
   "outputs": [],
   "source": [
    "b = ['abc', 'def'], ['ghi', 'jkl']"
   ]
  },
  {
   "cell_type": "code",
   "execution_count": 31,
   "id": "4d6a1cdb",
   "metadata": {},
   "outputs": [],
   "source": [
    "li1 = [1, 2, [3,5], 4]"
   ]
  },
  {
   "cell_type": "code",
   "execution_count": 32,
   "id": "6f38ebd5",
   "metadata": {},
   "outputs": [
    {
     "data": {
      "text/plain": [
       "list"
      ]
     },
     "execution_count": 32,
     "metadata": {},
     "output_type": "execute_result"
    }
   ],
   "source": [
    "type(li1)"
   ]
  },
  {
   "cell_type": "code",
   "execution_count": 30,
   "id": "dbccc3cf",
   "metadata": {},
   "outputs": [
    {
     "data": {
      "text/plain": [
       "tuple"
      ]
     },
     "execution_count": 30,
     "metadata": {},
     "output_type": "execute_result"
    }
   ],
   "source": [
    "type(b)"
   ]
  },
  {
   "cell_type": "markdown",
   "id": "62e5963d",
   "metadata": {},
   "source": [
    "They contain refernces to list values"
   ]
  },
  {
   "cell_type": "markdown",
   "id": "e20adf1f",
   "metadata": {},
   "source": [
    "17. How do you distinguish between copy.copy() and copy.deepcopy()?"
   ]
  },
  {
   "cell_type": "markdown",
   "id": "c6b161da",
   "metadata": {},
   "source": [
    "In copy.copy() also known as shallow copy, when we create copy of list1 as list2 and when we update the \n",
    "element of list1 then list2 element will also we updated as memory location of list1 and list2 is same.\n",
    "\n",
    "In copy.deepcopy() when we create a copy of list3 as list4 and when we update the  element of list3\n",
    "then list4 element will not be updated as memory location of list3 and list4 is different.\n",
    "\n",
    "In single dimension list(normal list), copy.copy() = copy.deepcopy()"
   ]
  },
  {
   "cell_type": "code",
   "execution_count": 3,
   "id": "3573a0bc",
   "metadata": {},
   "outputs": [],
   "source": [
    "## copy.copy()  in list\n",
    "\n",
    "lst1 = [1, 2, 3, 4]\n",
    "lst2 = lst1.copy()"
   ]
  },
  {
   "cell_type": "code",
   "execution_count": 4,
   "id": "bea1d6ed",
   "metadata": {},
   "outputs": [
    {
     "data": {
      "text/plain": [
       "[1, 2, 3, 4]"
      ]
     },
     "execution_count": 4,
     "metadata": {},
     "output_type": "execute_result"
    }
   ],
   "source": [
    "lst2"
   ]
  },
  {
   "cell_type": "code",
   "execution_count": 5,
   "id": "f76286d9",
   "metadata": {},
   "outputs": [],
   "source": [
    "lst2[1] = 1000"
   ]
  },
  {
   "cell_type": "code",
   "execution_count": 6,
   "id": "f8046c02",
   "metadata": {},
   "outputs": [
    {
     "data": {
      "text/plain": [
       "[1, 1000, 3, 4]"
      ]
     },
     "execution_count": 6,
     "metadata": {},
     "output_type": "execute_result"
    }
   ],
   "source": [
    "lst2"
   ]
  },
  {
   "cell_type": "code",
   "execution_count": 7,
   "id": "7780cb8c",
   "metadata": {},
   "outputs": [
    {
     "data": {
      "text/plain": [
       "[1, 2, 3, 4]"
      ]
     },
     "execution_count": 7,
     "metadata": {},
     "output_type": "execute_result"
    }
   ],
   "source": [
    "lst1"
   ]
  },
  {
   "cell_type": "code",
   "execution_count": 9,
   "id": "69a1df3d",
   "metadata": {},
   "outputs": [],
   "source": [
    "## copy.copy()  in nested list\n",
    "lst3 = [[1, 2, 3, 4], [5, 6, 7, 8]]\n",
    "lst4 = lst3.copy()"
   ]
  },
  {
   "cell_type": "code",
   "execution_count": 10,
   "id": "6216a7dd",
   "metadata": {},
   "outputs": [
    {
     "data": {
      "text/plain": [
       "[[1, 2, 3, 4], [5, 6, 7, 8]]"
      ]
     },
     "execution_count": 10,
     "metadata": {},
     "output_type": "execute_result"
    }
   ],
   "source": [
    "lst4"
   ]
  },
  {
   "cell_type": "code",
   "execution_count": 14,
   "id": "4c2ac071",
   "metadata": {},
   "outputs": [],
   "source": [
    "lst3[1][0] = 1000"
   ]
  },
  {
   "cell_type": "code",
   "execution_count": 15,
   "id": "91906561",
   "metadata": {},
   "outputs": [
    {
     "data": {
      "text/plain": [
       "[[1, 2, 3, 4], [1000, 6, 7, 8]]"
      ]
     },
     "execution_count": 15,
     "metadata": {},
     "output_type": "execute_result"
    }
   ],
   "source": [
    "lst3"
   ]
  },
  {
   "cell_type": "code",
   "execution_count": 16,
   "id": "c210d417",
   "metadata": {},
   "outputs": [
    {
     "data": {
      "text/plain": [
       "[[1, 2, 3, 4], [1000, 6, 7, 8]]"
      ]
     },
     "execution_count": 16,
     "metadata": {},
     "output_type": "execute_result"
    }
   ],
   "source": [
    "lst4"
   ]
  },
  {
   "cell_type": "code",
   "execution_count": 18,
   "id": "e09e0a9c",
   "metadata": {},
   "outputs": [],
   "source": [
    "lst3.append([9, 10, 11, 12])"
   ]
  },
  {
   "cell_type": "code",
   "execution_count": 19,
   "id": "7e2baa23",
   "metadata": {},
   "outputs": [
    {
     "data": {
      "text/plain": [
       "[[1, 2, 3, 4], [1000, 6, 7, 8], [9, 10, 11, 12]]"
      ]
     },
     "execution_count": 19,
     "metadata": {},
     "output_type": "execute_result"
    }
   ],
   "source": [
    "lst3"
   ]
  },
  {
   "cell_type": "code",
   "execution_count": 20,
   "id": "020b6e8f",
   "metadata": {},
   "outputs": [
    {
     "data": {
      "text/plain": [
       "[[1, 2, 3, 4], [1000, 6, 7, 8]]"
      ]
     },
     "execution_count": 20,
     "metadata": {},
     "output_type": "execute_result"
    }
   ],
   "source": [
    "lst4"
   ]
  },
  {
   "cell_type": "code",
   "execution_count": 21,
   "id": "246f4cef",
   "metadata": {},
   "outputs": [],
   "source": [
    "# copy.deepcopy() in list\n",
    "list5 = [13, 14, 15, 16]"
   ]
  },
  {
   "cell_type": "code",
   "execution_count": 25,
   "id": "55c62037",
   "metadata": {},
   "outputs": [],
   "source": [
    "import copy\n",
    "list6 = copy.deepcopy(list5)"
   ]
  },
  {
   "cell_type": "code",
   "execution_count": 26,
   "id": "b2901871",
   "metadata": {},
   "outputs": [
    {
     "data": {
      "text/plain": [
       "[13, 14, 15, 16]"
      ]
     },
     "execution_count": 26,
     "metadata": {},
     "output_type": "execute_result"
    }
   ],
   "source": [
    "list5"
   ]
  },
  {
   "cell_type": "code",
   "execution_count": 27,
   "id": "78fe7dfe",
   "metadata": {},
   "outputs": [
    {
     "data": {
      "text/plain": [
       "[13, 14, 15, 16]"
      ]
     },
     "execution_count": 27,
     "metadata": {},
     "output_type": "execute_result"
    }
   ],
   "source": [
    "list6"
   ]
  },
  {
   "cell_type": "code",
   "execution_count": 28,
   "id": "7f7356c3",
   "metadata": {},
   "outputs": [],
   "source": [
    "list5[1] = 565776"
   ]
  },
  {
   "cell_type": "code",
   "execution_count": 29,
   "id": "b59c78c0",
   "metadata": {},
   "outputs": [
    {
     "data": {
      "text/plain": [
       "[13, 565776, 15, 16]"
      ]
     },
     "execution_count": 29,
     "metadata": {},
     "output_type": "execute_result"
    }
   ],
   "source": [
    "list5"
   ]
  },
  {
   "cell_type": "code",
   "execution_count": 30,
   "id": "f41a1ff2",
   "metadata": {},
   "outputs": [
    {
     "data": {
      "text/plain": [
       "[13, 14, 15, 16]"
      ]
     },
     "execution_count": 30,
     "metadata": {},
     "output_type": "execute_result"
    }
   ],
   "source": [
    "list6"
   ]
  },
  {
   "cell_type": "code",
   "execution_count": null,
   "id": "d5d53b6d",
   "metadata": {},
   "outputs": [],
   "source": []
  }
 ],
 "metadata": {
  "kernelspec": {
   "display_name": "Python 3 (ipykernel)",
   "language": "python",
   "name": "python3"
  },
  "language_info": {
   "codemirror_mode": {
    "name": "ipython",
    "version": 3
   },
   "file_extension": ".py",
   "mimetype": "text/x-python",
   "name": "python",
   "nbconvert_exporter": "python",
   "pygments_lexer": "ipython3",
   "version": "3.9.12"
  }
 },
 "nbformat": 4,
 "nbformat_minor": 5
}
